{
  "cells": [
    {
      "cell_type": "markdown",
      "metadata": {
        "id": "view-in-github",
        "colab_type": "text"
      },
      "source": [
        "<a href=\"https://colab.research.google.com/github/Karthikbv29/Batch108/blob/main/ModelBuilding_BackOrdersData.ipynb\" target=\"_parent\"><img src=\"https://colab.research.google.com/assets/colab-badge.svg\" alt=\"Open In Colab\"/></a>"
      ]
    },
    {
      "cell_type": "markdown",
      "metadata": {
        "id": "XYVx5Sp_seq4"
      },
      "source": [
        "#### Import the required modules"
      ]
    },
    {
      "cell_type": "code",
      "execution_count": null,
      "metadata": {
        "id": "ny_JAei9seq7"
      },
      "outputs": [],
      "source": [
        "import pandas as pd\n",
        "import numpy as np\n",
        "from sklearn.model_selection import train_test_split\n",
        "from sklearn.metrics import confusion_matrix, roc_curve, auc,recall_score\n",
        "\n",
        "import tensorflow as tf\n",
        "from tensorflow.keras.models import Sequential\n",
        "from tensorflow.keras.layers import Dense\n",
        "## For Grid Search\n",
        "from keras.wrappers.scikit_learn import KerasClassifier\n",
        "from sklearn.model_selection import GridSearchCV\n",
        "import matplotlib.pyplot as plt\n",
        "%matplotlib inline "
      ]
    },
    {
      "cell_type": "code",
      "execution_count": null,
      "metadata": {
        "colab": {
          "base_uri": "https://localhost:8080/",
          "height": 35
        },
        "id": "JFBIWswiseq9",
        "outputId": "cbdf4378-7341-42e7-ef3f-d048e893a399"
      },
      "outputs": [
        {
          "output_type": "execute_result",
          "data": {
            "text/plain": [
              "'2.8.2'"
            ],
            "application/vnd.google.colaboratory.intrinsic+json": {
              "type": "string"
            }
          },
          "metadata": {},
          "execution_count": 2
        }
      ],
      "source": [
        "tf.__version__"
      ]
    },
    {
      "cell_type": "markdown",
      "metadata": {
        "id": "DMNZNiIbseq-"
      },
      "source": [
        "#### Load the data"
      ]
    },
    {
      "cell_type": "code",
      "execution_count": null,
      "metadata": {
        "colab": {
          "base_uri": "https://localhost:8080/",
          "height": 237
        },
        "id": "xBzWnowhseq-",
        "outputId": "7bba4bdd-646a-4161-c5ad-59d571795f9a"
      },
      "outputs": [
        {
          "output_type": "execute_result",
          "data": {
            "text/plain": [
              "       sku  national_inv  lead_time  in_transit_qty  forecast_3_month  \\\n",
              "0  1888279           117        NaN               0                 0   \n",
              "1  1870557             7        2.0               0                 0   \n",
              "2  1475481           258       15.0              10                10   \n",
              "\n",
              "   forecast_6_month  forecast_9_month  sales_1_month  sales_3_month  \\\n",
              "0                 0                 0              0              0   \n",
              "1                 0                 0              0              0   \n",
              "2                77               184             46            132   \n",
              "\n",
              "   sales_6_month  ...  pieces_past_due  perf_6_month_avg perf_12_month_avg  \\\n",
              "0             15  ...                0            -99.00            -99.00   \n",
              "1              0  ...                0              0.50              0.28   \n",
              "2            256  ...                0              0.54              0.70   \n",
              "\n",
              "   local_bo_qty  deck_risk  oe_constraint  ppap_risk stop_auto_buy rev_stop  \\\n",
              "0             0         No             No        Yes           Yes       No   \n",
              "1             0        Yes             No         No           Yes       No   \n",
              "2             0         No             No         No           Yes       No   \n",
              "\n",
              "  went_on_backorder  \n",
              "0                No  \n",
              "1                No  \n",
              "2                No  \n",
              "\n",
              "[3 rows x 23 columns]"
            ],
            "text/html": [
              "\n",
              "  <div id=\"df-da6ebace-3b54-4211-ab70-15af0baaa9d5\">\n",
              "    <div class=\"colab-df-container\">\n",
              "      <div>\n",
              "<style scoped>\n",
              "    .dataframe tbody tr th:only-of-type {\n",
              "        vertical-align: middle;\n",
              "    }\n",
              "\n",
              "    .dataframe tbody tr th {\n",
              "        vertical-align: top;\n",
              "    }\n",
              "\n",
              "    .dataframe thead th {\n",
              "        text-align: right;\n",
              "    }\n",
              "</style>\n",
              "<table border=\"1\" class=\"dataframe\">\n",
              "  <thead>\n",
              "    <tr style=\"text-align: right;\">\n",
              "      <th></th>\n",
              "      <th>sku</th>\n",
              "      <th>national_inv</th>\n",
              "      <th>lead_time</th>\n",
              "      <th>in_transit_qty</th>\n",
              "      <th>forecast_3_month</th>\n",
              "      <th>forecast_6_month</th>\n",
              "      <th>forecast_9_month</th>\n",
              "      <th>sales_1_month</th>\n",
              "      <th>sales_3_month</th>\n",
              "      <th>sales_6_month</th>\n",
              "      <th>...</th>\n",
              "      <th>pieces_past_due</th>\n",
              "      <th>perf_6_month_avg</th>\n",
              "      <th>perf_12_month_avg</th>\n",
              "      <th>local_bo_qty</th>\n",
              "      <th>deck_risk</th>\n",
              "      <th>oe_constraint</th>\n",
              "      <th>ppap_risk</th>\n",
              "      <th>stop_auto_buy</th>\n",
              "      <th>rev_stop</th>\n",
              "      <th>went_on_backorder</th>\n",
              "    </tr>\n",
              "  </thead>\n",
              "  <tbody>\n",
              "    <tr>\n",
              "      <th>0</th>\n",
              "      <td>1888279</td>\n",
              "      <td>117</td>\n",
              "      <td>NaN</td>\n",
              "      <td>0</td>\n",
              "      <td>0</td>\n",
              "      <td>0</td>\n",
              "      <td>0</td>\n",
              "      <td>0</td>\n",
              "      <td>0</td>\n",
              "      <td>15</td>\n",
              "      <td>...</td>\n",
              "      <td>0</td>\n",
              "      <td>-99.00</td>\n",
              "      <td>-99.00</td>\n",
              "      <td>0</td>\n",
              "      <td>No</td>\n",
              "      <td>No</td>\n",
              "      <td>Yes</td>\n",
              "      <td>Yes</td>\n",
              "      <td>No</td>\n",
              "      <td>No</td>\n",
              "    </tr>\n",
              "    <tr>\n",
              "      <th>1</th>\n",
              "      <td>1870557</td>\n",
              "      <td>7</td>\n",
              "      <td>2.0</td>\n",
              "      <td>0</td>\n",
              "      <td>0</td>\n",
              "      <td>0</td>\n",
              "      <td>0</td>\n",
              "      <td>0</td>\n",
              "      <td>0</td>\n",
              "      <td>0</td>\n",
              "      <td>...</td>\n",
              "      <td>0</td>\n",
              "      <td>0.50</td>\n",
              "      <td>0.28</td>\n",
              "      <td>0</td>\n",
              "      <td>Yes</td>\n",
              "      <td>No</td>\n",
              "      <td>No</td>\n",
              "      <td>Yes</td>\n",
              "      <td>No</td>\n",
              "      <td>No</td>\n",
              "    </tr>\n",
              "    <tr>\n",
              "      <th>2</th>\n",
              "      <td>1475481</td>\n",
              "      <td>258</td>\n",
              "      <td>15.0</td>\n",
              "      <td>10</td>\n",
              "      <td>10</td>\n",
              "      <td>77</td>\n",
              "      <td>184</td>\n",
              "      <td>46</td>\n",
              "      <td>132</td>\n",
              "      <td>256</td>\n",
              "      <td>...</td>\n",
              "      <td>0</td>\n",
              "      <td>0.54</td>\n",
              "      <td>0.70</td>\n",
              "      <td>0</td>\n",
              "      <td>No</td>\n",
              "      <td>No</td>\n",
              "      <td>No</td>\n",
              "      <td>Yes</td>\n",
              "      <td>No</td>\n",
              "      <td>No</td>\n",
              "    </tr>\n",
              "  </tbody>\n",
              "</table>\n",
              "<p>3 rows × 23 columns</p>\n",
              "</div>\n",
              "      <button class=\"colab-df-convert\" onclick=\"convertToInteractive('df-da6ebace-3b54-4211-ab70-15af0baaa9d5')\"\n",
              "              title=\"Convert this dataframe to an interactive table.\"\n",
              "              style=\"display:none;\">\n",
              "        \n",
              "  <svg xmlns=\"http://www.w3.org/2000/svg\" height=\"24px\"viewBox=\"0 0 24 24\"\n",
              "       width=\"24px\">\n",
              "    <path d=\"M0 0h24v24H0V0z\" fill=\"none\"/>\n",
              "    <path d=\"M18.56 5.44l.94 2.06.94-2.06 2.06-.94-2.06-.94-.94-2.06-.94 2.06-2.06.94zm-11 1L8.5 8.5l.94-2.06 2.06-.94-2.06-.94L8.5 2.5l-.94 2.06-2.06.94zm10 10l.94 2.06.94-2.06 2.06-.94-2.06-.94-.94-2.06-.94 2.06-2.06.94z\"/><path d=\"M17.41 7.96l-1.37-1.37c-.4-.4-.92-.59-1.43-.59-.52 0-1.04.2-1.43.59L10.3 9.45l-7.72 7.72c-.78.78-.78 2.05 0 2.83L4 21.41c.39.39.9.59 1.41.59.51 0 1.02-.2 1.41-.59l7.78-7.78 2.81-2.81c.8-.78.8-2.07 0-2.86zM5.41 20L4 18.59l7.72-7.72 1.47 1.35L5.41 20z\"/>\n",
              "  </svg>\n",
              "      </button>\n",
              "      \n",
              "  <style>\n",
              "    .colab-df-container {\n",
              "      display:flex;\n",
              "      flex-wrap:wrap;\n",
              "      gap: 12px;\n",
              "    }\n",
              "\n",
              "    .colab-df-convert {\n",
              "      background-color: #E8F0FE;\n",
              "      border: none;\n",
              "      border-radius: 50%;\n",
              "      cursor: pointer;\n",
              "      display: none;\n",
              "      fill: #1967D2;\n",
              "      height: 32px;\n",
              "      padding: 0 0 0 0;\n",
              "      width: 32px;\n",
              "    }\n",
              "\n",
              "    .colab-df-convert:hover {\n",
              "      background-color: #E2EBFA;\n",
              "      box-shadow: 0px 1px 2px rgba(60, 64, 67, 0.3), 0px 1px 3px 1px rgba(60, 64, 67, 0.15);\n",
              "      fill: #174EA6;\n",
              "    }\n",
              "\n",
              "    [theme=dark] .colab-df-convert {\n",
              "      background-color: #3B4455;\n",
              "      fill: #D2E3FC;\n",
              "    }\n",
              "\n",
              "    [theme=dark] .colab-df-convert:hover {\n",
              "      background-color: #434B5C;\n",
              "      box-shadow: 0px 1px 3px 1px rgba(0, 0, 0, 0.15);\n",
              "      filter: drop-shadow(0px 1px 2px rgba(0, 0, 0, 0.3));\n",
              "      fill: #FFFFFF;\n",
              "    }\n",
              "  </style>\n",
              "\n",
              "      <script>\n",
              "        const buttonEl =\n",
              "          document.querySelector('#df-da6ebace-3b54-4211-ab70-15af0baaa9d5 button.colab-df-convert');\n",
              "        buttonEl.style.display =\n",
              "          google.colab.kernel.accessAllowed ? 'block' : 'none';\n",
              "\n",
              "        async function convertToInteractive(key) {\n",
              "          const element = document.querySelector('#df-da6ebace-3b54-4211-ab70-15af0baaa9d5');\n",
              "          const dataTable =\n",
              "            await google.colab.kernel.invokeFunction('convertToInteractive',\n",
              "                                                     [key], {});\n",
              "          if (!dataTable) return;\n",
              "\n",
              "          const docLinkHtml = 'Like what you see? Visit the ' +\n",
              "            '<a target=\"_blank\" href=https://colab.research.google.com/notebooks/data_table.ipynb>data table notebook</a>'\n",
              "            + ' to learn more about interactive tables.';\n",
              "          element.innerHTML = '';\n",
              "          dataTable['output_type'] = 'display_data';\n",
              "          await google.colab.output.renderOutput(dataTable, element);\n",
              "          const docLink = document.createElement('div');\n",
              "          docLink.innerHTML = docLinkHtml;\n",
              "          element.appendChild(docLink);\n",
              "        }\n",
              "      </script>\n",
              "    </div>\n",
              "  </div>\n",
              "  "
            ]
          },
          "metadata": {},
          "execution_count": 3
        }
      ],
      "source": [
        "data1=pd.read_csv(\"BackOrders.csv\")\n",
        "data1.head(3)"
      ]
    },
    {
      "cell_type": "code",
      "source": [],
      "metadata": {
        "id": "QGGdmSJCf6vr"
      },
      "execution_count": null,
      "outputs": []
    },
    {
      "cell_type": "code",
      "execution_count": null,
      "metadata": {
        "colab": {
          "base_uri": "https://localhost:8080/"
        },
        "id": "SBvh0t2wseq-",
        "outputId": "c34b490b-ad90-401e-c387-f93b3879d24c"
      },
      "outputs": [
        {
          "output_type": "execute_result",
          "data": {
            "text/plain": [
              "sku                    int64\n",
              "national_inv           int64\n",
              "lead_time            float64\n",
              "in_transit_qty         int64\n",
              "forecast_3_month       int64\n",
              "forecast_6_month       int64\n",
              "forecast_9_month       int64\n",
              "sales_1_month          int64\n",
              "sales_3_month          int64\n",
              "sales_6_month          int64\n",
              "sales_9_month          int64\n",
              "min_bank               int64\n",
              "potential_issue       object\n",
              "pieces_past_due        int64\n",
              "perf_6_month_avg     float64\n",
              "perf_12_month_avg    float64\n",
              "local_bo_qty           int64\n",
              "deck_risk             object\n",
              "oe_constraint         object\n",
              "ppap_risk             object\n",
              "stop_auto_buy         object\n",
              "rev_stop              object\n",
              "went_on_backorder     object\n",
              "dtype: object"
            ]
          },
          "metadata": {},
          "execution_count": 4
        }
      ],
      "source": [
        "# Check data type of each attribute\n",
        "data1.dtypes"
      ]
    },
    {
      "cell_type": "markdown",
      "metadata": {
        "id": "DDCJpjj1seq_"
      },
      "source": [
        "#### Convert all the attributes to appropriate type"
      ]
    },
    {
      "cell_type": "markdown",
      "metadata": {
        "id": "PDh-kwUeserA"
      },
      "source": [
        "Data type conversion\n",
        "\n",
        "    Using astype('category') to convert potential_issue, deck_risk, oe_constraint, ppap_risk, stop_auto_buy, rev_stop, and went_on_backorder attributes to categorical attributes.\n"
      ]
    },
    {
      "cell_type": "code",
      "execution_count": null,
      "metadata": {
        "id": "WQqtTcJeserA"
      },
      "outputs": [],
      "source": [
        "for col in ['potential_issue', 'deck_risk', 'oe_constraint', 'ppap_risk', 'stop_auto_buy', 'rev_stop', 'went_on_backorder']:\n",
        "    data1[col] = data1[col].astype('category')"
      ]
    },
    {
      "cell_type": "markdown",
      "metadata": {
        "id": "T5djgAZbserB"
      },
      "source": [
        "##### Display data type of each variable"
      ]
    },
    {
      "cell_type": "code",
      "execution_count": null,
      "metadata": {
        "colab": {
          "base_uri": "https://localhost:8080/"
        },
        "id": "do7NEE0nserB",
        "outputId": "7925c4c5-1409-44b3-a66f-8bbb56e63829"
      },
      "outputs": [
        {
          "output_type": "execute_result",
          "data": {
            "text/plain": [
              "sku                     int64\n",
              "national_inv            int64\n",
              "lead_time             float64\n",
              "in_transit_qty          int64\n",
              "forecast_3_month        int64\n",
              "forecast_6_month        int64\n",
              "forecast_9_month        int64\n",
              "sales_1_month           int64\n",
              "sales_3_month           int64\n",
              "sales_6_month           int64\n",
              "sales_9_month           int64\n",
              "min_bank                int64\n",
              "potential_issue      category\n",
              "pieces_past_due         int64\n",
              "perf_6_month_avg      float64\n",
              "perf_12_month_avg     float64\n",
              "local_bo_qty            int64\n",
              "deck_risk            category\n",
              "oe_constraint        category\n",
              "ppap_risk            category\n",
              "stop_auto_buy        category\n",
              "rev_stop             category\n",
              "went_on_backorder    category\n",
              "dtype: object"
            ]
          },
          "metadata": {},
          "execution_count": 6
        }
      ],
      "source": [
        "#Display data type of each variable\n",
        "data1.dtypes"
      ]
    },
    {
      "cell_type": "code",
      "execution_count": null,
      "metadata": {
        "colab": {
          "base_uri": "https://localhost:8080/"
        },
        "id": "Avjxdh58serC",
        "outputId": "8808dcab-5755-4f7f-9a20-fb4b6ba0e5fe"
      },
      "outputs": [
        {
          "output_type": "execute_result",
          "data": {
            "text/plain": [
              "61589"
            ]
          },
          "metadata": {},
          "execution_count": 7
        }
      ],
      "source": [
        "#### Delete sku attribute\n",
        "np.size(np.unique(data1.sku, return_counts=True)[0])"
      ]
    },
    {
      "cell_type": "code",
      "source": [
        "data1.nunique()"
      ],
      "metadata": {
        "colab": {
          "base_uri": "https://localhost:8080/"
        },
        "id": "PH_Xt9u6tOdE",
        "outputId": "5310e83e-b6b2-4193-b2fb-aefcc6d9f423"
      },
      "execution_count": null,
      "outputs": [
        {
          "output_type": "execute_result",
          "data": {
            "text/plain": [
              "sku                  61589\n",
              "national_inv          2916\n",
              "lead_time               28\n",
              "in_transit_qty         908\n",
              "forecast_3_month      1623\n",
              "forecast_6_month      2195\n",
              "forecast_9_month      2664\n",
              "sales_1_month         1092\n",
              "sales_3_month         1928\n",
              "sales_6_month         2679\n",
              "sales_9_month         3220\n",
              "min_bank              1098\n",
              "potential_issue          2\n",
              "pieces_past_due        190\n",
              "perf_6_month_avg       102\n",
              "perf_12_month_avg      102\n",
              "local_bo_qty           201\n",
              "deck_risk                2\n",
              "oe_constraint            2\n",
              "ppap_risk                2\n",
              "stop_auto_buy            2\n",
              "rev_stop                 2\n",
              "went_on_backorder        2\n",
              "dtype: int64"
            ]
          },
          "metadata": {},
          "execution_count": 9
        }
      ]
    },
    {
      "cell_type": "code",
      "execution_count": null,
      "metadata": {
        "id": "E2xfDN3MserC"
      },
      "outputs": [],
      "source": [
        "data1.drop('sku', axis=1, inplace=True)"
      ]
    },
    {
      "cell_type": "code",
      "execution_count": null,
      "metadata": {
        "colab": {
          "base_uri": "https://localhost:8080/"
        },
        "id": "Z52aHn4bserC",
        "outputId": "b482b512-67de-48c0-ed33-47a1f504a8bd"
      },
      "outputs": [
        {
          "output_type": "execute_result",
          "data": {
            "text/plain": [
              "national_inv            0\n",
              "lead_time            3403\n",
              "in_transit_qty          0\n",
              "forecast_3_month        0\n",
              "forecast_6_month        0\n",
              "forecast_9_month        0\n",
              "sales_1_month           0\n",
              "sales_3_month           0\n",
              "sales_6_month           0\n",
              "sales_9_month           0\n",
              "min_bank                0\n",
              "potential_issue         0\n",
              "pieces_past_due         0\n",
              "perf_6_month_avg        0\n",
              "perf_12_month_avg       0\n",
              "local_bo_qty            0\n",
              "deck_risk               0\n",
              "oe_constraint           0\n",
              "ppap_risk               0\n",
              "stop_auto_buy           0\n",
              "rev_stop                0\n",
              "went_on_backorder       0\n",
              "dtype: int64"
            ]
          },
          "metadata": {},
          "execution_count": 11
        }
      ],
      "source": [
        "#### Missing value analysis and dropping the records with missing values\n",
        "data1.isnull().sum()"
      ]
    },
    {
      "cell_type": "code",
      "execution_count": null,
      "metadata": {
        "id": "FUguwm69serC"
      },
      "outputs": [],
      "source": [
        "#Since the number of missing values is about 5%. For initial analysis we ignore all these records\n",
        "data1 = data1.dropna(axis=0)"
      ]
    },
    {
      "cell_type": "markdown",
      "metadata": {
        "id": "lPShBYGcserD"
      },
      "source": [
        "#### For neural networks we require the data to be in numeric form"
      ]
    },
    {
      "cell_type": "code",
      "execution_count": null,
      "metadata": {
        "colab": {
          "base_uri": "https://localhost:8080/"
        },
        "id": "YaSzLynPserD",
        "outputId": "394cc84d-79a5-4463-b0d0-0d7a9c26c896"
      },
      "outputs": [
        {
          "output_type": "stream",
          "name": "stdout",
          "text": [
            "Index(['forecast_3_month', 'forecast_6_month', 'forecast_9_month',\n",
            "       'in_transit_qty', 'lead_time', 'local_bo_qty', 'min_bank',\n",
            "       'national_inv', 'perf_12_month_avg', 'perf_6_month_avg',\n",
            "       'pieces_past_due', 'sales_1_month', 'sales_3_month', 'sales_6_month',\n",
            "       'sales_9_month'],\n",
            "      dtype='object')\n",
            "\n",
            "\n",
            "['potential_issue', 'deck_risk', 'oe_constraint', 'ppap_risk', 'stop_auto_buy', 'rev_stop']\n"
          ]
        }
      ],
      "source": [
        "cat_attr= ['potential_issue', 'deck_risk', 'oe_constraint',\n",
        "           'ppap_risk', 'stop_auto_buy', 'rev_stop', 'went_on_backorder']\n",
        "num_attr=data1.columns.difference(cat_attr)\n",
        "cat_attr.pop()\n",
        "\n",
        "print(num_attr)\n",
        "\n",
        "print(\"\\n\")\n",
        "print(cat_attr)"
      ]
    },
    {
      "cell_type": "markdown",
      "metadata": {
        "id": "VHvvmeYOserD"
      },
      "source": [
        "#### Data preprocessing for numeric and categorical using pipelines"
      ]
    },
    {
      "cell_type": "code",
      "execution_count": null,
      "metadata": {
        "id": "08tBN3RzserD"
      },
      "outputs": [],
      "source": [
        "from sklearn.preprocessing import StandardScaler, OneHotEncoder\n",
        "from sklearn.pipeline import Pipeline\n",
        "from sklearn.compose import ColumnTransformer\n",
        "numeric_transformer = Pipeline(steps=[\n",
        "                                      ('scale',StandardScaler()) ])\n",
        "\n",
        "categorical_transformer = Pipeline(steps=[\n",
        "                                         ('ohe',OneHotEncoder(handle_unknown='ignore'))])\n",
        "\n",
        "preprocessor = ColumnTransformer(transformers=[('num',numeric_transformer,num_attr) ,\n",
        "                                              ('cat',categorical_transformer,cat_attr)])"
      ]
    },
    {
      "cell_type": "code",
      "execution_count": null,
      "metadata": {
        "colab": {
          "base_uri": "https://localhost:8080/"
        },
        "id": "WRA26Ib3serE",
        "outputId": "07dea600-a192-4f7b-8a20-cde7ae67effd"
      },
      "outputs": [
        {
          "output_type": "execute_result",
          "data": {
            "text/plain": [
              "ColumnTransformer(transformers=[('num',\n",
              "                                 Pipeline(steps=[('scale', StandardScaler())]),\n",
              "                                 Index(['forecast_3_month', 'forecast_6_month', 'forecast_9_month',\n",
              "       'in_transit_qty', 'lead_time', 'local_bo_qty', 'min_bank',\n",
              "       'national_inv', 'perf_12_month_avg', 'perf_6_month_avg',\n",
              "       'pieces_past_due', 'sales_1_month', 'sales_3_month', 'sales_6_month',\n",
              "       'sales_9_month'],\n",
              "      dtype='object')),\n",
              "                                ('cat',\n",
              "                                 Pipeline(steps=[('ohe',\n",
              "                                                  OneHotEncoder(handle_unknown='ignore'))]),\n",
              "                                 ['potential_issue', 'deck_risk',\n",
              "                                  'oe_constraint', 'ppap_risk', 'stop_auto_buy',\n",
              "                                  'rev_stop'])])"
            ]
          },
          "metadata": {},
          "execution_count": 15
        }
      ],
      "source": [
        "preprocessor"
      ]
    },
    {
      "cell_type": "code",
      "execution_count": null,
      "metadata": {
        "id": "HTqhO_euserE"
      },
      "outputs": [],
      "source": [
        "#Performing train test split on the data\n",
        "X, y = data1.loc[:,data1.columns!='went_on_backorder'], data1.loc[:,'went_on_backorder']\n",
        "\n",
        "X_train, X_test, y_train, y_test = train_test_split(X, y, test_size=0.3, random_state=123)\n"
      ]
    },
    {
      "cell_type": "code",
      "execution_count": null,
      "metadata": {
        "id": "qWSz7X6gserE"
      },
      "outputs": [],
      "source": [
        "X_train = preprocessor.fit_transform(X_train)\n",
        "X_test = preprocessor.fit_transform(X_test)"
      ]
    },
    {
      "cell_type": "code",
      "execution_count": null,
      "metadata": {
        "id": "pt1WgP0SserE"
      },
      "outputs": [],
      "source": [
        "y_test=y_test.replace({'Yes':1,'No':0})\n",
        "y_train=y_train.replace({'Yes':1,'No':0})"
      ]
    },
    {
      "cell_type": "code",
      "execution_count": null,
      "metadata": {
        "id": "HIKEJQnUserF"
      },
      "outputs": [],
      "source": [
        "## Convert to numeric\n",
        "y_train=y_train.values\n",
        "y_test=y_test.values"
      ]
    },
    {
      "cell_type": "code",
      "execution_count": null,
      "metadata": {
        "id": "xVEW2RArserF",
        "outputId": "f0156dbd-4773-4099-852f-35285debca2c"
      },
      "outputs": [
        {
          "data": {
            "text/plain": [
              "array([0, 1, 1, ..., 1, 1, 0])"
            ]
          },
          "execution_count": 109,
          "metadata": {},
          "output_type": "execute_result"
        }
      ],
      "source": [
        "y_train"
      ]
    },
    {
      "cell_type": "code",
      "execution_count": null,
      "metadata": {
        "id": "cFFbxKWbserF"
      },
      "outputs": [],
      "source": [
        "train=X_train\n",
        "test=X_test"
      ]
    },
    {
      "cell_type": "code",
      "execution_count": null,
      "metadata": {
        "id": "PXKBevOHserF",
        "outputId": "687f438f-26aa-4e67-c560-5b093961453d"
      },
      "outputs": [
        {
          "name": "stdout",
          "output_type": "stream",
          "text": [
            "(40730, 27)\n",
            "(17456, 27)\n"
          ]
        }
      ],
      "source": [
        "print(train.shape)\n",
        "\n",
        "print(test.shape)\n"
      ]
    },
    {
      "cell_type": "markdown",
      "metadata": {
        "id": "nyMBQyZDserF"
      },
      "source": [
        "### Perceptron Model (MLP) "
      ]
    },
    {
      "cell_type": "code",
      "execution_count": null,
      "metadata": {
        "id": "Xv1Ctm87serF"
      },
      "outputs": [],
      "source": [
        "perceptron_model = Sequential()\n",
        "perceptron_model.add(Dense(1, input_dim=27, activation='tanh'))\n",
        "perceptron_model.add(Dense(1, activation='sigmoid'))"
      ]
    },
    {
      "cell_type": "code",
      "execution_count": null,
      "metadata": {
        "id": "9uHDq0RuserF"
      },
      "outputs": [],
      "source": [
        "perceptron_model.compile(loss='binary_crossentropy', \n",
        "                         optimizer='sgd', \n",
        "                         metrics=['accuracy'])"
      ]
    },
    {
      "cell_type": "code",
      "execution_count": null,
      "metadata": {
        "id": "tixGI7wQserG",
        "outputId": "92c4ab00-16e1-49b8-93fa-e21382cda390"
      },
      "outputs": [
        {
          "name": "stdout",
          "output_type": "stream",
          "text": [
            "_________________________________________________________________\n",
            "Layer (type)                 Output Shape              Param #   \n",
            "=================================================================\n",
            "dense_8 (Dense)              (None, 1)                 28        \n",
            "_________________________________________________________________\n",
            "dense_9 (Dense)              (None, 1)                 2         \n",
            "=================================================================\n",
            "Total params: 30\n",
            "Trainable params: 30\n",
            "Non-trainable params: 0\n",
            "_________________________________________________________________\n"
          ]
        }
      ],
      "source": [
        "perceptron_model.summary()"
      ]
    },
    {
      "cell_type": "code",
      "execution_count": null,
      "metadata": {
        "id": "oJLzj8z2serG",
        "outputId": "b5f9a454-1b0e-4678-ca97-e0b4f837ee67"
      },
      "outputs": [
        {
          "name": "stdout",
          "output_type": "stream",
          "text": [
            "Train on 32584 samples, validate on 8146 samples\n",
            "Epoch 1/50\n",
            "32584/32584 [==============================] - 2s 58us/sample - loss: 0.5306 - acc: 0.7952 - val_loss: 0.4862 - val_acc: 0.8110\n",
            "Epoch 2/50\n",
            "32584/32584 [==============================] - 2s 56us/sample - loss: 0.4829 - acc: 0.8121 - val_loss: 0.4831 - val_acc: 0.8110\n",
            "Epoch 3/50\n",
            "32584/32584 [==============================] - 2s 50us/sample - loss: 0.4818 - acc: 0.8121 - val_loss: 0.4825 - val_acc: 0.8110\n",
            "Epoch 4/50\n",
            "32584/32584 [==============================] - 2s 52us/sample - loss: 0.4812 - acc: 0.8121 - val_loss: 0.4818 - val_acc: 0.8110\n",
            "Epoch 5/50\n",
            "32584/32584 [==============================] - 2s 49us/sample - loss: 0.4806 - acc: 0.8121 - val_loss: 0.4810 - val_acc: 0.8110\n",
            "Epoch 6/50\n",
            "32584/32584 [==============================] - 2s 49us/sample - loss: 0.4798 - acc: 0.8121 - val_loss: 0.4802 - val_acc: 0.8110\n",
            "Epoch 7/50\n",
            "32584/32584 [==============================] - 2s 51us/sample - loss: 0.4789 - acc: 0.8121 - val_loss: 0.4792 - val_acc: 0.8110\n",
            "Epoch 8/50\n",
            "32584/32584 [==============================] - 2s 49us/sample - loss: 0.4779 - acc: 0.8121 - val_loss: 0.4781 - val_acc: 0.8110\n",
            "Epoch 9/50\n",
            "32584/32584 [==============================] - 2s 52us/sample - loss: 0.4769 - acc: 0.8121 - val_loss: 0.4770 - val_acc: 0.8110\n",
            "Epoch 10/50\n",
            "32584/32584 [==============================] - 2s 55us/sample - loss: 0.4758 - acc: 0.8121 - val_loss: 0.4757 - val_acc: 0.8110\n",
            "Epoch 11/50\n",
            "32584/32584 [==============================] - 2s 52us/sample - loss: 0.4746 - acc: 0.8121 - val_loss: 0.4743 - val_acc: 0.8110\n",
            "Epoch 12/50\n",
            "32584/32584 [==============================] - 2s 56us/sample - loss: 0.4733 - acc: 0.8121 - val_loss: 0.4730 - val_acc: 0.8110\n",
            "Epoch 13/50\n",
            "32584/32584 [==============================] - 2s 50us/sample - loss: 0.4719 - acc: 0.8121 - val_loss: 0.4717 - val_acc: 0.8110\n",
            "Epoch 14/50\n",
            "32584/32584 [==============================] - 2s 55us/sample - loss: 0.4706 - acc: 0.8121 - val_loss: 0.4704 - val_acc: 0.8110\n",
            "Epoch 15/50\n",
            "32584/32584 [==============================] - 2s 52us/sample - loss: 0.4693 - acc: 0.8121 - val_loss: 0.4692 - val_acc: 0.8110\n",
            "Epoch 16/50\n",
            "32584/32584 [==============================] - 2s 47us/sample - loss: 0.4680 - acc: 0.8121 - val_loss: 0.4682 - val_acc: 0.8110\n",
            "Epoch 17/50\n",
            "32584/32584 [==============================] - 2s 49us/sample - loss: 0.4667 - acc: 0.8121 - val_loss: 0.4666 - val_acc: 0.8110\n",
            "Epoch 18/50\n",
            "32584/32584 [==============================] - 2s 55us/sample - loss: 0.4652 - acc: 0.8121 - val_loss: 0.4654 - val_acc: 0.8110\n",
            "Epoch 19/50\n",
            "32584/32584 [==============================] - 2s 47us/sample - loss: 0.4638 - acc: 0.8121 - val_loss: 0.4643 - val_acc: 0.8110\n",
            "Epoch 20/50\n",
            "32584/32584 [==============================] - 2s 48us/sample - loss: 0.4625 - acc: 0.8121 - val_loss: 0.4631 - val_acc: 0.8110\n",
            "Epoch 21/50\n",
            "32584/32584 [==============================] - 2s 55us/sample - loss: 0.4613 - acc: 0.8121 - val_loss: 0.4618 - val_acc: 0.8110\n",
            "Epoch 22/50\n",
            "32584/32584 [==============================] - 2s 58us/sample - loss: 0.4600 - acc: 0.8128 - val_loss: 0.4605 - val_acc: 0.8122\n",
            "Epoch 23/50\n",
            "32584/32584 [==============================] - 2s 48us/sample - loss: 0.4587 - acc: 0.8140 - val_loss: 0.4597 - val_acc: 0.8134\n",
            "Epoch 24/50\n",
            "32584/32584 [==============================] - 2s 46us/sample - loss: 0.4576 - acc: 0.8146 - val_loss: 0.4584 - val_acc: 0.8143\n",
            "Epoch 25/50\n",
            "32584/32584 [==============================] - 2s 47us/sample - loss: 0.4565 - acc: 0.8149 - val_loss: 0.4568 - val_acc: 0.8143\n",
            "Epoch 26/50\n",
            "32584/32584 [==============================] - 2s 54us/sample - loss: 0.4553 - acc: 0.8153 - val_loss: 0.4561 - val_acc: 0.8144\n",
            "Epoch 27/50\n",
            "32584/32584 [==============================] - 2s 55us/sample - loss: 0.4544 - acc: 0.8156 - val_loss: 0.4549 - val_acc: 0.8145\n",
            "Epoch 28/50\n",
            "32584/32584 [==============================] - 2s 47us/sample - loss: 0.4534 - acc: 0.8161 - val_loss: 0.4538 - val_acc: 0.8150\n",
            "Epoch 29/50\n",
            "32584/32584 [==============================] - 2s 51us/sample - loss: 0.4524 - acc: 0.8160 - val_loss: 0.4530 - val_acc: 0.8150\n",
            "Epoch 30/50\n",
            "32584/32584 [==============================] - 2s 51us/sample - loss: 0.4517 - acc: 0.8164 - val_loss: 0.4523 - val_acc: 0.8152\n",
            "Epoch 31/50\n",
            "32584/32584 [==============================] - 2s 55us/sample - loss: 0.4508 - acc: 0.8166 - val_loss: 0.4513 - val_acc: 0.8152\n",
            "Epoch 32/50\n",
            "32584/32584 [==============================] - 2s 51us/sample - loss: 0.4500 - acc: 0.8170 - val_loss: 0.4504 - val_acc: 0.8152\n",
            "Epoch 33/50\n",
            "32584/32584 [==============================] - 2s 52us/sample - loss: 0.4493 - acc: 0.8173 - val_loss: 0.4500 - val_acc: 0.8157\n",
            "Epoch 34/50\n",
            "32584/32584 [==============================] - 2s 66us/sample - loss: 0.4486 - acc: 0.8176 - val_loss: 0.4497 - val_acc: 0.8164\n",
            "Epoch 35/50\n",
            "32584/32584 [==============================] - 2s 59us/sample - loss: 0.4480 - acc: 0.8175 - val_loss: 0.4490 - val_acc: 0.8167\n",
            "Epoch 36/50\n",
            "32584/32584 [==============================] - 2s 58us/sample - loss: 0.4473 - acc: 0.8177 - val_loss: 0.4482 - val_acc: 0.8170\n",
            "Epoch 37/50\n",
            "32584/32584 [==============================] - 2s 55us/sample - loss: 0.4466 - acc: 0.8182 - val_loss: 0.4492 - val_acc: 0.8165\n",
            "Epoch 38/50\n",
            "32584/32584 [==============================] - 2s 61us/sample - loss: 0.4461 - acc: 0.8182 - val_loss: 0.4481 - val_acc: 0.8177\n",
            "Epoch 39/50\n",
            "32584/32584 [==============================] - 2s 55us/sample - loss: 0.4456 - acc: 0.8185 - val_loss: 0.4464 - val_acc: 0.8175\n",
            "Epoch 40/50\n",
            "32584/32584 [==============================] - 2s 57us/sample - loss: 0.4449 - acc: 0.8188 - val_loss: 0.4462 - val_acc: 0.8176\n",
            "Epoch 41/50\n",
            "32584/32584 [==============================] - 2s 52us/sample - loss: 0.4445 - acc: 0.8187 - val_loss: 0.4456 - val_acc: 0.8175\n",
            "Epoch 42/50\n",
            "32584/32584 [==============================] - 2s 53us/sample - loss: 0.4438 - acc: 0.8191 - val_loss: 0.4447 - val_acc: 0.8177\n",
            "Epoch 43/50\n",
            "32584/32584 [==============================] - 2s 58us/sample - loss: 0.4435 - acc: 0.8188 - val_loss: 0.4461 - val_acc: 0.8179\n",
            "Epoch 44/50\n",
            "32584/32584 [==============================] - 2s 59us/sample - loss: 0.4432 - acc: 0.8191 - val_loss: 0.4442 - val_acc: 0.8178\n",
            "Epoch 45/50\n",
            "32584/32584 [==============================] - 2s 52us/sample - loss: 0.4426 - acc: 0.8192 - val_loss: 0.4438 - val_acc: 0.8178\n",
            "Epoch 46/50\n",
            "32584/32584 [==============================] - 2s 60us/sample - loss: 0.4420 - acc: 0.8195 - val_loss: 0.4434 - val_acc: 0.8181\n",
            "Epoch 47/50\n",
            "32584/32584 [==============================] - 2s 64us/sample - loss: 0.4417 - acc: 0.8193 - val_loss: 0.4430 - val_acc: 0.8183\n",
            "Epoch 48/50\n",
            "32584/32584 [==============================] - 2s 69us/sample - loss: 0.4412 - acc: 0.8196 - val_loss: 0.4444 - val_acc: 0.8178\n",
            "Epoch 49/50\n",
            "32584/32584 [==============================] - 2s 56us/sample - loss: 0.4408 - acc: 0.8196 - val_loss: 0.4420 - val_acc: 0.8179\n",
            "Epoch 50/50\n",
            "32584/32584 [==============================] - 2s 47us/sample - loss: 0.4402 - acc: 0.8198 - val_loss: 0.4420 - val_acc: 0.8179\n"
          ]
        }
      ],
      "source": [
        "perceptron_model_history = perceptron_model.fit(train, \n",
        "                                                y_train, \n",
        "                                                epochs=50, \n",
        "                                                batch_size=32, \n",
        "                                                validation_split=0.2)"
      ]
    },
    {
      "cell_type": "code",
      "execution_count": null,
      "metadata": {
        "id": "f0cB_LngserG"
      },
      "outputs": [],
      "source": [
        "# lets write a function to get the metrics & loss plots\n",
        "\n",
        "def plot(model_history, plot_type):\n",
        "    val_type = \"val_\"+plot_type\n",
        "    plt.plot(model_history.history[plot_type])\n",
        "    plt.plot(model_history.history[val_type])\n",
        "    plt.title('Accuracy Plot')\n",
        "    plt.xlabel('Epoch')\n",
        "    plt.legend(['Train', 'Validation'])\n",
        "    plt.show()"
      ]
    },
    {
      "cell_type": "code",
      "execution_count": null,
      "metadata": {
        "id": "tGKue3Z-serG",
        "outputId": "1b2c1f8f-18c2-41bd-aa9a-ec8da4f9b5b4"
      },
      "outputs": [
        {
          "data": {
            "text/plain": [
              "<tensorflow.python.keras.engine.sequential.Sequential at 0x1159c34d0>"
            ]
          },
          "execution_count": 74,
          "metadata": {},
          "output_type": "execute_result"
        }
      ],
      "source": [
        "perceptron_model"
      ]
    },
    {
      "cell_type": "code",
      "execution_count": null,
      "metadata": {
        "id": "QYtfI5jTserG",
        "outputId": "46f5f59f-8338-4f55-c1a3-80bd24feca1e"
      },
      "outputs": [
        {
          "name": "stdout",
          "output_type": "stream",
          "text": [
            "dict_keys(['loss', 'accuracy', 'val_loss', 'val_accuracy'])\n"
          ]
        }
      ],
      "source": [
        "print(perceptron_model_history.history.keys())"
      ]
    },
    {
      "cell_type": "code",
      "execution_count": null,
      "metadata": {
        "id": "y392T0NoserG",
        "outputId": "08c46a1e-4247-4556-f6a8-a214e544fd27"
      },
      "outputs": [
        {
          "data": {
            "image/png": "[encoded data removed]",
            "text/plain": [
              "<Figure size 432x288 with 1 Axes>"
            ]
          },
          "metadata": {
            "needs_background": "light"
          },
          "output_type": "display_data"
        }
      ],
      "source": [
        "plot(perceptron_model_history, 'accuracy')"
      ]
    },
    {
      "cell_type": "code",
      "execution_count": null,
      "metadata": {
        "id": "6hu2PPt5serG",
        "outputId": "0e0b1978-a0cb-4352-97c9-2763a3d199e5"
      },
      "outputs": [
        {
          "data": {
            "image/png": "[encoded data removed]",
            "text/plain": [
              "<Figure size 432x288 with 1 Axes>"
            ]
          },
          "metadata": {
            "needs_background": "light"
          },
          "output_type": "display_data"
        }
      ],
      "source": [
        "plot(perceptron_model_history, 'loss')"
      ]
    },
    {
      "cell_type": "code",
      "execution_count": null,
      "metadata": {
        "id": "YK13kE0qserG"
      },
      "outputs": [],
      "source": [
        "test_pred=(perceptron_model.predict(test) > 0.5).astype(\"int32\")\n",
        "train_pred=(perceptron_model.predict(train) > 0.5).astype(\"int32\")"
      ]
    },
    {
      "cell_type": "code",
      "execution_count": null,
      "metadata": {
        "id": "FVDE1HaDserH",
        "outputId": "334a5da5-42c8-44da-9971-986b22c5f45e"
      },
      "outputs": [
        {
          "data": {
            "text/plain": [
              "array([[32787,   280],\n",
              "       [ 7135,   528]])"
            ]
          },
          "execution_count": 79,
          "metadata": {},
          "output_type": "execute_result"
        }
      ],
      "source": [
        "confusion_matrix(y_train, train_pred)"
      ]
    },
    {
      "cell_type": "code",
      "execution_count": null,
      "metadata": {
        "id": "AbDVwvTSserH",
        "outputId": "514d002a-edf6-4d9c-c4d4-95796a7ad3da"
      },
      "outputs": [
        {
          "data": {
            "text/plain": [
              "array([[14059,    91],\n",
              "       [ 3103,   203]])"
            ]
          },
          "execution_count": 80,
          "metadata": {},
          "output_type": "execute_result"
        }
      ],
      "source": [
        "confusion_matrix(y_test, test_pred)"
      ]
    },
    {
      "cell_type": "code",
      "execution_count": null,
      "metadata": {
        "id": "M7oTNPcKserH",
        "outputId": "1711d2ab-52b4-4037-e70b-b9f86b8a008d"
      },
      "outputs": [
        {
          "data": {
            "text/plain": [
              "(203, 3103, 91, 14059)"
            ]
          },
          "execution_count": 81,
          "metadata": {},
          "output_type": "execute_result"
        }
      ],
      "source": [
        "tn, fp, fn, tp = confusion_matrix(y_test, test_pred,labels=[1,0]).reshape(-1)\n",
        "(tn, fp, fn, tp)"
      ]
    },
    {
      "cell_type": "markdown",
      "metadata": {
        "id": "MUBldLK_serH"
      },
      "source": [
        "### Perceptron Model (MLP with 2 Neuron in Hidden Layer)"
      ]
    },
    {
      "cell_type": "code",
      "execution_count": null,
      "metadata": {
        "id": "kqx-YAgSserH"
      },
      "outputs": [],
      "source": [
        "mlp_model = Sequential()\n",
        "mlp_model.add(Dense(2, input_dim=27, activation='tanh'))\n",
        "mlp_model.add(Dense(1, activation='sigmoid'))"
      ]
    },
    {
      "cell_type": "code",
      "execution_count": null,
      "metadata": {
        "id": "n3sNBmukserH",
        "outputId": "1cf9c02f-ee72-46f1-f2a9-f2868a696048"
      },
      "outputs": [
        {
          "name": "stdout",
          "output_type": "stream",
          "text": [
            "Epoch 1/50\n",
            "1019/1019 [==============================] - 2s 1ms/step - loss: 0.4933 - accuracy: 0.7999 - val_loss: 0.4826 - val_accuracy: 0.8073\n",
            "Epoch 2/50\n",
            "1019/1019 [==============================] - 1s 1ms/step - loss: 0.4809 - accuracy: 0.8087 - val_loss: 0.4800 - val_accuracy: 0.8090\n",
            "Epoch 3/50\n",
            "1019/1019 [==============================] - 1s 1ms/step - loss: 0.4779 - accuracy: 0.8104 - val_loss: 0.4771 - val_accuracy: 0.8101\n",
            "Epoch 4/50\n",
            "1019/1019 [==============================] - 1s 1ms/step - loss: 0.4751 - accuracy: 0.8116 - val_loss: 0.4739 - val_accuracy: 0.8117\n",
            "Epoch 5/50\n",
            "1019/1019 [==============================] - 1s 1ms/step - loss: 0.4728 - accuracy: 0.8121 - val_loss: 0.4717 - val_accuracy: 0.8121\n",
            "Epoch 6/50\n",
            "1019/1019 [==============================] - 1s 1ms/step - loss: 0.4708 - accuracy: 0.8126 - val_loss: 0.4700 - val_accuracy: 0.8123\n",
            "Epoch 7/50\n",
            "1019/1019 [==============================] - 1s 1ms/step - loss: 0.4690 - accuracy: 0.8129 - val_loss: 0.4685 - val_accuracy: 0.8124\n",
            "Epoch 8/50\n",
            "1019/1019 [==============================] - 1s 1ms/step - loss: 0.4675 - accuracy: 0.8135 - val_loss: 0.4671 - val_accuracy: 0.8127\n",
            "Epoch 9/50\n",
            "1019/1019 [==============================] - 1s 1ms/step - loss: 0.4661 - accuracy: 0.8137 - val_loss: 0.4659 - val_accuracy: 0.8130\n",
            "Epoch 10/50\n",
            "1019/1019 [==============================] - 1s 1ms/step - loss: 0.4648 - accuracy: 0.8141 - val_loss: 0.4648 - val_accuracy: 0.8130\n",
            "Epoch 11/50\n",
            "1019/1019 [==============================] - 2s 2ms/step - loss: 0.4635 - accuracy: 0.8145 - val_loss: 0.4640 - val_accuracy: 0.8134\n",
            "Epoch 12/50\n",
            "1019/1019 [==============================] - 1s 1ms/step - loss: 0.4624 - accuracy: 0.8149 - val_loss: 0.4627 - val_accuracy: 0.8140\n",
            "Epoch 13/50\n",
            "1019/1019 [==============================] - 1s 1ms/step - loss: 0.4612 - accuracy: 0.8152 - val_loss: 0.4619 - val_accuracy: 0.8141\n",
            "Epoch 14/50\n",
            "1019/1019 [==============================] - 2s 2ms/step - loss: 0.4602 - accuracy: 0.8151 - val_loss: 0.4604 - val_accuracy: 0.8143\n",
            "Epoch 15/50\n",
            "1019/1019 [==============================] - 2s 2ms/step - loss: 0.4591 - accuracy: 0.8154 - val_loss: 0.4596 - val_accuracy: 0.8144\n",
            "Epoch 16/50\n",
            "1019/1019 [==============================] - 2s 2ms/step - loss: 0.4581 - accuracy: 0.8154 - val_loss: 0.4585 - val_accuracy: 0.8143\n",
            "Epoch 17/50\n",
            "1019/1019 [==============================] - 2s 2ms/step - loss: 0.4572 - accuracy: 0.8157 - val_loss: 0.4576 - val_accuracy: 0.8141\n",
            "Epoch 18/50\n",
            "1019/1019 [==============================] - 2s 2ms/step - loss: 0.4564 - accuracy: 0.8156 - val_loss: 0.4568 - val_accuracy: 0.8143\n",
            "Epoch 19/50\n",
            "1019/1019 [==============================] - 2s 2ms/step - loss: 0.4555 - accuracy: 0.8157 - val_loss: 0.4559 - val_accuracy: 0.8146\n",
            "Epoch 20/50\n",
            "1019/1019 [==============================] - 2s 2ms/step - loss: 0.4547 - accuracy: 0.8161 - val_loss: 0.4555 - val_accuracy: 0.8148\n",
            "Epoch 21/50\n",
            "1019/1019 [==============================] - 2s 1ms/step - loss: 0.4539 - accuracy: 0.8164 - val_loss: 0.4553 - val_accuracy: 0.8148\n",
            "Epoch 22/50\n",
            "1019/1019 [==============================] - 2s 2ms/step - loss: 0.4533 - accuracy: 0.8164 - val_loss: 0.4540 - val_accuracy: 0.8150\n",
            "Epoch 23/50\n",
            "1019/1019 [==============================] - 2s 2ms/step - loss: 0.4525 - accuracy: 0.8165 - val_loss: 0.4540 - val_accuracy: 0.8159\n",
            "Epoch 24/50\n",
            "1019/1019 [==============================] - 2s 1ms/step - loss: 0.4519 - accuracy: 0.8169 - val_loss: 0.4526 - val_accuracy: 0.8160\n",
            "Epoch 25/50\n",
            "1019/1019 [==============================] - 2s 2ms/step - loss: 0.4513 - accuracy: 0.8172 - val_loss: 0.4519 - val_accuracy: 0.8161\n",
            "Epoch 26/50\n",
            "1019/1019 [==============================] - 2s 2ms/step - loss: 0.4505 - accuracy: 0.8172 - val_loss: 0.4513 - val_accuracy: 0.8162\n",
            "Epoch 27/50\n",
            "1019/1019 [==============================] - 2s 2ms/step - loss: 0.4500 - accuracy: 0.8176 - val_loss: 0.4509 - val_accuracy: 0.8162\n",
            "Epoch 28/50\n",
            "1019/1019 [==============================] - 2s 2ms/step - loss: 0.4494 - accuracy: 0.8175 - val_loss: 0.4502 - val_accuracy: 0.8166\n",
            "Epoch 29/50\n",
            "1019/1019 [==============================] - 2s 2ms/step - loss: 0.4487 - accuracy: 0.8178 - val_loss: 0.4504 - val_accuracy: 0.8168\n",
            "Epoch 30/50\n",
            "1019/1019 [==============================] - 2s 1ms/step - loss: 0.4481 - accuracy: 0.8181 - val_loss: 0.4494 - val_accuracy: 0.8166\n",
            "Epoch 31/50\n",
            "1019/1019 [==============================] - 2s 2ms/step - loss: 0.4476 - accuracy: 0.8182 - val_loss: 0.4487 - val_accuracy: 0.8165\n",
            "Epoch 32/50\n",
            "1019/1019 [==============================] - 2s 2ms/step - loss: 0.4470 - accuracy: 0.8182 - val_loss: 0.4476 - val_accuracy: 0.8166\n",
            "Epoch 33/50\n",
            "1019/1019 [==============================] - 2s 1ms/step - loss: 0.4465 - accuracy: 0.8184 - val_loss: 0.4481 - val_accuracy: 0.8166\n",
            "Epoch 34/50\n",
            "1019/1019 [==============================] - 2s 1ms/step - loss: 0.4458 - accuracy: 0.8185 - val_loss: 0.4481 - val_accuracy: 0.8165\n",
            "Epoch 35/50\n",
            "1019/1019 [==============================] - 2s 2ms/step - loss: 0.4455 - accuracy: 0.8188 - val_loss: 0.4473 - val_accuracy: 0.8166\n",
            "Epoch 36/50\n",
            "1019/1019 [==============================] - 2s 2ms/step - loss: 0.4448 - accuracy: 0.8187 - val_loss: 0.4467 - val_accuracy: 0.8173\n",
            "Epoch 37/50\n",
            "1019/1019 [==============================] - 1s 1ms/step - loss: 0.4443 - accuracy: 0.8187 - val_loss: 0.4498 - val_accuracy: 0.8170\n",
            "Epoch 38/50\n",
            "1019/1019 [==============================] - 1s 1ms/step - loss: 0.4438 - accuracy: 0.8189 - val_loss: 0.4446 - val_accuracy: 0.8175\n",
            "Epoch 39/50\n",
            "1019/1019 [==============================] - 2s 1ms/step - loss: 0.4432 - accuracy: 0.8192 - val_loss: 0.4446 - val_accuracy: 0.8172\n",
            "Epoch 40/50\n",
            "1019/1019 [==============================] - 2s 1ms/step - loss: 0.4428 - accuracy: 0.8191 - val_loss: 0.4441 - val_accuracy: 0.8172\n",
            "Epoch 41/50\n",
            "1019/1019 [==============================] - 1s 1ms/step - loss: 0.4423 - accuracy: 0.8192 - val_loss: 0.4476 - val_accuracy: 0.8168\n",
            "Epoch 42/50\n",
            "1019/1019 [==============================] - 2s 2ms/step - loss: 0.4419 - accuracy: 0.8193 - val_loss: 0.4428 - val_accuracy: 0.8177\n",
            "Epoch 43/50\n",
            "1019/1019 [==============================] - 2s 2ms/step - loss: 0.4414 - accuracy: 0.8192 - val_loss: 0.4424 - val_accuracy: 0.8177\n",
            "Epoch 44/50\n",
            "1019/1019 [==============================] - 2s 2ms/step - loss: 0.4407 - accuracy: 0.8196 - val_loss: 0.4422 - val_accuracy: 0.8177\n",
            "Epoch 45/50\n",
            "1019/1019 [==============================] - 2s 1ms/step - loss: 0.4404 - accuracy: 0.8197 - val_loss: 0.4452 - val_accuracy: 0.8171\n",
            "Epoch 46/50\n",
            "1019/1019 [==============================] - 2s 1ms/step - loss: 0.4400 - accuracy: 0.8196 - val_loss: 0.4414 - val_accuracy: 0.8181\n",
            "Epoch 47/50\n",
            "1019/1019 [==============================] - 2s 1ms/step - loss: 0.4395 - accuracy: 0.8198 - val_loss: 0.4420 - val_accuracy: 0.8176\n",
            "Epoch 48/50\n",
            "1019/1019 [==============================] - 1s 1ms/step - loss: 0.4388 - accuracy: 0.8198 - val_loss: 0.4401 - val_accuracy: 0.8179\n",
            "Epoch 49/50\n",
            "1019/1019 [==============================] - 2s 2ms/step - loss: 0.4388 - accuracy: 0.8197 - val_loss: 0.4395 - val_accuracy: 0.8182\n",
            "Epoch 50/50\n",
            "1019/1019 [==============================] - 2s 1ms/step - loss: 0.4381 - accuracy: 0.8202 - val_loss: 0.4407 - val_accuracy: 0.8186\n"
          ]
        }
      ],
      "source": [
        "mlp_model.compile(loss='binary_crossentropy', optimizer='SGD', metrics=['accuracy'])\n",
        "x=mlp_model.fit(train, y_train, epochs=50, batch_size=32,validation_split=0.2)"
      ]
    },
    {
      "cell_type": "code",
      "execution_count": null,
      "metadata": {
        "id": "-XQn-B65serH",
        "outputId": "22193094-dba2-4122-b426-5e9bc28b59db"
      },
      "outputs": [
        {
          "name": "stdout",
          "output_type": "stream",
          "text": [
            "        loss  accuracy  val_loss  val_accuracy\n",
            "0   0.493329  0.799871  0.482631      0.807267\n",
            "1   0.480897  0.808710  0.479971      0.808986\n",
            "2   0.477877  0.810398  0.477070      0.810091\n",
            "3   0.475123  0.811595  0.473859      0.811687\n",
            "4   0.472750  0.812116  0.471712      0.812055\n",
            "5   0.470838  0.812638  0.470013      0.812301\n",
            "6   0.469028  0.812945  0.468514      0.812423\n",
            "7   0.467462  0.813497  0.467141      0.812669\n",
            "8   0.466065  0.813712  0.465867      0.813037\n",
            "9   0.464816  0.814111  0.464781      0.813037\n",
            "10  0.463520  0.814541  0.464032      0.813405\n",
            "11  0.462389  0.814878  0.462680      0.814019\n",
            "12  0.461217  0.815185  0.461920      0.814142\n",
            "13  0.460154  0.815124  0.460382      0.814265\n",
            "14  0.459081  0.815369  0.459585      0.814387\n",
            "15  0.458114  0.815431  0.458499      0.814265\n",
            "16  0.457195  0.815676  0.457626      0.814142\n",
            "17  0.456367  0.815646  0.456764      0.814265\n",
            "18  0.455534  0.815707  0.455891      0.814633\n",
            "19  0.454732  0.816106  0.455516      0.814756\n",
            "20  0.453949  0.816444  0.455275      0.814756\n",
            "21  0.453252  0.816413  0.453973      0.815001\n",
            "22  0.452520  0.816474  0.453972      0.815861\n",
            "23  0.451878  0.816904  0.452595      0.815983\n",
            "24  0.451263  0.817180  0.451874      0.816106\n",
            "25  0.450507  0.817242  0.451345      0.816229\n",
            "26  0.449951  0.817579  0.450852      0.816229\n",
            "27  0.449410  0.817518  0.450225      0.816597\n",
            "28  0.448747  0.817763  0.450365      0.816843\n",
            "29  0.448057  0.818070  0.449414      0.816597\n",
            "30  0.447579  0.818162  0.448736      0.816474\n",
            "31  0.447031  0.818224  0.447599      0.816597\n",
            "32  0.446464  0.818377  0.448082      0.816597\n",
            "33  0.445800  0.818469  0.448127      0.816474\n",
            "34  0.445532  0.818807  0.447255      0.816597\n",
            "35  0.444803  0.818745  0.446702      0.817334\n",
            "36  0.444309  0.818745  0.449780      0.816965\n",
            "37  0.443779  0.818930  0.444590      0.817456\n",
            "38  0.443248  0.819175  0.444641      0.817211\n",
            "39  0.442824  0.819114  0.444103      0.817211\n",
            "40  0.442303  0.819206  0.447567      0.816843\n",
            "41  0.441937  0.819267  0.442767      0.817702\n",
            "42  0.441415  0.819206  0.442424      0.817702\n",
            "43  0.440697  0.819605  0.442194      0.817702\n",
            "44  0.440420  0.819697  0.445169      0.817088\n",
            "45  0.440045  0.819574  0.441387      0.818070\n",
            "46  0.439454  0.819758  0.441958      0.817579\n",
            "47  0.438797  0.819758  0.440136      0.817947\n",
            "48  0.438776  0.819697  0.439533      0.818193\n",
            "49  0.438094  0.820188  0.440697      0.818561\n",
            "dict_keys(['loss', 'accuracy', 'val_loss', 'val_accuracy'])\n"
          ]
        }
      ],
      "source": [
        "print(pd.DataFrame(x.history))\n",
        "print(x.history.keys())"
      ]
    },
    {
      "cell_type": "code",
      "execution_count": null,
      "metadata": {
        "id": "DvzHA6HqserH",
        "outputId": "80692c72-1618-43df-eccc-5c5a899de5de"
      },
      "outputs": [
        {
          "data": {
            "text/plain": [
              "<tensorflow.python.keras.engine.sequential.Sequential at 0x15a4cd410>"
            ]
          },
          "execution_count": 85,
          "metadata": {},
          "output_type": "execute_result"
        }
      ],
      "source": [
        "mlp_model"
      ]
    },
    {
      "cell_type": "code",
      "execution_count": null,
      "metadata": {
        "id": "pKsW3jTaserH",
        "outputId": "cad9691f-df91-4992-b8f9-e26f1c76abe7"
      },
      "outputs": [
        {
          "name": "stdout",
          "output_type": "stream",
          "text": [
            "dict_keys(['loss', 'accuracy', 'val_loss', 'val_accuracy'])\n"
          ]
        }
      ],
      "source": [
        "print(x.history.keys())"
      ]
    },
    {
      "cell_type": "code",
      "execution_count": null,
      "metadata": {
        "id": "hsopJVd6serH",
        "outputId": "6915c5ca-2687-495b-9002-917af59db0bb"
      },
      "outputs": [
        {
          "data": {
            "image/png": "[encoded data removed]",
            "text/plain": [
              "<Figure size 432x288 with 1 Axes>"
            ]
          },
          "metadata": {
            "needs_background": "light"
          },
          "output_type": "display_data"
        }
      ],
      "source": [
        "plot(x, 'accuracy')"
      ]
    },
    {
      "cell_type": "code",
      "execution_count": null,
      "metadata": {
        "id": "FOgMHbnIserH",
        "outputId": "243d0060-2b48-40e2-a83b-2cadcab7e169"
      },
      "outputs": [
        {
          "data": {
            "image/png": "[encoded data removed]",
            "text/plain": [
              "<Figure size 432x288 with 1 Axes>"
            ]
          },
          "metadata": {
            "needs_background": "light"
          },
          "output_type": "display_data"
        }
      ],
      "source": [
        "plot(x, 'loss')"
      ]
    },
    {
      "cell_type": "markdown",
      "metadata": {
        "id": "M4zFP2xgserH"
      },
      "source": [
        "#### Predictions"
      ]
    },
    {
      "cell_type": "code",
      "execution_count": null,
      "metadata": {
        "id": "790qCTs3serI"
      },
      "outputs": [],
      "source": [
        "test_pred=(mlp_model.predict(test) > 0.5).astype(\"int32\")\n",
        "train_pred=(mlp_model.predict(train) > 0.5).astype(\"int32\")"
      ]
    },
    {
      "cell_type": "code",
      "execution_count": null,
      "metadata": {
        "id": "51Vt9zqnserI",
        "outputId": "d89ca09d-645d-435c-b183-2946829722c5"
      },
      "outputs": [
        {
          "data": {
            "text/plain": [
              "array([[32672,   395],\n",
              "       [ 6937,   726]])"
            ]
          },
          "execution_count": 92,
          "metadata": {},
          "output_type": "execute_result"
        }
      ],
      "source": [
        "confusion_matrix(y_train, train_pred)"
      ]
    },
    {
      "cell_type": "code",
      "execution_count": null,
      "metadata": {
        "id": "NsOULSKSserI",
        "outputId": "b4334ab7-9442-47dd-9f3b-506b43b70825"
      },
      "outputs": [
        {
          "data": {
            "text/plain": [
              "array([[13954,   196],\n",
              "       [ 2946,   360]])"
            ]
          },
          "execution_count": 95,
          "metadata": {},
          "output_type": "execute_result"
        }
      ],
      "source": [
        "confusion_matrix(y_test, test_pred)"
      ]
    },
    {
      "cell_type": "code",
      "execution_count": null,
      "metadata": {
        "id": "G1FJbuz-serI",
        "outputId": "67957401-473d-42bb-fa29-3e79bd1def65"
      },
      "outputs": [
        {
          "data": {
            "text/plain": [
              "(360, 2946, 196, 13954)"
            ]
          },
          "execution_count": 96,
          "metadata": {},
          "output_type": "execute_result"
        }
      ],
      "source": [
        "tn, fp, fn, tp = confusion_matrix(y_test, test_pred,labels=[1,0]).reshape(-1)\n",
        "(tn, fp, fn, tp)"
      ]
    },
    {
      "cell_type": "markdown",
      "metadata": {
        "id": "SH9hhOHIserI"
      },
      "source": [
        "### Perceptron Model (MLP with 1 Neuron in Hidden Layer)"
      ]
    },
    {
      "cell_type": "code",
      "execution_count": null,
      "metadata": {
        "id": "JAf95SGnserI"
      },
      "outputs": [],
      "source": [
        "mlp_model1 = Sequential()\n",
        "mlp_model1.add(Dense(16, input_dim=27, activation='tanh'))\n",
        "mlp_model1.add(Dense(1, activation='sigmoid'))"
      ]
    },
    {
      "cell_type": "code",
      "execution_count": null,
      "metadata": {
        "id": "amJUM82_serI",
        "outputId": "fa1d5bff-b3eb-4ba5-ab36-e04a75e0ad60"
      },
      "outputs": [
        {
          "name": "stdout",
          "output_type": "stream",
          "text": [
            "Epoch 1/50\n",
            "1019/1019 [==============================] - 2s 2ms/step - loss: 0.4881 - accuracy: 0.8004 - val_loss: 0.4730 - val_accuracy: 0.8111\n",
            "Epoch 2/50\n",
            "1019/1019 [==============================] - 2s 1ms/step - loss: 0.4701 - accuracy: 0.8121 - val_loss: 0.4695 - val_accuracy: 0.8117\n",
            "Epoch 3/50\n",
            "1019/1019 [==============================] - 2s 2ms/step - loss: 0.4671 - accuracy: 0.8125 - val_loss: 0.4666 - val_accuracy: 0.8119\n",
            "Epoch 4/50\n",
            "1019/1019 [==============================] - 1s 1ms/step - loss: 0.4652 - accuracy: 0.8128 - val_loss: 0.4648 - val_accuracy: 0.8123\n",
            "Epoch 5/50\n",
            "1019/1019 [==============================] - 1s 1ms/step - loss: 0.4636 - accuracy: 0.8133 - val_loss: 0.4630 - val_accuracy: 0.8130\n",
            "Epoch 6/50\n",
            "1019/1019 [==============================] - 1s 1ms/step - loss: 0.4623 - accuracy: 0.8141 - val_loss: 0.4619 - val_accuracy: 0.8135\n",
            "Epoch 7/50\n",
            "1019/1019 [==============================] - 1s 1ms/step - loss: 0.4611 - accuracy: 0.8147 - val_loss: 0.4609 - val_accuracy: 0.8139\n",
            "Epoch 8/50\n",
            "1019/1019 [==============================] - 1s 1ms/step - loss: 0.4600 - accuracy: 0.8149 - val_loss: 0.4598 - val_accuracy: 0.8143\n",
            "Epoch 9/50\n",
            "1019/1019 [==============================] - 1s 1ms/step - loss: 0.4591 - accuracy: 0.8151 - val_loss: 0.4590 - val_accuracy: 0.8141\n",
            "Epoch 10/50\n",
            "1019/1019 [==============================] - 1s 1ms/step - loss: 0.4581 - accuracy: 0.8153 - val_loss: 0.4581 - val_accuracy: 0.8143\n",
            "Epoch 11/50\n",
            "1019/1019 [==============================] - 1s 1ms/step - loss: 0.4572 - accuracy: 0.8153 - val_loss: 0.4575 - val_accuracy: 0.8144\n",
            "Epoch 12/50\n",
            "1019/1019 [==============================] - 1s 1ms/step - loss: 0.4563 - accuracy: 0.8156 - val_loss: 0.4570 - val_accuracy: 0.8144\n",
            "Epoch 13/50\n",
            "1019/1019 [==============================] - 1s 1ms/step - loss: 0.4553 - accuracy: 0.8158 - val_loss: 0.4556 - val_accuracy: 0.8145\n",
            "Epoch 14/50\n",
            "1019/1019 [==============================] - 1s 1ms/step - loss: 0.4547 - accuracy: 0.8158 - val_loss: 0.4547 - val_accuracy: 0.8149\n",
            "Epoch 15/50\n",
            "1019/1019 [==============================] - 2s 1ms/step - loss: 0.4537 - accuracy: 0.8159 - val_loss: 0.4576 - val_accuracy: 0.8146\n",
            "Epoch 16/50\n",
            "1019/1019 [==============================] - 2s 2ms/step - loss: 0.4532 - accuracy: 0.8160 - val_loss: 0.4536 - val_accuracy: 0.8150\n",
            "Epoch 17/50\n",
            "1019/1019 [==============================] - 2s 2ms/step - loss: 0.4524 - accuracy: 0.8160 - val_loss: 0.4528 - val_accuracy: 0.8152\n",
            "Epoch 18/50\n",
            "1019/1019 [==============================] - 2s 2ms/step - loss: 0.4516 - accuracy: 0.8167 - val_loss: 0.4525 - val_accuracy: 0.8151: 0s - loss: 0.4522 - accuracy: 0.\n",
            "Epoch 19/50\n",
            "1019/1019 [==============================] - 1s 1ms/step - loss: 0.4510 - accuracy: 0.8168 - val_loss: 0.4516 - val_accuracy: 0.8156\n",
            "Epoch 20/50\n",
            "1019/1019 [==============================] - 2s 2ms/step - loss: 0.4504 - accuracy: 0.8168 - val_loss: 0.4512 - val_accuracy: 0.8159\n",
            "Epoch 21/50\n",
            "1019/1019 [==============================] - 2s 2ms/step - loss: 0.4496 - accuracy: 0.8168 - val_loss: 0.4523 - val_accuracy: 0.8155\n",
            "Epoch 22/50\n",
            "1019/1019 [==============================] - 2s 1ms/step - loss: 0.4493 - accuracy: 0.8170 - val_loss: 0.4496 - val_accuracy: 0.8159\n",
            "Epoch 23/50\n",
            "1019/1019 [==============================] - 2s 1ms/step - loss: 0.4486 - accuracy: 0.8171 - val_loss: 0.4490 - val_accuracy: 0.8165\n",
            "Epoch 24/50\n",
            "1019/1019 [==============================] - 2s 2ms/step - loss: 0.4480 - accuracy: 0.8174 - val_loss: 0.4487 - val_accuracy: 0.8160\n",
            "Epoch 25/50\n",
            "1019/1019 [==============================] - 1s 1ms/step - loss: 0.4474 - accuracy: 0.8174 - val_loss: 0.4484 - val_accuracy: 0.8159\n",
            "Epoch 26/50\n",
            "1019/1019 [==============================] - 2s 1ms/step - loss: 0.4468 - accuracy: 0.8175 - val_loss: 0.4491 - val_accuracy: 0.8171\n",
            "Epoch 27/50\n",
            "1019/1019 [==============================] - 2s 1ms/step - loss: 0.4463 - accuracy: 0.8178 - val_loss: 0.4503 - val_accuracy: 0.8160\n",
            "Epoch 28/50\n",
            "1019/1019 [==============================] - 2s 2ms/step - loss: 0.4460 - accuracy: 0.8181 - val_loss: 0.4463 - val_accuracy: 0.8166\n",
            "Epoch 29/50\n",
            "1019/1019 [==============================] - 1s 1ms/step - loss: 0.4452 - accuracy: 0.8180 - val_loss: 0.4486 - val_accuracy: 0.8167\n",
            "Epoch 30/50\n",
            "1019/1019 [==============================] - 1s 1ms/step - loss: 0.4448 - accuracy: 0.8181 - val_loss: 0.4462 - val_accuracy: 0.8168\n",
            "Epoch 31/50\n",
            "1019/1019 [==============================] - 2s 1ms/step - loss: 0.4441 - accuracy: 0.8186 - val_loss: 0.4448 - val_accuracy: 0.8170\n",
            "Epoch 32/50\n",
            "1019/1019 [==============================] - 2s 2ms/step - loss: 0.4439 - accuracy: 0.8186 - val_loss: 0.4440 - val_accuracy: 0.8176\n",
            "Epoch 33/50\n",
            "1019/1019 [==============================] - 1s 1ms/step - loss: 0.4430 - accuracy: 0.8187 - val_loss: 0.4434 - val_accuracy: 0.8172\n",
            "Epoch 34/50\n",
            "1019/1019 [==============================] - 1s 1ms/step - loss: 0.4428 - accuracy: 0.8185 - val_loss: 0.4431 - val_accuracy: 0.8175\n",
            "Epoch 35/50\n",
            "1019/1019 [==============================] - 2s 1ms/step - loss: 0.4420 - accuracy: 0.8189 - val_loss: 0.4435 - val_accuracy: 0.8182\n",
            "Epoch 36/50\n",
            "1019/1019 [==============================] - 2s 1ms/step - loss: 0.4417 - accuracy: 0.8191 - val_loss: 0.4421 - val_accuracy: 0.8181\n",
            "Epoch 37/50\n",
            "1019/1019 [==============================] - 1s 1ms/step - loss: 0.4411 - accuracy: 0.8194 - val_loss: 0.4422 - val_accuracy: 0.8178\n",
            "Epoch 38/50\n",
            "1019/1019 [==============================] - 1s 1ms/step - loss: 0.4406 - accuracy: 0.8191 - val_loss: 0.4405 - val_accuracy: 0.8187\n",
            "Epoch 39/50\n",
            "1019/1019 [==============================] - 1s 1ms/step - loss: 0.4399 - accuracy: 0.8194 - val_loss: 0.4401 - val_accuracy: 0.8183\n",
            "Epoch 40/50\n",
            "1019/1019 [==============================] - 1s 1ms/step - loss: 0.4397 - accuracy: 0.8194 - val_loss: 0.4398 - val_accuracy: 0.8184\n",
            "Epoch 41/50\n",
            "1019/1019 [==============================] - 1s 1ms/step - loss: 0.4389 - accuracy: 0.8195 - val_loss: 0.4414 - val_accuracy: 0.8183\n",
            "Epoch 42/50\n",
            "1019/1019 [==============================] - 2s 1ms/step - loss: 0.4385 - accuracy: 0.8193 - val_loss: 0.4522 - val_accuracy: 0.8197\n",
            "Epoch 43/50\n",
            "1019/1019 [==============================] - 1s 1ms/step - loss: 0.4384 - accuracy: 0.8196 - val_loss: 0.4380 - val_accuracy: 0.8189\n",
            "Epoch 44/50\n",
            "1019/1019 [==============================] - 2s 2ms/step - loss: 0.4375 - accuracy: 0.8197 - val_loss: 0.4378 - val_accuracy: 0.8192\n",
            "Epoch 45/50\n",
            "1019/1019 [==============================] - 1s 1ms/step - loss: 0.4372 - accuracy: 0.8201 - val_loss: 0.4404 - val_accuracy: 0.8182\n",
            "Epoch 46/50\n",
            "1019/1019 [==============================] - 1s 1ms/step - loss: 0.4365 - accuracy: 0.8203 - val_loss: 0.4396 - val_accuracy: 0.8183\n",
            "Epoch 47/50\n",
            "1019/1019 [==============================] - 1s 1ms/step - loss: 0.4360 - accuracy: 0.8201 - val_loss: 0.4365 - val_accuracy: 0.8197\n",
            "Epoch 48/50\n",
            "1019/1019 [==============================] - 1s 1ms/step - loss: 0.4356 - accuracy: 0.8206 - val_loss: 0.4365 - val_accuracy: 0.8191\n",
            "Epoch 49/50\n",
            "1019/1019 [==============================] - 2s 2ms/step - loss: 0.4350 - accuracy: 0.8204 - val_loss: 0.4358 - val_accuracy: 0.8200\n",
            "Epoch 50/50\n",
            "1019/1019 [==============================] - 1s 1ms/step - loss: 0.4344 - accuracy: 0.8206 - val_loss: 0.4356 - val_accuracy: 0.8189\n"
          ]
        }
      ],
      "source": [
        "mlp_model1.compile(loss='binary_crossentropy', optimizer='SGD', metrics=['accuracy'])\n",
        "x=mlp_model1.fit(train, y_train, epochs=50, batch_size=32,validation_split=0.2)"
      ]
    },
    {
      "cell_type": "code",
      "execution_count": null,
      "metadata": {
        "id": "eoi-AwgBserI",
        "outputId": "c2c5e551-a17c-468c-a0c4-945fdb9cb246"
      },
      "outputs": [
        {
          "name": "stdout",
          "output_type": "stream",
          "text": [
            "        loss  accuracy  val_loss  val_accuracy\n",
            "0   0.488149  0.800424  0.473001      0.811073\n",
            "1   0.470134  0.812116  0.469518      0.811687\n",
            "2   0.467139  0.812515  0.466599      0.811932\n",
            "3   0.465213  0.812792  0.464769      0.812301\n",
            "4   0.463552  0.813344  0.463044      0.813037\n",
            "5   0.462340  0.814142  0.461902      0.813528\n",
            "6   0.461139  0.814664  0.460948      0.813896\n",
            "7   0.460037  0.814909  0.459775      0.814265\n",
            "8   0.459070  0.815063  0.458967      0.814142\n",
            "9   0.458083  0.815277  0.458056      0.814265\n",
            "10  0.457246  0.815277  0.457469      0.814387\n",
            "11  0.456279  0.815584  0.456961      0.814387\n",
            "12  0.455274  0.815768  0.455627      0.814510\n",
            "13  0.454662  0.815799  0.454718      0.814878\n",
            "14  0.453683  0.815891  0.457621      0.814633\n",
            "15  0.453192  0.815983  0.453586      0.815001\n",
            "16  0.452446  0.816014  0.452771      0.815247\n",
            "17  0.451616  0.816658  0.452521      0.815124\n",
            "18  0.451032  0.816843  0.451603      0.815615\n",
            "19  0.450441  0.816812  0.451195      0.815861\n",
            "20  0.449561  0.816812  0.452292      0.815492\n",
            "21  0.449282  0.817027  0.449619      0.815861\n",
            "22  0.448616  0.817088  0.448966      0.816474\n",
            "23  0.448045  0.817364  0.448664      0.815983\n",
            "24  0.447383  0.817395  0.448354      0.815861\n",
            "25  0.446767  0.817518  0.449056      0.817088\n",
            "26  0.446280  0.817825  0.450307      0.815983\n",
            "27  0.445976  0.818101  0.446260      0.816597\n",
            "28  0.445176  0.818009  0.448574      0.816720\n",
            "29  0.444799  0.818132  0.446163      0.816843\n",
            "30  0.444052  0.818592  0.444784      0.816965\n",
            "31  0.443860  0.818592  0.444026      0.817579\n",
            "32  0.443038  0.818745  0.443442      0.817211\n",
            "33  0.442792  0.818500  0.443066      0.817456\n",
            "34  0.442032  0.818868  0.443482      0.818193\n",
            "35  0.441655  0.819052  0.442107      0.818070\n",
            "36  0.441120  0.819359  0.442207      0.817825\n",
            "37  0.440605  0.819083  0.440508      0.818684\n",
            "38  0.439860  0.819390  0.440060      0.818316\n",
            "39  0.439702  0.819421  0.439757      0.818438\n",
            "40  0.438851  0.819513  0.441445      0.818316\n",
            "41  0.438490  0.819298  0.452221      0.819666\n",
            "42  0.438357  0.819605  0.438015      0.818930\n",
            "43  0.437479  0.819666  0.437772      0.819175\n",
            "44  0.437190  0.820126  0.440408      0.818193\n",
            "45  0.436543  0.820280  0.439590      0.818316\n",
            "46  0.435992  0.820126  0.436496      0.819666\n",
            "47  0.435602  0.820648  0.436479      0.819052\n",
            "48  0.434967  0.820372  0.435760      0.820034\n",
            "49  0.434428  0.820556  0.435621      0.818930\n",
            "dict_keys(['loss', 'accuracy', 'val_loss', 'val_accuracy'])\n"
          ]
        }
      ],
      "source": [
        "print(pd.DataFrame(x.history))\n",
        "print(x.history.keys())"
      ]
    },
    {
      "cell_type": "code",
      "execution_count": null,
      "metadata": {
        "id": "57-t7sVxserI",
        "outputId": "7e554fad-4943-4b8b-dc9f-c5c0fe060eed"
      },
      "outputs": [
        {
          "data": {
            "text/plain": [
              "<tensorflow.python.keras.engine.sequential.Sequential at 0x15aab4750>"
            ]
          },
          "execution_count": 100,
          "metadata": {},
          "output_type": "execute_result"
        }
      ],
      "source": [
        "mlp_model1"
      ]
    },
    {
      "cell_type": "code",
      "execution_count": null,
      "metadata": {
        "id": "fJXzqYaqserI",
        "outputId": "db88c860-3540-42a0-d8f4-e2823276ee8a"
      },
      "outputs": [
        {
          "name": "stdout",
          "output_type": "stream",
          "text": [
            "dict_keys(['loss', 'accuracy', 'val_loss', 'val_accuracy'])\n"
          ]
        }
      ],
      "source": [
        "print(x.history.keys())"
      ]
    },
    {
      "cell_type": "code",
      "execution_count": null,
      "metadata": {
        "id": "0M-_8HilserI",
        "outputId": "52441845-12b5-4219-d360-706e4a7d30c2"
      },
      "outputs": [
        {
          "data": {
            "image/png": "[encoded data removed]",
            "text/plain": [
              "<Figure size 432x288 with 1 Axes>"
            ]
          },
          "metadata": {
            "needs_background": "light"
          },
          "output_type": "display_data"
        }
      ],
      "source": [
        "plot(x, 'accuracy')"
      ]
    },
    {
      "cell_type": "code",
      "execution_count": null,
      "metadata": {
        "id": "TM2OSkzsserJ",
        "outputId": "baed068a-e7f8-4ab5-bdef-f9e7934c8e13"
      },
      "outputs": [
        {
          "data": {
            "image/png": "[encoded data removed]",
            "text/plain": [
              "<Figure size 432x288 with 1 Axes>"
            ]
          },
          "metadata": {
            "needs_background": "light"
          },
          "output_type": "display_data"
        }
      ],
      "source": [
        "plot(x, 'loss')"
      ]
    },
    {
      "cell_type": "markdown",
      "metadata": {
        "id": "EAtthkRAserJ"
      },
      "source": [
        "#### Predictions"
      ]
    },
    {
      "cell_type": "code",
      "execution_count": null,
      "metadata": {
        "id": "1MlaY8BgserJ"
      },
      "outputs": [],
      "source": [
        "test_pred=(mlp_model1.predict(test) > 0.5).astype(\"int32\")\n",
        "train_pred=(mlp_model1.predict(train) > 0.5).astype(\"int32\")"
      ]
    },
    {
      "cell_type": "code",
      "execution_count": null,
      "metadata": {
        "id": "nz4dg9EMserJ",
        "outputId": "5087d435-8656-4096-90f0-01a6a8eae309"
      },
      "outputs": [
        {
          "data": {
            "text/plain": [
              "array([[32846,   221],\n",
              "       [ 7108,   555]])"
            ]
          },
          "execution_count": 105,
          "metadata": {},
          "output_type": "execute_result"
        }
      ],
      "source": [
        "confusion_matrix(y_train, train_pred)"
      ]
    },
    {
      "cell_type": "code",
      "execution_count": null,
      "metadata": {
        "id": "4p56HVsoserK",
        "outputId": "62aef691-f17c-44e5-e261-1406d62827a1"
      },
      "outputs": [
        {
          "data": {
            "text/plain": [
              "(308, 2998, 113, 14037)"
            ]
          },
          "execution_count": 106,
          "metadata": {},
          "output_type": "execute_result"
        }
      ],
      "source": [
        "tn, fp, fn, tp = confusion_matrix(y_test, test_pred,labels=[1,0]).reshape(-1)\n",
        "(tn, fp, fn, tp)"
      ]
    },
    {
      "cell_type": "code",
      "execution_count": null,
      "metadata": {
        "id": "inW2FM3IserK"
      },
      "outputs": [],
      "source": []
    },
    {
      "cell_type": "code",
      "execution_count": null,
      "metadata": {
        "id": "OrAdqM_7serK"
      },
      "outputs": [],
      "source": []
    }
  ],
  "metadata": {
    "kernelspec": {
      "display_name": "Python 3",
      "language": "python",
      "name": "python3"
    },
    "language_info": {
      "codemirror_mode": {
        "name": "ipython",
        "version": 3
      },
      "file_extension": ".py",
      "mimetype": "text/x-python",
      "name": "python",
      "nbconvert_exporter": "python",
      "pygments_lexer": "ipython3",
      "version": "3.7.3"
    },
    "colab": {
      "provenance": [],
      "include_colab_link": true
    }
  },
  "nbformat": 4,
  "nbformat_minor": 0
}