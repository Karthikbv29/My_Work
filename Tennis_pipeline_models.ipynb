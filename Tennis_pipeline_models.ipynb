{
  "nbformat": 4,
  "nbformat_minor": 0,
  "metadata": {
    "colab": {
      "provenance": [],
      "authorship_tag": "ABX9TyNK2+QKlofCeBAChhYu5Jzt",
      "include_colab_link": true
    },
    "kernelspec": {
      "name": "python3",
      "display_name": "Python 3"
    },
    "language_info": {
      "name": "python"
    }
  },
  "cells": [
    {
      "cell_type": "markdown",
      "metadata": {
        "id": "view-in-github",
        "colab_type": "text"
      },
      "source": [
        "<a href=\"https://colab.research.google.com/github/Karthikbv29/Batch108/blob/main/Tennis_pipeline_models.ipynb\" target=\"_parent\"><img src=\"https://colab.research.google.com/assets/colab-badge.svg\" alt=\"Open In Colab\"/></a>"
      ]
    },
    {
      "cell_type": "code",
      "execution_count": null,
      "metadata": {
        "id": "k2cUn4fkwPCV"
      },
      "outputs": [],
      "source": [
        "import pandas as pd\n",
        "import numpy as np"
      ]
    },
    {
      "cell_type": "code",
      "source": [
        "data=pd.read_csv('tennis.csv')"
      ],
      "metadata": {
        "id": "NGk8PE-qwjtC"
      },
      "execution_count": null,
      "outputs": []
    },
    {
      "cell_type": "code",
      "source": [
        "from sklearn.pipeline import Pipeline\n",
        "from sklearn.compose import ColumnTransformer\n",
        "\n",
        "from sklearn.preprocessing import StandardScaler, OneHotEncoder\n",
        "from sklearn.impute import SimpleImputer\n",
        "\n",
        "from sklearn.model_selection import train_test_split\n",
        "\n",
        "from sklearn.ensemble import RandomForestClassifier\n",
        "from sklearn.ensemble import AdaBoostClassifier\n",
        "from sklearn.ensemble import GradientBoostingClassifier\n",
        "from xgboost import XGBClassifier"
      ],
      "metadata": {
        "id": "FvDR8s5pw-QB"
      },
      "execution_count": null,
      "outputs": []
    },
    {
      "cell_type": "code",
      "source": [
        "data.shape"
      ],
      "metadata": {
        "colab": {
          "base_uri": "https://localhost:8080/"
        },
        "id": "MXfbhjTawjqL",
        "outputId": "5da30f18-5908-420a-c5d8-dfdbd6ba3022"
      },
      "execution_count": null,
      "outputs": [
        {
          "output_type": "execute_result",
          "data": {
            "text/plain": [
              "(8001, 27)"
            ]
          },
          "metadata": {},
          "execution_count": 4
        }
      ]
    },
    {
      "cell_type": "code",
      "source": [
        "data.head()"
      ],
      "metadata": {
        "colab": {
          "base_uri": "https://localhost:8080/",
          "height": 300
        },
        "id": "4QfHKQ3Swjmi",
        "outputId": "57d6e1bf-5776-4380-c537-856e10928675"
      },
      "execution_count": null,
      "outputs": [
        {
          "output_type": "execute_result",
          "data": {
            "text/plain": [
              "   rally  serve hitpoint      speed  net.clearance  distance.from.sideline  \\\n",
              "0      4      1        B  35.515042      -0.021725                3.474766   \n",
              "1      4      2        B  33.382640       1.114202                2.540801   \n",
              "2     23      1        B  22.316690      -0.254046                3.533166   \n",
              "3      9      1        F  36.837309       0.766694                0.586885   \n",
              "4      4      1        B  35.544208       0.116162                0.918725   \n",
              "\n",
              "      depth  outside.sideline  outside.baseline  player.distance.travelled  \\\n",
              "0  6.797621             False             False                   1.467570   \n",
              "1  2.608708             False              True                   2.311931   \n",
              "2  9.435749             False             False                   3.903728   \n",
              "3  3.342180              True             False                   0.583745   \n",
              "4  5.499119             False             False                   2.333456   \n",
              "\n",
              "   ...  previous.depth  opponent.depth  opponent.distance.from.center  \\\n",
              "0  ...        0.705435         12.5628                         2.0724   \n",
              "1  ...        3.856600         12.3544                         5.1124   \n",
              "2  ...        2.908892         13.8620                         1.6564   \n",
              "3  ...        0.557554         14.2596                         0.1606   \n",
              "4  ...        3.945317         11.3658                         1.1082   \n",
              "\n",
              "   same.side  previous.hitpoint  previous.time.to.net  \\\n",
              "0       True                  F              0.445318   \n",
              "1      False                  B              0.432434   \n",
              "2      False                  F              0.397538   \n",
              "3       True                  B              0.671984   \n",
              "4      False                  F              0.340411   \n",
              "\n",
              "   server.is.impact.player  outcome  gender    ID  \n",
              "0                    False       UE    mens  8644  \n",
              "1                    False       FE    mens  1182  \n",
              "2                     True       FE    mens  9042  \n",
              "3                     True       UE    mens  1222  \n",
              "4                    False        W    mens  4085  \n",
              "\n",
              "[5 rows x 27 columns]"
            ],
            "text/html": [
              "\n",
              "  <div id=\"df-8d7d8d8a-f434-420f-a9a0-75b016698ae1\">\n",
              "    <div class=\"colab-df-container\">\n",
              "      <div>\n",
              "<style scoped>\n",
              "    .dataframe tbody tr th:only-of-type {\n",
              "        vertical-align: middle;\n",
              "    }\n",
              "\n",
              "    .dataframe tbody tr th {\n",
              "        vertical-align: top;\n",
              "    }\n",
              "\n",
              "    .dataframe thead th {\n",
              "        text-align: right;\n",
              "    }\n",
              "</style>\n",
              "<table border=\"1\" class=\"dataframe\">\n",
              "  <thead>\n",
              "    <tr style=\"text-align: right;\">\n",
              "      <th></th>\n",
              "      <th>rally</th>\n",
              "      <th>serve</th>\n",
              "      <th>hitpoint</th>\n",
              "      <th>speed</th>\n",
              "      <th>net.clearance</th>\n",
              "      <th>distance.from.sideline</th>\n",
              "      <th>depth</th>\n",
              "      <th>outside.sideline</th>\n",
              "      <th>outside.baseline</th>\n",
              "      <th>player.distance.travelled</th>\n",
              "      <th>...</th>\n",
              "      <th>previous.depth</th>\n",
              "      <th>opponent.depth</th>\n",
              "      <th>opponent.distance.from.center</th>\n",
              "      <th>same.side</th>\n",
              "      <th>previous.hitpoint</th>\n",
              "      <th>previous.time.to.net</th>\n",
              "      <th>server.is.impact.player</th>\n",
              "      <th>outcome</th>\n",
              "      <th>gender</th>\n",
              "      <th>ID</th>\n",
              "    </tr>\n",
              "  </thead>\n",
              "  <tbody>\n",
              "    <tr>\n",
              "      <th>0</th>\n",
              "      <td>4</td>\n",
              "      <td>1</td>\n",
              "      <td>B</td>\n",
              "      <td>35.515042</td>\n",
              "      <td>-0.021725</td>\n",
              "      <td>3.474766</td>\n",
              "      <td>6.797621</td>\n",
              "      <td>False</td>\n",
              "      <td>False</td>\n",
              "      <td>1.467570</td>\n",
              "      <td>...</td>\n",
              "      <td>0.705435</td>\n",
              "      <td>12.5628</td>\n",
              "      <td>2.0724</td>\n",
              "      <td>True</td>\n",
              "      <td>F</td>\n",
              "      <td>0.445318</td>\n",
              "      <td>False</td>\n",
              "      <td>UE</td>\n",
              "      <td>mens</td>\n",
              "      <td>8644</td>\n",
              "    </tr>\n",
              "    <tr>\n",
              "      <th>1</th>\n",
              "      <td>4</td>\n",
              "      <td>2</td>\n",
              "      <td>B</td>\n",
              "      <td>33.382640</td>\n",
              "      <td>1.114202</td>\n",
              "      <td>2.540801</td>\n",
              "      <td>2.608708</td>\n",
              "      <td>False</td>\n",
              "      <td>True</td>\n",
              "      <td>2.311931</td>\n",
              "      <td>...</td>\n",
              "      <td>3.856600</td>\n",
              "      <td>12.3544</td>\n",
              "      <td>5.1124</td>\n",
              "      <td>False</td>\n",
              "      <td>B</td>\n",
              "      <td>0.432434</td>\n",
              "      <td>False</td>\n",
              "      <td>FE</td>\n",
              "      <td>mens</td>\n",
              "      <td>1182</td>\n",
              "    </tr>\n",
              "    <tr>\n",
              "      <th>2</th>\n",
              "      <td>23</td>\n",
              "      <td>1</td>\n",
              "      <td>B</td>\n",
              "      <td>22.316690</td>\n",
              "      <td>-0.254046</td>\n",
              "      <td>3.533166</td>\n",
              "      <td>9.435749</td>\n",
              "      <td>False</td>\n",
              "      <td>False</td>\n",
              "      <td>3.903728</td>\n",
              "      <td>...</td>\n",
              "      <td>2.908892</td>\n",
              "      <td>13.8620</td>\n",
              "      <td>1.6564</td>\n",
              "      <td>False</td>\n",
              "      <td>F</td>\n",
              "      <td>0.397538</td>\n",
              "      <td>True</td>\n",
              "      <td>FE</td>\n",
              "      <td>mens</td>\n",
              "      <td>9042</td>\n",
              "    </tr>\n",
              "    <tr>\n",
              "      <th>3</th>\n",
              "      <td>9</td>\n",
              "      <td>1</td>\n",
              "      <td>F</td>\n",
              "      <td>36.837309</td>\n",
              "      <td>0.766694</td>\n",
              "      <td>0.586885</td>\n",
              "      <td>3.342180</td>\n",
              "      <td>True</td>\n",
              "      <td>False</td>\n",
              "      <td>0.583745</td>\n",
              "      <td>...</td>\n",
              "      <td>0.557554</td>\n",
              "      <td>14.2596</td>\n",
              "      <td>0.1606</td>\n",
              "      <td>True</td>\n",
              "      <td>B</td>\n",
              "      <td>0.671984</td>\n",
              "      <td>True</td>\n",
              "      <td>UE</td>\n",
              "      <td>mens</td>\n",
              "      <td>1222</td>\n",
              "    </tr>\n",
              "    <tr>\n",
              "      <th>4</th>\n",
              "      <td>4</td>\n",
              "      <td>1</td>\n",
              "      <td>B</td>\n",
              "      <td>35.544208</td>\n",
              "      <td>0.116162</td>\n",
              "      <td>0.918725</td>\n",
              "      <td>5.499119</td>\n",
              "      <td>False</td>\n",
              "      <td>False</td>\n",
              "      <td>2.333456</td>\n",
              "      <td>...</td>\n",
              "      <td>3.945317</td>\n",
              "      <td>11.3658</td>\n",
              "      <td>1.1082</td>\n",
              "      <td>False</td>\n",
              "      <td>F</td>\n",
              "      <td>0.340411</td>\n",
              "      <td>False</td>\n",
              "      <td>W</td>\n",
              "      <td>mens</td>\n",
              "      <td>4085</td>\n",
              "    </tr>\n",
              "  </tbody>\n",
              "</table>\n",
              "<p>5 rows × 27 columns</p>\n",
              "</div>\n",
              "      <button class=\"colab-df-convert\" onclick=\"convertToInteractive('df-8d7d8d8a-f434-420f-a9a0-75b016698ae1')\"\n",
              "              title=\"Convert this dataframe to an interactive table.\"\n",
              "              style=\"display:none;\">\n",
              "        \n",
              "  <svg xmlns=\"http://www.w3.org/2000/svg\" height=\"24px\"viewBox=\"0 0 24 24\"\n",
              "       width=\"24px\">\n",
              "    <path d=\"M0 0h24v24H0V0z\" fill=\"none\"/>\n",
              "    <path d=\"M18.56 5.44l.94 2.06.94-2.06 2.06-.94-2.06-.94-.94-2.06-.94 2.06-2.06.94zm-11 1L8.5 8.5l.94-2.06 2.06-.94-2.06-.94L8.5 2.5l-.94 2.06-2.06.94zm10 10l.94 2.06.94-2.06 2.06-.94-2.06-.94-.94-2.06-.94 2.06-2.06.94z\"/><path d=\"M17.41 7.96l-1.37-1.37c-.4-.4-.92-.59-1.43-.59-.52 0-1.04.2-1.43.59L10.3 9.45l-7.72 7.72c-.78.78-.78 2.05 0 2.83L4 21.41c.39.39.9.59 1.41.59.51 0 1.02-.2 1.41-.59l7.78-7.78 2.81-2.81c.8-.78.8-2.07 0-2.86zM5.41 20L4 18.59l7.72-7.72 1.47 1.35L5.41 20z\"/>\n",
              "  </svg>\n",
              "      </button>\n",
              "      \n",
              "  <style>\n",
              "    .colab-df-container {\n",
              "      display:flex;\n",
              "      flex-wrap:wrap;\n",
              "      gap: 12px;\n",
              "    }\n",
              "\n",
              "    .colab-df-convert {\n",
              "      background-color: #E8F0FE;\n",
              "      border: none;\n",
              "      border-radius: 50%;\n",
              "      cursor: pointer;\n",
              "      display: none;\n",
              "      fill: #1967D2;\n",
              "      height: 32px;\n",
              "      padding: 0 0 0 0;\n",
              "      width: 32px;\n",
              "    }\n",
              "\n",
              "    .colab-df-convert:hover {\n",
              "      background-color: #E2EBFA;\n",
              "      box-shadow: 0px 1px 2px rgba(60, 64, 67, 0.3), 0px 1px 3px 1px rgba(60, 64, 67, 0.15);\n",
              "      fill: #174EA6;\n",
              "    }\n",
              "\n",
              "    [theme=dark] .colab-df-convert {\n",
              "      background-color: #3B4455;\n",
              "      fill: #D2E3FC;\n",
              "    }\n",
              "\n",
              "    [theme=dark] .colab-df-convert:hover {\n",
              "      background-color: #434B5C;\n",
              "      box-shadow: 0px 1px 3px 1px rgba(0, 0, 0, 0.15);\n",
              "      filter: drop-shadow(0px 1px 2px rgba(0, 0, 0, 0.3));\n",
              "      fill: #FFFFFF;\n",
              "    }\n",
              "  </style>\n",
              "\n",
              "      <script>\n",
              "        const buttonEl =\n",
              "          document.querySelector('#df-8d7d8d8a-f434-420f-a9a0-75b016698ae1 button.colab-df-convert');\n",
              "        buttonEl.style.display =\n",
              "          google.colab.kernel.accessAllowed ? 'block' : 'none';\n",
              "\n",
              "        async function convertToInteractive(key) {\n",
              "          const element = document.querySelector('#df-8d7d8d8a-f434-420f-a9a0-75b016698ae1');\n",
              "          const dataTable =\n",
              "            await google.colab.kernel.invokeFunction('convertToInteractive',\n",
              "                                                     [key], {});\n",
              "          if (!dataTable) return;\n",
              "\n",
              "          const docLinkHtml = 'Like what you see? Visit the ' +\n",
              "            '<a target=\"_blank\" href=https://colab.research.google.com/notebooks/data_table.ipynb>data table notebook</a>'\n",
              "            + ' to learn more about interactive tables.';\n",
              "          element.innerHTML = '';\n",
              "          dataTable['output_type'] = 'display_data';\n",
              "          await google.colab.output.renderOutput(dataTable, element);\n",
              "          const docLink = document.createElement('div');\n",
              "          docLink.innerHTML = docLinkHtml;\n",
              "          element.appendChild(docLink);\n",
              "        }\n",
              "      </script>\n",
              "    </div>\n",
              "  </div>\n",
              "  "
            ]
          },
          "metadata": {},
          "execution_count": 5
        }
      ]
    },
    {
      "cell_type": "code",
      "source": [
        "data.drop(['ID'],axis=1,inplace=True)"
      ],
      "metadata": {
        "id": "eRcQakcwwjiq"
      },
      "execution_count": null,
      "outputs": []
    },
    {
      "cell_type": "code",
      "source": [
        "data.dtypes"
      ],
      "metadata": {
        "colab": {
          "base_uri": "https://localhost:8080/"
        },
        "id": "nubj70mJxkEk",
        "outputId": "94347ab9-b2ed-43d6-8513-e9908d82673f"
      },
      "execution_count": null,
      "outputs": [
        {
          "output_type": "execute_result",
          "data": {
            "text/plain": [
              "rally                                   int64\n",
              "serve                                   int64\n",
              "hitpoint                               object\n",
              "speed                                 float64\n",
              "net.clearance                         float64\n",
              "distance.from.sideline                float64\n",
              "depth                                 float64\n",
              "outside.sideline                         bool\n",
              "outside.baseline                         bool\n",
              "player.distance.travelled             float64\n",
              "player.impact.depth                   float64\n",
              "player.impact.distance.from.center    float64\n",
              "player.depth                          float64\n",
              "player.distance.from.center           float64\n",
              "previous.speed                        float64\n",
              "previous.net.clearance                float64\n",
              "previous.distance.from.sideline       float64\n",
              "previous.depth                        float64\n",
              "opponent.depth                        float64\n",
              "opponent.distance.from.center         float64\n",
              "same.side                                bool\n",
              "previous.hitpoint                      object\n",
              "previous.time.to.net                  float64\n",
              "server.is.impact.player                  bool\n",
              "outcome                                object\n",
              "gender                                 object\n",
              "dtype: object"
            ]
          },
          "metadata": {},
          "execution_count": 7
        }
      ]
    },
    {
      "cell_type": "code",
      "source": [
        "data.drop_duplicates(keep='first',inplace=True)\n",
        "data.shape"
      ],
      "metadata": {
        "colab": {
          "base_uri": "https://localhost:8080/"
        },
        "id": "YRSUdWGRcZjt",
        "outputId": "f9fa732a-ef8a-4bfe-ade6-23aeea498419"
      },
      "execution_count": null,
      "outputs": [
        {
          "output_type": "execute_result",
          "data": {
            "text/plain": [
              "(8001, 26)"
            ]
          },
          "metadata": {},
          "execution_count": 25
        }
      ]
    },
    {
      "cell_type": "code",
      "source": [
        "data.nunique()"
      ],
      "metadata": {
        "colab": {
          "base_uri": "https://localhost:8080/"
        },
        "id": "HkiiPLDClET-",
        "outputId": "1be1c408-cda0-4f9a-d0a8-3f061f436fef"
      },
      "execution_count": null,
      "outputs": [
        {
          "output_type": "execute_result",
          "data": {
            "text/plain": [
              "rally                                   30\n",
              "serve                                    2\n",
              "hitpoint                                 4\n",
              "speed                                 8001\n",
              "net.clearance                         7994\n",
              "distance.from.sideline                8001\n",
              "depth                                 8001\n",
              "outside.sideline                         2\n",
              "outside.baseline                         2\n",
              "player.distance.travelled             7988\n",
              "player.impact.depth                   7089\n",
              "player.impact.distance.from.center    6644\n",
              "player.depth                          6882\n",
              "player.distance.from.center           5977\n",
              "previous.speed                        8001\n",
              "previous.net.clearance                8001\n",
              "previous.distance.from.sideline       8001\n",
              "previous.depth                        8001\n",
              "opponent.depth                        6856\n",
              "opponent.distance.from.center         6775\n",
              "same.side                                2\n",
              "previous.hitpoint                        4\n",
              "previous.time.to.net                  8001\n",
              "server.is.impact.player                  2\n",
              "outcome                                  3\n",
              "gender                                   2\n",
              "dtype: int64"
            ]
          },
          "metadata": {},
          "execution_count": 65
        }
      ]
    },
    {
      "cell_type": "code",
      "source": [
        "unique=['outcome','speed','distance.from.sideline','depth','previous.speed','previous.net.clearance','previous.distance.from.sideline','previous.depth','previous.time.to.net']"
      ],
      "metadata": {
        "id": "TJMG-5Xei3Fh"
      },
      "execution_count": null,
      "outputs": []
    },
    {
      "cell_type": "code",
      "source": [
        "x=data.drop(['outcome','speed','distance.from.sideline','depth','previous.speed','previous.net.clearance','previous.distance.from.sideline','previous.depth','previous.time.to.net'],axis=1)\n",
        "y=data['outcome']"
      ],
      "metadata": {
        "id": "2QYoYXgqxkBt"
      },
      "execution_count": null,
      "outputs": []
    },
    {
      "cell_type": "code",
      "source": [
        "x.shape"
      ],
      "metadata": {
        "colab": {
          "base_uri": "https://localhost:8080/"
        },
        "id": "Rk3ahleolY91",
        "outputId": "e8645d8a-04b1-4283-cda4-dfe572ef0a87"
      },
      "execution_count": null,
      "outputs": [
        {
          "output_type": "execute_result",
          "data": {
            "text/plain": [
              "(8001, 17)"
            ]
          },
          "metadata": {},
          "execution_count": 90
        }
      ]
    },
    {
      "cell_type": "code",
      "source": [
        "num_cols=x.select_dtypes(include=['int64','float64']).columns\n",
        "cat_cols=x.select_dtypes(include=['bool','object','category']).columns"
      ],
      "metadata": {
        "id": "oKB-ptGOxj-m"
      },
      "execution_count": null,
      "outputs": []
    },
    {
      "cell_type": "code",
      "source": [
        "num_cols"
      ],
      "metadata": {
        "colab": {
          "base_uri": "https://localhost:8080/"
        },
        "id": "UP0nTnvJtIja",
        "outputId": "954f867c-1331-494b-9e1c-46184ec904a4"
      },
      "execution_count": null,
      "outputs": [
        {
          "output_type": "execute_result",
          "data": {
            "text/plain": [
              "Index(['rally', 'serve', 'net.clearance', 'player.distance.travelled',\n",
              "       'player.impact.depth', 'player.impact.distance.from.center',\n",
              "       'player.depth', 'player.distance.from.center', 'opponent.depth',\n",
              "       'opponent.distance.from.center'],\n",
              "      dtype='object')"
            ]
          },
          "metadata": {},
          "execution_count": 114
        }
      ]
    },
    {
      "cell_type": "code",
      "source": [
        "cat_cols"
      ],
      "metadata": {
        "id": "zEcTRjHTxj7O",
        "colab": {
          "base_uri": "https://localhost:8080/"
        },
        "outputId": "caa59f64-89d9-4d7a-f7d1-75f6e09c29a8"
      },
      "execution_count": null,
      "outputs": [
        {
          "output_type": "execute_result",
          "data": {
            "text/plain": [
              "Index(['hitpoint', 'outside.sideline', 'outside.baseline', 'same.side',\n",
              "       'previous.hitpoint', 'server.is.impact.player', 'gender'],\n",
              "      dtype='object')"
            ]
          },
          "metadata": {},
          "execution_count": 115
        }
      ]
    },
    {
      "cell_type": "code",
      "source": [
        "for col in cat_cols:\n",
        "  data[col]=data[col].astype('category')"
      ],
      "metadata": {
        "id": "4bHcBzcmwjd8"
      },
      "execution_count": null,
      "outputs": []
    },
    {
      "cell_type": "code",
      "source": [
        "y=y.astype('category')\n"
      ],
      "metadata": {
        "id": "LlvwwQklpsRY"
      },
      "execution_count": null,
      "outputs": []
    },
    {
      "cell_type": "code",
      "source": [
        "x_train,x_test,y_train,y_test=train_test_split(x,y,test_size=0.3,random_state=123)\n",
        "print(x_train.shape)\n",
        "print(x_test.shape)\n",
        "print(y_train.shape)\n",
        "print(y_test.shape)"
      ],
      "metadata": {
        "colab": {
          "base_uri": "https://localhost:8080/"
        },
        "id": "VyIrYGKffpvn",
        "outputId": "e8051f3a-b9b5-4565-9716-a54030bff2aa"
      },
      "execution_count": null,
      "outputs": [
        {
          "output_type": "stream",
          "name": "stdout",
          "text": [
            "(5600, 17)\n",
            "(2401, 17)\n",
            "(5600,)\n",
            "(2401,)\n"
          ]
        }
      ]
    },
    {
      "cell_type": "code",
      "source": [
        "y.value_counts()"
      ],
      "metadata": {
        "colab": {
          "base_uri": "https://localhost:8080/"
        },
        "id": "o2KtFYvjfpr9",
        "outputId": "912c74f7-5098-4109-d6f5-7c8a1a1ae4af"
      },
      "execution_count": null,
      "outputs": [
        {
          "output_type": "execute_result",
          "data": {
            "text/plain": [
              "UE    3501\n",
              "W     2682\n",
              "FE    1818\n",
              "Name: outcome, dtype: int64"
            ]
          },
          "metadata": {},
          "execution_count": 118
        }
      ]
    },
    {
      "cell_type": "code",
      "source": [
        "def evaluate_model(act, pred):\n",
        "    from sklearn.metrics import confusion_matrix, accuracy_score, recall_score, precision_score\n",
        "    print(\"Confusion Matrix \\n\", confusion_matrix(act, pred))\n",
        "    print(\"Accurcay : \", accuracy_score(act, pred))\n",
        "    print(\"Recall   : \", recall_score(act, pred,average='weighted'))\n",
        "    print(\"Precision: \", precision_score(act, pred,average='weighted'))    "
      ],
      "metadata": {
        "id": "RzQ_uh1Afpmv"
      },
      "execution_count": null,
      "outputs": []
    },
    {
      "cell_type": "code",
      "source": [
        "numeric_transformer = Pipeline(\n",
        "    steps = [\n",
        "        ('imputer',SimpleImputer(strategy='mean')),\n",
        "        ('scaler', StandardScaler())\n",
        "    ]\n",
        ")"
      ],
      "metadata": {
        "id": "XNyLB6_0fpjn"
      },
      "execution_count": null,
      "outputs": []
    },
    {
      "cell_type": "code",
      "source": [
        "categorical_tranformer = Pipeline(\n",
        "    steps = [\n",
        "        ('imputer', SimpleImputer(strategy='most_frequent')),\n",
        "        ('onehot', OneHotEncoder(handle_unknown = 'ignore'))\n",
        "    ]\n",
        ")"
      ],
      "metadata": {
        "id": "ytDdTFSWfpdp"
      },
      "execution_count": null,
      "outputs": []
    },
    {
      "cell_type": "code",
      "source": [
        "preprocessor = ColumnTransformer(\n",
        "    transformers=[\n",
        "        ('num', numeric_transformer, num_cols),\n",
        "        ('cat', categorical_tranformer, cat_cols)\n",
        "    ]\n",
        ")"
      ],
      "metadata": {
        "id": "J1hwS-oxnqPN"
      },
      "execution_count": null,
      "outputs": []
    },
    {
      "cell_type": "code",
      "source": [
        "RF_pipe = Pipeline(steps=[('preprocessor', preprocessor),\n",
        "                      ('classifier', RandomForestClassifier())])"
      ],
      "metadata": {
        "id": "j_dhvwe4nU9v"
      },
      "execution_count": null,
      "outputs": []
    },
    {
      "cell_type": "code",
      "source": [
        "RF_pipe.fit(x_train, y_train)"
      ],
      "metadata": {
        "colab": {
          "base_uri": "https://localhost:8080/"
        },
        "id": "k2w1gw_TnU7I",
        "outputId": "0e334c3f-6cb0-4a78-f2c3-f4777ed1ce26"
      },
      "execution_count": null,
      "outputs": [
        {
          "output_type": "execute_result",
          "data": {
            "text/plain": [
              "Pipeline(steps=[('preprocessor',\n",
              "                 ColumnTransformer(transformers=[('num',\n",
              "                                                  Pipeline(steps=[('imputer',\n",
              "                                                                   SimpleImputer()),\n",
              "                                                                  ('scaler',\n",
              "                                                                   StandardScaler())]),\n",
              "                                                  Index(['rally', 'serve', 'net.clearance', 'player.distance.travelled',\n",
              "       'player.impact.depth', 'player.impact.distance.from.center',\n",
              "       'player.depth', 'player.distance.from.center', 'opponent.depth',\n",
              "       'opponent.distance.from.center'],\n",
              "      dtype='object')),\n",
              "                                                 ('cat',\n",
              "                                                  Pipeline(steps=[('imputer',\n",
              "                                                                   SimpleImputer(strategy='most_frequent')),\n",
              "                                                                  ('onehot',\n",
              "                                                                   OneHotEncoder(handle_unknown='ignore'))]),\n",
              "                                                  Index(['hitpoint', 'outside.sideline', 'outside.baseline', 'same.side',\n",
              "       'previous.hitpoint', 'server.is.impact.player', 'gender'],\n",
              "      dtype='object'))])),\n",
              "                ('classifier', RandomForestClassifier())])"
            ]
          },
          "metadata": {},
          "execution_count": 124
        }
      ]
    },
    {
      "cell_type": "code",
      "source": [
        "train_pred_RFPipe = RF_pipe.predict(x_train)\n",
        "train_pred_RFPipe"
      ],
      "metadata": {
        "colab": {
          "base_uri": "https://localhost:8080/"
        },
        "id": "4gXQQ7cSnU4S",
        "outputId": "83179199-0556-4e6c-cbd8-ff82ff746957"
      },
      "execution_count": null,
      "outputs": [
        {
          "output_type": "execute_result",
          "data": {
            "text/plain": [
              "array(['FE', 'FE', 'UE', ..., 'W', 'W', 'UE'], dtype=object)"
            ]
          },
          "metadata": {},
          "execution_count": 125
        }
      ]
    },
    {
      "cell_type": "code",
      "source": [
        "test_pred_RFPipe = RF_pipe.predict(x_test)\n",
        "test_pred_RFPipe"
      ],
      "metadata": {
        "colab": {
          "base_uri": "https://localhost:8080/"
        },
        "id": "ktqoSfO7nU05",
        "outputId": "fcbfa990-0e14-4599-ddff-4838124869fd"
      },
      "execution_count": null,
      "outputs": [
        {
          "output_type": "execute_result",
          "data": {
            "text/plain": [
              "array(['W', 'W', 'FE', ..., 'UE', 'UE', 'FE'], dtype=object)"
            ]
          },
          "metadata": {},
          "execution_count": 126
        }
      ]
    },
    {
      "cell_type": "code",
      "source": [
        "print(\"--Train--\")\n",
        "evaluate_model(y_train, train_pred_RFPipe)\n",
        "print(\"--Test--\")\n",
        "evaluate_model(y_test, test_pred_RFPipe)"
      ],
      "metadata": {
        "colab": {
          "base_uri": "https://localhost:8080/"
        },
        "id": "3DBA3sP2nUxg",
        "outputId": "a7b0cb1d-819c-436e-cce5-5bea5b82cce1"
      },
      "execution_count": null,
      "outputs": [
        {
          "output_type": "stream",
          "name": "stdout",
          "text": [
            "--Train--\n",
            "Confusion Matrix \n",
            " [[1300    0    0]\n",
            " [   0 2419    0]\n",
            " [   0    0 1881]]\n",
            "Accurcay :  1.0\n",
            "Recall   :  1.0\n",
            "Precision:  1.0\n",
            "--Test--\n",
            "Confusion Matrix \n",
            " [[311 184  23]\n",
            " [121 898  63]\n",
            " [ 12  23 766]]\n",
            "Accurcay :  0.8225739275301958\n",
            "Recall   :  0.8225739275301958\n",
            "Precision:  0.8172802240492898\n"
          ]
        }
      ]
    },
    {
      "cell_type": "code",
      "source": [
        "from sklearn import set_config\n",
        "set_config (display='diagram')\n",
        "RF_pipe"
      ],
      "metadata": {
        "colab": {
          "base_uri": "https://localhost:8080/",
          "height": 227
        },
        "id": "LXXbQ5AUoMUt",
        "outputId": "e15950b0-2e53-46fc-db27-a6b49222f6f2"
      },
      "execution_count": null,
      "outputs": [
        {
          "output_type": "execute_result",
          "data": {
            "text/plain": [
              "Pipeline(steps=[('preprocessor',\n",
              "                 ColumnTransformer(transformers=[('num',\n",
              "                                                  Pipeline(steps=[('imputer',\n",
              "                                                                   SimpleImputer()),\n",
              "                                                                  ('scaler',\n",
              "                                                                   StandardScaler())]),\n",
              "                                                  Index(['rally', 'serve', 'net.clearance', 'player.distance.travelled',\n",
              "       'player.impact.depth', 'player.impact.distance.from.center',\n",
              "       'player.depth', 'player.distance.from.center', 'opponent.depth',\n",
              "       'opponent.distance.from.center'],\n",
              "      dtype='object')),\n",
              "                                                 ('cat',\n",
              "                                                  Pipeline(steps=[('imputer',\n",
              "                                                                   SimpleImputer(strategy='most_frequent')),\n",
              "                                                                  ('onehot',\n",
              "                                                                   OneHotEncoder(handle_unknown='ignore'))]),\n",
              "                                                  Index(['hitpoint', 'outside.sideline', 'outside.baseline', 'same.side',\n",
              "       'previous.hitpoint', 'server.is.impact.player', 'gender'],\n",
              "      dtype='object'))])),\n",
              "                ('classifier', RandomForestClassifier())])"
            ],
            "text/html": [
              "<style>#sk-ccb6b0a3-c12b-461c-a057-4ef3a75c6fdd {color: black;background-color: white;}#sk-ccb6b0a3-c12b-461c-a057-4ef3a75c6fdd pre{padding: 0;}#sk-ccb6b0a3-c12b-461c-a057-4ef3a75c6fdd div.sk-toggleable {background-color: white;}#sk-ccb6b0a3-c12b-461c-a057-4ef3a75c6fdd label.sk-toggleable__label {cursor: pointer;display: block;width: 100%;margin-bottom: 0;padding: 0.3em;box-sizing: border-box;text-align: center;}#sk-ccb6b0a3-c12b-461c-a057-4ef3a75c6fdd label.sk-toggleable__label-arrow:before {content: \"▸\";float: left;margin-right: 0.25em;color: #696969;}#sk-ccb6b0a3-c12b-461c-a057-4ef3a75c6fdd label.sk-toggleable__label-arrow:hover:before {color: black;}#sk-ccb6b0a3-c12b-461c-a057-4ef3a75c6fdd div.sk-estimator:hover label.sk-toggleable__label-arrow:before {color: black;}#sk-ccb6b0a3-c12b-461c-a057-4ef3a75c6fdd div.sk-toggleable__content {max-height: 0;max-width: 0;overflow: hidden;text-align: left;background-color: #f0f8ff;}#sk-ccb6b0a3-c12b-461c-a057-4ef3a75c6fdd div.sk-toggleable__content pre {margin: 0.2em;color: black;border-radius: 0.25em;background-color: #f0f8ff;}#sk-ccb6b0a3-c12b-461c-a057-4ef3a75c6fdd input.sk-toggleable__control:checked~div.sk-toggleable__content {max-height: 200px;max-width: 100%;overflow: auto;}#sk-ccb6b0a3-c12b-461c-a057-4ef3a75c6fdd input.sk-toggleable__control:checked~label.sk-toggleable__label-arrow:before {content: \"▾\";}#sk-ccb6b0a3-c12b-461c-a057-4ef3a75c6fdd div.sk-estimator input.sk-toggleable__control:checked~label.sk-toggleable__label {background-color: #d4ebff;}#sk-ccb6b0a3-c12b-461c-a057-4ef3a75c6fdd div.sk-label input.sk-toggleable__control:checked~label.sk-toggleable__label {background-color: #d4ebff;}#sk-ccb6b0a3-c12b-461c-a057-4ef3a75c6fdd input.sk-hidden--visually {border: 0;clip: rect(1px 1px 1px 1px);clip: rect(1px, 1px, 1px, 1px);height: 1px;margin: -1px;overflow: hidden;padding: 0;position: absolute;width: 1px;}#sk-ccb6b0a3-c12b-461c-a057-4ef3a75c6fdd div.sk-estimator {font-family: monospace;background-color: #f0f8ff;border: 1px dotted black;border-radius: 0.25em;box-sizing: border-box;margin-bottom: 0.5em;}#sk-ccb6b0a3-c12b-461c-a057-4ef3a75c6fdd div.sk-estimator:hover {background-color: #d4ebff;}#sk-ccb6b0a3-c12b-461c-a057-4ef3a75c6fdd div.sk-parallel-item::after {content: \"\";width: 100%;border-bottom: 1px solid gray;flex-grow: 1;}#sk-ccb6b0a3-c12b-461c-a057-4ef3a75c6fdd div.sk-label:hover label.sk-toggleable__label {background-color: #d4ebff;}#sk-ccb6b0a3-c12b-461c-a057-4ef3a75c6fdd div.sk-serial::before {content: \"\";position: absolute;border-left: 1px solid gray;box-sizing: border-box;top: 2em;bottom: 0;left: 50%;}#sk-ccb6b0a3-c12b-461c-a057-4ef3a75c6fdd div.sk-serial {display: flex;flex-direction: column;align-items: center;background-color: white;padding-right: 0.2em;padding-left: 0.2em;}#sk-ccb6b0a3-c12b-461c-a057-4ef3a75c6fdd div.sk-item {z-index: 1;}#sk-ccb6b0a3-c12b-461c-a057-4ef3a75c6fdd div.sk-parallel {display: flex;align-items: stretch;justify-content: center;background-color: white;}#sk-ccb6b0a3-c12b-461c-a057-4ef3a75c6fdd div.sk-parallel::before {content: \"\";position: absolute;border-left: 1px solid gray;box-sizing: border-box;top: 2em;bottom: 0;left: 50%;}#sk-ccb6b0a3-c12b-461c-a057-4ef3a75c6fdd div.sk-parallel-item {display: flex;flex-direction: column;position: relative;background-color: white;}#sk-ccb6b0a3-c12b-461c-a057-4ef3a75c6fdd div.sk-parallel-item:first-child::after {align-self: flex-end;width: 50%;}#sk-ccb6b0a3-c12b-461c-a057-4ef3a75c6fdd div.sk-parallel-item:last-child::after {align-self: flex-start;width: 50%;}#sk-ccb6b0a3-c12b-461c-a057-4ef3a75c6fdd div.sk-parallel-item:only-child::after {width: 0;}#sk-ccb6b0a3-c12b-461c-a057-4ef3a75c6fdd div.sk-dashed-wrapped {border: 1px dashed gray;margin: 0 0.4em 0.5em 0.4em;box-sizing: border-box;padding-bottom: 0.4em;background-color: white;position: relative;}#sk-ccb6b0a3-c12b-461c-a057-4ef3a75c6fdd div.sk-label label {font-family: monospace;font-weight: bold;background-color: white;display: inline-block;line-height: 1.2em;}#sk-ccb6b0a3-c12b-461c-a057-4ef3a75c6fdd div.sk-label-container {position: relative;z-index: 2;text-align: center;}#sk-ccb6b0a3-c12b-461c-a057-4ef3a75c6fdd div.sk-container {/* jupyter's `normalize.less` sets `[hidden] { display: none; }` but bootstrap.min.css set `[hidden] { display: none !important; }` so we also need the `!important` here to be able to override the default hidden behavior on the sphinx rendered scikit-learn.org. See: https://github.com/scikit-learn/scikit-learn/issues/21755 */display: inline-block !important;position: relative;}#sk-ccb6b0a3-c12b-461c-a057-4ef3a75c6fdd div.sk-text-repr-fallback {display: none;}</style><div id=\"sk-ccb6b0a3-c12b-461c-a057-4ef3a75c6fdd\" class=\"sk-top-container\"><div class=\"sk-text-repr-fallback\"><pre>Pipeline(steps=[(&#x27;preprocessor&#x27;,\n",
              "                 ColumnTransformer(transformers=[(&#x27;num&#x27;,\n",
              "                                                  Pipeline(steps=[(&#x27;imputer&#x27;,\n",
              "                                                                   SimpleImputer()),\n",
              "                                                                  (&#x27;scaler&#x27;,\n",
              "                                                                   StandardScaler())]),\n",
              "                                                  Index([&#x27;rally&#x27;, &#x27;serve&#x27;, &#x27;net.clearance&#x27;, &#x27;player.distance.travelled&#x27;,\n",
              "       &#x27;player.impact.depth&#x27;, &#x27;player.impact.distance.from.center&#x27;,\n",
              "       &#x27;player.depth&#x27;, &#x27;player.distance.from.center&#x27;, &#x27;opponent.depth&#x27;,\n",
              "       &#x27;opponent.distance.from.center&#x27;],\n",
              "      dtype=&#x27;object&#x27;)),\n",
              "                                                 (&#x27;cat&#x27;,\n",
              "                                                  Pipeline(steps=[(&#x27;imputer&#x27;,\n",
              "                                                                   SimpleImputer(strategy=&#x27;most_frequent&#x27;)),\n",
              "                                                                  (&#x27;onehot&#x27;,\n",
              "                                                                   OneHotEncoder(handle_unknown=&#x27;ignore&#x27;))]),\n",
              "                                                  Index([&#x27;hitpoint&#x27;, &#x27;outside.sideline&#x27;, &#x27;outside.baseline&#x27;, &#x27;same.side&#x27;,\n",
              "       &#x27;previous.hitpoint&#x27;, &#x27;server.is.impact.player&#x27;, &#x27;gender&#x27;],\n",
              "      dtype=&#x27;object&#x27;))])),\n",
              "                (&#x27;classifier&#x27;, RandomForestClassifier())])</pre><b>Please rerun this cell to show the HTML repr or trust the notebook.</b></div><div class=\"sk-container\" hidden><div class=\"sk-item sk-dashed-wrapped\"><div class=\"sk-label-container\"><div class=\"sk-label sk-toggleable\"><input class=\"sk-toggleable__control sk-hidden--visually\" id=\"1f1f3c37-3038-4d19-9d80-6a2fbff77b85\" type=\"checkbox\" ><label for=\"1f1f3c37-3038-4d19-9d80-6a2fbff77b85\" class=\"sk-toggleable__label sk-toggleable__label-arrow\">Pipeline</label><div class=\"sk-toggleable__content\"><pre>Pipeline(steps=[(&#x27;preprocessor&#x27;,\n",
              "                 ColumnTransformer(transformers=[(&#x27;num&#x27;,\n",
              "                                                  Pipeline(steps=[(&#x27;imputer&#x27;,\n",
              "                                                                   SimpleImputer()),\n",
              "                                                                  (&#x27;scaler&#x27;,\n",
              "                                                                   StandardScaler())]),\n",
              "                                                  Index([&#x27;rally&#x27;, &#x27;serve&#x27;, &#x27;net.clearance&#x27;, &#x27;player.distance.travelled&#x27;,\n",
              "       &#x27;player.impact.depth&#x27;, &#x27;player.impact.distance.from.center&#x27;,\n",
              "       &#x27;player.depth&#x27;, &#x27;player.distance.from.center&#x27;, &#x27;opponent.depth&#x27;,\n",
              "       &#x27;opponent.distance.from.center&#x27;],\n",
              "      dtype=&#x27;object&#x27;)),\n",
              "                                                 (&#x27;cat&#x27;,\n",
              "                                                  Pipeline(steps=[(&#x27;imputer&#x27;,\n",
              "                                                                   SimpleImputer(strategy=&#x27;most_frequent&#x27;)),\n",
              "                                                                  (&#x27;onehot&#x27;,\n",
              "                                                                   OneHotEncoder(handle_unknown=&#x27;ignore&#x27;))]),\n",
              "                                                  Index([&#x27;hitpoint&#x27;, &#x27;outside.sideline&#x27;, &#x27;outside.baseline&#x27;, &#x27;same.side&#x27;,\n",
              "       &#x27;previous.hitpoint&#x27;, &#x27;server.is.impact.player&#x27;, &#x27;gender&#x27;],\n",
              "      dtype=&#x27;object&#x27;))])),\n",
              "                (&#x27;classifier&#x27;, RandomForestClassifier())])</pre></div></div></div><div class=\"sk-serial\"><div class=\"sk-item sk-dashed-wrapped\"><div class=\"sk-label-container\"><div class=\"sk-label sk-toggleable\"><input class=\"sk-toggleable__control sk-hidden--visually\" id=\"9b6efb1f-010c-4ef6-b69f-f4f043e93e0d\" type=\"checkbox\" ><label for=\"9b6efb1f-010c-4ef6-b69f-f4f043e93e0d\" class=\"sk-toggleable__label sk-toggleable__label-arrow\">preprocessor: ColumnTransformer</label><div class=\"sk-toggleable__content\"><pre>ColumnTransformer(transformers=[(&#x27;num&#x27;,\n",
              "                                 Pipeline(steps=[(&#x27;imputer&#x27;, SimpleImputer()),\n",
              "                                                 (&#x27;scaler&#x27;, StandardScaler())]),\n",
              "                                 Index([&#x27;rally&#x27;, &#x27;serve&#x27;, &#x27;net.clearance&#x27;, &#x27;player.distance.travelled&#x27;,\n",
              "       &#x27;player.impact.depth&#x27;, &#x27;player.impact.distance.from.center&#x27;,\n",
              "       &#x27;player.depth&#x27;, &#x27;player.distance.from.center&#x27;, &#x27;opponent.depth&#x27;,\n",
              "       &#x27;opponent.distance.from.center&#x27;],\n",
              "      dtype=&#x27;object&#x27;)),\n",
              "                                (&#x27;cat&#x27;,\n",
              "                                 Pipeline(steps=[(&#x27;imputer&#x27;,\n",
              "                                                  SimpleImputer(strategy=&#x27;most_frequent&#x27;)),\n",
              "                                                 (&#x27;onehot&#x27;,\n",
              "                                                  OneHotEncoder(handle_unknown=&#x27;ignore&#x27;))]),\n",
              "                                 Index([&#x27;hitpoint&#x27;, &#x27;outside.sideline&#x27;, &#x27;outside.baseline&#x27;, &#x27;same.side&#x27;,\n",
              "       &#x27;previous.hitpoint&#x27;, &#x27;server.is.impact.player&#x27;, &#x27;gender&#x27;],\n",
              "      dtype=&#x27;object&#x27;))])</pre></div></div></div><div class=\"sk-parallel\"><div class=\"sk-parallel-item\"><div class=\"sk-item\"><div class=\"sk-label-container\"><div class=\"sk-label sk-toggleable\"><input class=\"sk-toggleable__control sk-hidden--visually\" id=\"619bd2b9-c444-4535-8753-20f8819ee318\" type=\"checkbox\" ><label for=\"619bd2b9-c444-4535-8753-20f8819ee318\" class=\"sk-toggleable__label sk-toggleable__label-arrow\">num</label><div class=\"sk-toggleable__content\"><pre>Index([&#x27;rally&#x27;, &#x27;serve&#x27;, &#x27;net.clearance&#x27;, &#x27;player.distance.travelled&#x27;,\n",
              "       &#x27;player.impact.depth&#x27;, &#x27;player.impact.distance.from.center&#x27;,\n",
              "       &#x27;player.depth&#x27;, &#x27;player.distance.from.center&#x27;, &#x27;opponent.depth&#x27;,\n",
              "       &#x27;opponent.distance.from.center&#x27;],\n",
              "      dtype=&#x27;object&#x27;)</pre></div></div></div><div class=\"sk-serial\"><div class=\"sk-item\"><div class=\"sk-serial\"><div class=\"sk-item\"><div class=\"sk-estimator sk-toggleable\"><input class=\"sk-toggleable__control sk-hidden--visually\" id=\"e3e3502c-0b19-4c55-96c2-339f57509a14\" type=\"checkbox\" ><label for=\"e3e3502c-0b19-4c55-96c2-339f57509a14\" class=\"sk-toggleable__label sk-toggleable__label-arrow\">SimpleImputer</label><div class=\"sk-toggleable__content\"><pre>SimpleImputer()</pre></div></div></div><div class=\"sk-item\"><div class=\"sk-estimator sk-toggleable\"><input class=\"sk-toggleable__control sk-hidden--visually\" id=\"5c2e56a5-97ef-4311-8343-8144bc4d20b6\" type=\"checkbox\" ><label for=\"5c2e56a5-97ef-4311-8343-8144bc4d20b6\" class=\"sk-toggleable__label sk-toggleable__label-arrow\">StandardScaler</label><div class=\"sk-toggleable__content\"><pre>StandardScaler()</pre></div></div></div></div></div></div></div></div><div class=\"sk-parallel-item\"><div class=\"sk-item\"><div class=\"sk-label-container\"><div class=\"sk-label sk-toggleable\"><input class=\"sk-toggleable__control sk-hidden--visually\" id=\"46b3c115-cb84-454f-ac78-773fed4a6303\" type=\"checkbox\" ><label for=\"46b3c115-cb84-454f-ac78-773fed4a6303\" class=\"sk-toggleable__label sk-toggleable__label-arrow\">cat</label><div class=\"sk-toggleable__content\"><pre>Index([&#x27;hitpoint&#x27;, &#x27;outside.sideline&#x27;, &#x27;outside.baseline&#x27;, &#x27;same.side&#x27;,\n",
              "       &#x27;previous.hitpoint&#x27;, &#x27;server.is.impact.player&#x27;, &#x27;gender&#x27;],\n",
              "      dtype=&#x27;object&#x27;)</pre></div></div></div><div class=\"sk-serial\"><div class=\"sk-item\"><div class=\"sk-serial\"><div class=\"sk-item\"><div class=\"sk-estimator sk-toggleable\"><input class=\"sk-toggleable__control sk-hidden--visually\" id=\"56dacaa2-c8cb-47b7-878e-cdbe6a7b5508\" type=\"checkbox\" ><label for=\"56dacaa2-c8cb-47b7-878e-cdbe6a7b5508\" class=\"sk-toggleable__label sk-toggleable__label-arrow\">SimpleImputer</label><div class=\"sk-toggleable__content\"><pre>SimpleImputer(strategy=&#x27;most_frequent&#x27;)</pre></div></div></div><div class=\"sk-item\"><div class=\"sk-estimator sk-toggleable\"><input class=\"sk-toggleable__control sk-hidden--visually\" id=\"4594a0b8-8a57-4edc-8c2d-f3c63a50c383\" type=\"checkbox\" ><label for=\"4594a0b8-8a57-4edc-8c2d-f3c63a50c383\" class=\"sk-toggleable__label sk-toggleable__label-arrow\">OneHotEncoder</label><div class=\"sk-toggleable__content\"><pre>OneHotEncoder(handle_unknown=&#x27;ignore&#x27;)</pre></div></div></div></div></div></div></div></div></div></div><div class=\"sk-item\"><div class=\"sk-estimator sk-toggleable\"><input class=\"sk-toggleable__control sk-hidden--visually\" id=\"bff5d326-e010-4ff8-bf90-18ba472f282c\" type=\"checkbox\" ><label for=\"bff5d326-e010-4ff8-bf90-18ba472f282c\" class=\"sk-toggleable__label sk-toggleable__label-arrow\">RandomForestClassifier</label><div class=\"sk-toggleable__content\"><pre>RandomForestClassifier()</pre></div></div></div></div></div></div></div>"
            ]
          },
          "metadata": {},
          "execution_count": 136
        }
      ]
    },
    {
      "cell_type": "code",
      "source": [
        "Adaboost_pipe = Pipeline(steps=[('preprocessor', preprocessor),\n",
        "                      ('classifier', AdaBoostClassifier())])"
      ],
      "metadata": {
        "id": "Fs7cg-zLoMR2"
      },
      "execution_count": null,
      "outputs": []
    },
    {
      "cell_type": "code",
      "source": [
        "Adaboost_pipe.fit(x_train,y_train)"
      ],
      "metadata": {
        "colab": {
          "base_uri": "https://localhost:8080/",
          "height": 227
        },
        "id": "NBSHPZyoxH61",
        "outputId": "13379110-319a-4a58-a1d6-22d12217d656"
      },
      "execution_count": null,
      "outputs": [
        {
          "output_type": "execute_result",
          "data": {
            "text/plain": [
              "Pipeline(steps=[('preprocessor',\n",
              "                 ColumnTransformer(transformers=[('num',\n",
              "                                                  Pipeline(steps=[('imputer',\n",
              "                                                                   SimpleImputer()),\n",
              "                                                                  ('scaler',\n",
              "                                                                   StandardScaler())]),\n",
              "                                                  Index(['rally', 'serve', 'net.clearance', 'player.distance.travelled',\n",
              "       'player.impact.depth', 'player.impact.distance.from.center',\n",
              "       'player.depth', 'player.distance.from.center', 'opponent.depth',\n",
              "       'opponent.distance.from.center'],\n",
              "      dtype='object')),\n",
              "                                                 ('cat',\n",
              "                                                  Pipeline(steps=[('imputer',\n",
              "                                                                   SimpleImputer(strategy='most_frequent')),\n",
              "                                                                  ('onehot',\n",
              "                                                                   OneHotEncoder(handle_unknown='ignore'))]),\n",
              "                                                  Index(['hitpoint', 'outside.sideline', 'outside.baseline', 'same.side',\n",
              "       'previous.hitpoint', 'server.is.impact.player', 'gender'],\n",
              "      dtype='object'))])),\n",
              "                ('classifier', AdaBoostClassifier())])"
            ],
            "text/html": [
              "<style>#sk-f0975d3a-c658-4160-bb37-06768340b8e7 {color: black;background-color: white;}#sk-f0975d3a-c658-4160-bb37-06768340b8e7 pre{padding: 0;}#sk-f0975d3a-c658-4160-bb37-06768340b8e7 div.sk-toggleable {background-color: white;}#sk-f0975d3a-c658-4160-bb37-06768340b8e7 label.sk-toggleable__label {cursor: pointer;display: block;width: 100%;margin-bottom: 0;padding: 0.3em;box-sizing: border-box;text-align: center;}#sk-f0975d3a-c658-4160-bb37-06768340b8e7 label.sk-toggleable__label-arrow:before {content: \"▸\";float: left;margin-right: 0.25em;color: #696969;}#sk-f0975d3a-c658-4160-bb37-06768340b8e7 label.sk-toggleable__label-arrow:hover:before {color: black;}#sk-f0975d3a-c658-4160-bb37-06768340b8e7 div.sk-estimator:hover label.sk-toggleable__label-arrow:before {color: black;}#sk-f0975d3a-c658-4160-bb37-06768340b8e7 div.sk-toggleable__content {max-height: 0;max-width: 0;overflow: hidden;text-align: left;background-color: #f0f8ff;}#sk-f0975d3a-c658-4160-bb37-06768340b8e7 div.sk-toggleable__content pre {margin: 0.2em;color: black;border-radius: 0.25em;background-color: #f0f8ff;}#sk-f0975d3a-c658-4160-bb37-06768340b8e7 input.sk-toggleable__control:checked~div.sk-toggleable__content {max-height: 200px;max-width: 100%;overflow: auto;}#sk-f0975d3a-c658-4160-bb37-06768340b8e7 input.sk-toggleable__control:checked~label.sk-toggleable__label-arrow:before {content: \"▾\";}#sk-f0975d3a-c658-4160-bb37-06768340b8e7 div.sk-estimator input.sk-toggleable__control:checked~label.sk-toggleable__label {background-color: #d4ebff;}#sk-f0975d3a-c658-4160-bb37-06768340b8e7 div.sk-label input.sk-toggleable__control:checked~label.sk-toggleable__label {background-color: #d4ebff;}#sk-f0975d3a-c658-4160-bb37-06768340b8e7 input.sk-hidden--visually {border: 0;clip: rect(1px 1px 1px 1px);clip: rect(1px, 1px, 1px, 1px);height: 1px;margin: -1px;overflow: hidden;padding: 0;position: absolute;width: 1px;}#sk-f0975d3a-c658-4160-bb37-06768340b8e7 div.sk-estimator {font-family: monospace;background-color: #f0f8ff;border: 1px dotted black;border-radius: 0.25em;box-sizing: border-box;margin-bottom: 0.5em;}#sk-f0975d3a-c658-4160-bb37-06768340b8e7 div.sk-estimator:hover {background-color: #d4ebff;}#sk-f0975d3a-c658-4160-bb37-06768340b8e7 div.sk-parallel-item::after {content: \"\";width: 100%;border-bottom: 1px solid gray;flex-grow: 1;}#sk-f0975d3a-c658-4160-bb37-06768340b8e7 div.sk-label:hover label.sk-toggleable__label {background-color: #d4ebff;}#sk-f0975d3a-c658-4160-bb37-06768340b8e7 div.sk-serial::before {content: \"\";position: absolute;border-left: 1px solid gray;box-sizing: border-box;top: 2em;bottom: 0;left: 50%;}#sk-f0975d3a-c658-4160-bb37-06768340b8e7 div.sk-serial {display: flex;flex-direction: column;align-items: center;background-color: white;padding-right: 0.2em;padding-left: 0.2em;}#sk-f0975d3a-c658-4160-bb37-06768340b8e7 div.sk-item {z-index: 1;}#sk-f0975d3a-c658-4160-bb37-06768340b8e7 div.sk-parallel {display: flex;align-items: stretch;justify-content: center;background-color: white;}#sk-f0975d3a-c658-4160-bb37-06768340b8e7 div.sk-parallel::before {content: \"\";position: absolute;border-left: 1px solid gray;box-sizing: border-box;top: 2em;bottom: 0;left: 50%;}#sk-f0975d3a-c658-4160-bb37-06768340b8e7 div.sk-parallel-item {display: flex;flex-direction: column;position: relative;background-color: white;}#sk-f0975d3a-c658-4160-bb37-06768340b8e7 div.sk-parallel-item:first-child::after {align-self: flex-end;width: 50%;}#sk-f0975d3a-c658-4160-bb37-06768340b8e7 div.sk-parallel-item:last-child::after {align-self: flex-start;width: 50%;}#sk-f0975d3a-c658-4160-bb37-06768340b8e7 div.sk-parallel-item:only-child::after {width: 0;}#sk-f0975d3a-c658-4160-bb37-06768340b8e7 div.sk-dashed-wrapped {border: 1px dashed gray;margin: 0 0.4em 0.5em 0.4em;box-sizing: border-box;padding-bottom: 0.4em;background-color: white;position: relative;}#sk-f0975d3a-c658-4160-bb37-06768340b8e7 div.sk-label label {font-family: monospace;font-weight: bold;background-color: white;display: inline-block;line-height: 1.2em;}#sk-f0975d3a-c658-4160-bb37-06768340b8e7 div.sk-label-container {position: relative;z-index: 2;text-align: center;}#sk-f0975d3a-c658-4160-bb37-06768340b8e7 div.sk-container {/* jupyter's `normalize.less` sets `[hidden] { display: none; }` but bootstrap.min.css set `[hidden] { display: none !important; }` so we also need the `!important` here to be able to override the default hidden behavior on the sphinx rendered scikit-learn.org. See: https://github.com/scikit-learn/scikit-learn/issues/21755 */display: inline-block !important;position: relative;}#sk-f0975d3a-c658-4160-bb37-06768340b8e7 div.sk-text-repr-fallback {display: none;}</style><div id=\"sk-f0975d3a-c658-4160-bb37-06768340b8e7\" class=\"sk-top-container\"><div class=\"sk-text-repr-fallback\"><pre>Pipeline(steps=[(&#x27;preprocessor&#x27;,\n",
              "                 ColumnTransformer(transformers=[(&#x27;num&#x27;,\n",
              "                                                  Pipeline(steps=[(&#x27;imputer&#x27;,\n",
              "                                                                   SimpleImputer()),\n",
              "                                                                  (&#x27;scaler&#x27;,\n",
              "                                                                   StandardScaler())]),\n",
              "                                                  Index([&#x27;rally&#x27;, &#x27;serve&#x27;, &#x27;net.clearance&#x27;, &#x27;player.distance.travelled&#x27;,\n",
              "       &#x27;player.impact.depth&#x27;, &#x27;player.impact.distance.from.center&#x27;,\n",
              "       &#x27;player.depth&#x27;, &#x27;player.distance.from.center&#x27;, &#x27;opponent.depth&#x27;,\n",
              "       &#x27;opponent.distance.from.center&#x27;],\n",
              "      dtype=&#x27;object&#x27;)),\n",
              "                                                 (&#x27;cat&#x27;,\n",
              "                                                  Pipeline(steps=[(&#x27;imputer&#x27;,\n",
              "                                                                   SimpleImputer(strategy=&#x27;most_frequent&#x27;)),\n",
              "                                                                  (&#x27;onehot&#x27;,\n",
              "                                                                   OneHotEncoder(handle_unknown=&#x27;ignore&#x27;))]),\n",
              "                                                  Index([&#x27;hitpoint&#x27;, &#x27;outside.sideline&#x27;, &#x27;outside.baseline&#x27;, &#x27;same.side&#x27;,\n",
              "       &#x27;previous.hitpoint&#x27;, &#x27;server.is.impact.player&#x27;, &#x27;gender&#x27;],\n",
              "      dtype=&#x27;object&#x27;))])),\n",
              "                (&#x27;classifier&#x27;, AdaBoostClassifier())])</pre><b>Please rerun this cell to show the HTML repr or trust the notebook.</b></div><div class=\"sk-container\" hidden><div class=\"sk-item sk-dashed-wrapped\"><div class=\"sk-label-container\"><div class=\"sk-label sk-toggleable\"><input class=\"sk-toggleable__control sk-hidden--visually\" id=\"5b5f5501-43a6-4552-bc60-285f0db0e5ef\" type=\"checkbox\" ><label for=\"5b5f5501-43a6-4552-bc60-285f0db0e5ef\" class=\"sk-toggleable__label sk-toggleable__label-arrow\">Pipeline</label><div class=\"sk-toggleable__content\"><pre>Pipeline(steps=[(&#x27;preprocessor&#x27;,\n",
              "                 ColumnTransformer(transformers=[(&#x27;num&#x27;,\n",
              "                                                  Pipeline(steps=[(&#x27;imputer&#x27;,\n",
              "                                                                   SimpleImputer()),\n",
              "                                                                  (&#x27;scaler&#x27;,\n",
              "                                                                   StandardScaler())]),\n",
              "                                                  Index([&#x27;rally&#x27;, &#x27;serve&#x27;, &#x27;net.clearance&#x27;, &#x27;player.distance.travelled&#x27;,\n",
              "       &#x27;player.impact.depth&#x27;, &#x27;player.impact.distance.from.center&#x27;,\n",
              "       &#x27;player.depth&#x27;, &#x27;player.distance.from.center&#x27;, &#x27;opponent.depth&#x27;,\n",
              "       &#x27;opponent.distance.from.center&#x27;],\n",
              "      dtype=&#x27;object&#x27;)),\n",
              "                                                 (&#x27;cat&#x27;,\n",
              "                                                  Pipeline(steps=[(&#x27;imputer&#x27;,\n",
              "                                                                   SimpleImputer(strategy=&#x27;most_frequent&#x27;)),\n",
              "                                                                  (&#x27;onehot&#x27;,\n",
              "                                                                   OneHotEncoder(handle_unknown=&#x27;ignore&#x27;))]),\n",
              "                                                  Index([&#x27;hitpoint&#x27;, &#x27;outside.sideline&#x27;, &#x27;outside.baseline&#x27;, &#x27;same.side&#x27;,\n",
              "       &#x27;previous.hitpoint&#x27;, &#x27;server.is.impact.player&#x27;, &#x27;gender&#x27;],\n",
              "      dtype=&#x27;object&#x27;))])),\n",
              "                (&#x27;classifier&#x27;, AdaBoostClassifier())])</pre></div></div></div><div class=\"sk-serial\"><div class=\"sk-item sk-dashed-wrapped\"><div class=\"sk-label-container\"><div class=\"sk-label sk-toggleable\"><input class=\"sk-toggleable__control sk-hidden--visually\" id=\"eb5f61c4-e06f-461b-995d-c3fc30f6ce89\" type=\"checkbox\" ><label for=\"eb5f61c4-e06f-461b-995d-c3fc30f6ce89\" class=\"sk-toggleable__label sk-toggleable__label-arrow\">preprocessor: ColumnTransformer</label><div class=\"sk-toggleable__content\"><pre>ColumnTransformer(transformers=[(&#x27;num&#x27;,\n",
              "                                 Pipeline(steps=[(&#x27;imputer&#x27;, SimpleImputer()),\n",
              "                                                 (&#x27;scaler&#x27;, StandardScaler())]),\n",
              "                                 Index([&#x27;rally&#x27;, &#x27;serve&#x27;, &#x27;net.clearance&#x27;, &#x27;player.distance.travelled&#x27;,\n",
              "       &#x27;player.impact.depth&#x27;, &#x27;player.impact.distance.from.center&#x27;,\n",
              "       &#x27;player.depth&#x27;, &#x27;player.distance.from.center&#x27;, &#x27;opponent.depth&#x27;,\n",
              "       &#x27;opponent.distance.from.center&#x27;],\n",
              "      dtype=&#x27;object&#x27;)),\n",
              "                                (&#x27;cat&#x27;,\n",
              "                                 Pipeline(steps=[(&#x27;imputer&#x27;,\n",
              "                                                  SimpleImputer(strategy=&#x27;most_frequent&#x27;)),\n",
              "                                                 (&#x27;onehot&#x27;,\n",
              "                                                  OneHotEncoder(handle_unknown=&#x27;ignore&#x27;))]),\n",
              "                                 Index([&#x27;hitpoint&#x27;, &#x27;outside.sideline&#x27;, &#x27;outside.baseline&#x27;, &#x27;same.side&#x27;,\n",
              "       &#x27;previous.hitpoint&#x27;, &#x27;server.is.impact.player&#x27;, &#x27;gender&#x27;],\n",
              "      dtype=&#x27;object&#x27;))])</pre></div></div></div><div class=\"sk-parallel\"><div class=\"sk-parallel-item\"><div class=\"sk-item\"><div class=\"sk-label-container\"><div class=\"sk-label sk-toggleable\"><input class=\"sk-toggleable__control sk-hidden--visually\" id=\"d9f9bf1a-915e-40ad-9c8c-bf9b22116dc3\" type=\"checkbox\" ><label for=\"d9f9bf1a-915e-40ad-9c8c-bf9b22116dc3\" class=\"sk-toggleable__label sk-toggleable__label-arrow\">num</label><div class=\"sk-toggleable__content\"><pre>Index([&#x27;rally&#x27;, &#x27;serve&#x27;, &#x27;net.clearance&#x27;, &#x27;player.distance.travelled&#x27;,\n",
              "       &#x27;player.impact.depth&#x27;, &#x27;player.impact.distance.from.center&#x27;,\n",
              "       &#x27;player.depth&#x27;, &#x27;player.distance.from.center&#x27;, &#x27;opponent.depth&#x27;,\n",
              "       &#x27;opponent.distance.from.center&#x27;],\n",
              "      dtype=&#x27;object&#x27;)</pre></div></div></div><div class=\"sk-serial\"><div class=\"sk-item\"><div class=\"sk-serial\"><div class=\"sk-item\"><div class=\"sk-estimator sk-toggleable\"><input class=\"sk-toggleable__control sk-hidden--visually\" id=\"b73a0665-6bb4-43bc-9402-1c46cc584182\" type=\"checkbox\" ><label for=\"b73a0665-6bb4-43bc-9402-1c46cc584182\" class=\"sk-toggleable__label sk-toggleable__label-arrow\">SimpleImputer</label><div class=\"sk-toggleable__content\"><pre>SimpleImputer()</pre></div></div></div><div class=\"sk-item\"><div class=\"sk-estimator sk-toggleable\"><input class=\"sk-toggleable__control sk-hidden--visually\" id=\"2f4805b6-6fae-4abe-a801-ca85a741cbaf\" type=\"checkbox\" ><label for=\"2f4805b6-6fae-4abe-a801-ca85a741cbaf\" class=\"sk-toggleable__label sk-toggleable__label-arrow\">StandardScaler</label><div class=\"sk-toggleable__content\"><pre>StandardScaler()</pre></div></div></div></div></div></div></div></div><div class=\"sk-parallel-item\"><div class=\"sk-item\"><div class=\"sk-label-container\"><div class=\"sk-label sk-toggleable\"><input class=\"sk-toggleable__control sk-hidden--visually\" id=\"48b9341b-de46-4065-8f5b-3de95069f12d\" type=\"checkbox\" ><label for=\"48b9341b-de46-4065-8f5b-3de95069f12d\" class=\"sk-toggleable__label sk-toggleable__label-arrow\">cat</label><div class=\"sk-toggleable__content\"><pre>Index([&#x27;hitpoint&#x27;, &#x27;outside.sideline&#x27;, &#x27;outside.baseline&#x27;, &#x27;same.side&#x27;,\n",
              "       &#x27;previous.hitpoint&#x27;, &#x27;server.is.impact.player&#x27;, &#x27;gender&#x27;],\n",
              "      dtype=&#x27;object&#x27;)</pre></div></div></div><div class=\"sk-serial\"><div class=\"sk-item\"><div class=\"sk-serial\"><div class=\"sk-item\"><div class=\"sk-estimator sk-toggleable\"><input class=\"sk-toggleable__control sk-hidden--visually\" id=\"f29d8f20-7e9a-4a7a-9dd6-777e26ee5188\" type=\"checkbox\" ><label for=\"f29d8f20-7e9a-4a7a-9dd6-777e26ee5188\" class=\"sk-toggleable__label sk-toggleable__label-arrow\">SimpleImputer</label><div class=\"sk-toggleable__content\"><pre>SimpleImputer(strategy=&#x27;most_frequent&#x27;)</pre></div></div></div><div class=\"sk-item\"><div class=\"sk-estimator sk-toggleable\"><input class=\"sk-toggleable__control sk-hidden--visually\" id=\"906f18d6-2ddf-402c-a6b0-a6a3b07f3663\" type=\"checkbox\" ><label for=\"906f18d6-2ddf-402c-a6b0-a6a3b07f3663\" class=\"sk-toggleable__label sk-toggleable__label-arrow\">OneHotEncoder</label><div class=\"sk-toggleable__content\"><pre>OneHotEncoder(handle_unknown=&#x27;ignore&#x27;)</pre></div></div></div></div></div></div></div></div></div></div><div class=\"sk-item\"><div class=\"sk-estimator sk-toggleable\"><input class=\"sk-toggleable__control sk-hidden--visually\" id=\"04735e3a-afa4-4c17-a85e-dd429c59ba8e\" type=\"checkbox\" ><label for=\"04735e3a-afa4-4c17-a85e-dd429c59ba8e\" class=\"sk-toggleable__label sk-toggleable__label-arrow\">AdaBoostClassifier</label><div class=\"sk-toggleable__content\"><pre>AdaBoostClassifier()</pre></div></div></div></div></div></div></div>"
            ]
          },
          "metadata": {},
          "execution_count": 139
        }
      ]
    },
    {
      "cell_type": "code",
      "source": [
        "train_pred_adapipe = Adaboost_pipe.predict(x_train)\n",
        "test_pred_adapipe = Adaboost_pipe.predict(x_test)"
      ],
      "metadata": {
        "id": "gx3UOLd2oMPB"
      },
      "execution_count": null,
      "outputs": []
    },
    {
      "cell_type": "code",
      "source": [
        "print(\"--Train--\")\n",
        "evaluate_model(y_train, train_pred_adapipe)\n",
        "print(\"--Test--\")\n",
        "evaluate_model(y_test, test_pred_adapipe)"
      ],
      "metadata": {
        "colab": {
          "base_uri": "https://localhost:8080/"
        },
        "id": "y6CmV0sYoMMH",
        "outputId": "be2b72af-4755-4798-85c0-89a4a5d85675"
      },
      "execution_count": null,
      "outputs": [
        {
          "output_type": "stream",
          "name": "stdout",
          "text": [
            "--Train--\n",
            "Confusion Matrix \n",
            " [[ 587  647   66]\n",
            " [ 188 2140   91]\n",
            " [  49   64 1768]]\n",
            "Accurcay :  0.8026785714285715\n",
            "Recall   :  0.8026785714285715\n",
            "Precision:  0.798109934700452\n",
            "--Test--\n",
            "Confusion Matrix \n",
            " [[236 258  24]\n",
            " [104 934  44]\n",
            " [ 27  42 732]]\n",
            "Accurcay :  0.7921699291961682\n",
            "Recall   :  0.7921699291961682\n",
            "Precision:  0.7850765580249673\n"
          ]
        }
      ]
    },
    {
      "cell_type": "code",
      "source": [
        "Gradientboost_pipe = Pipeline(steps=[('preprocessor', preprocessor),\n",
        "                      ('classifier', GradientBoostingClassifier())])"
      ],
      "metadata": {
        "id": "0eCedjjooMJQ"
      },
      "execution_count": null,
      "outputs": []
    },
    {
      "cell_type": "code",
      "source": [
        "Gradientboost_pipe.fit(x_train,y_train)"
      ],
      "metadata": {
        "colab": {
          "base_uri": "https://localhost:8080/",
          "height": 227
        },
        "id": "yRGmjXPAoMGI",
        "outputId": "e9cbdfc7-6f83-47ee-abac-d91e83d16ef2"
      },
      "execution_count": null,
      "outputs": [
        {
          "output_type": "execute_result",
          "data": {
            "text/plain": [
              "Pipeline(steps=[('preprocessor',\n",
              "                 ColumnTransformer(transformers=[('num',\n",
              "                                                  Pipeline(steps=[('imputer',\n",
              "                                                                   SimpleImputer()),\n",
              "                                                                  ('scaler',\n",
              "                                                                   StandardScaler())]),\n",
              "                                                  Index(['rally', 'serve', 'net.clearance', 'player.distance.travelled',\n",
              "       'player.impact.depth', 'player.impact.distance.from.center',\n",
              "       'player.depth', 'player.distance.from.center', 'opponent.depth',\n",
              "       'opponent.distance.from.center'],\n",
              "      dtype='object')),\n",
              "                                                 ('cat',\n",
              "                                                  Pipeline(steps=[('imputer',\n",
              "                                                                   SimpleImputer(strategy='most_frequent')),\n",
              "                                                                  ('onehot',\n",
              "                                                                   OneHotEncoder(handle_unknown='ignore'))]),\n",
              "                                                  Index(['hitpoint', 'outside.sideline', 'outside.baseline', 'same.side',\n",
              "       'previous.hitpoint', 'server.is.impact.player', 'gender'],\n",
              "      dtype='object'))])),\n",
              "                ('classifier', GradientBoostingClassifier())])"
            ],
            "text/html": [
              "<style>#sk-c1925670-302d-48bc-80c8-1373acf2d17c {color: black;background-color: white;}#sk-c1925670-302d-48bc-80c8-1373acf2d17c pre{padding: 0;}#sk-c1925670-302d-48bc-80c8-1373acf2d17c div.sk-toggleable {background-color: white;}#sk-c1925670-302d-48bc-80c8-1373acf2d17c label.sk-toggleable__label {cursor: pointer;display: block;width: 100%;margin-bottom: 0;padding: 0.3em;box-sizing: border-box;text-align: center;}#sk-c1925670-302d-48bc-80c8-1373acf2d17c label.sk-toggleable__label-arrow:before {content: \"▸\";float: left;margin-right: 0.25em;color: #696969;}#sk-c1925670-302d-48bc-80c8-1373acf2d17c label.sk-toggleable__label-arrow:hover:before {color: black;}#sk-c1925670-302d-48bc-80c8-1373acf2d17c div.sk-estimator:hover label.sk-toggleable__label-arrow:before {color: black;}#sk-c1925670-302d-48bc-80c8-1373acf2d17c div.sk-toggleable__content {max-height: 0;max-width: 0;overflow: hidden;text-align: left;background-color: #f0f8ff;}#sk-c1925670-302d-48bc-80c8-1373acf2d17c div.sk-toggleable__content pre {margin: 0.2em;color: black;border-radius: 0.25em;background-color: #f0f8ff;}#sk-c1925670-302d-48bc-80c8-1373acf2d17c input.sk-toggleable__control:checked~div.sk-toggleable__content {max-height: 200px;max-width: 100%;overflow: auto;}#sk-c1925670-302d-48bc-80c8-1373acf2d17c input.sk-toggleable__control:checked~label.sk-toggleable__label-arrow:before {content: \"▾\";}#sk-c1925670-302d-48bc-80c8-1373acf2d17c div.sk-estimator input.sk-toggleable__control:checked~label.sk-toggleable__label {background-color: #d4ebff;}#sk-c1925670-302d-48bc-80c8-1373acf2d17c div.sk-label input.sk-toggleable__control:checked~label.sk-toggleable__label {background-color: #d4ebff;}#sk-c1925670-302d-48bc-80c8-1373acf2d17c input.sk-hidden--visually {border: 0;clip: rect(1px 1px 1px 1px);clip: rect(1px, 1px, 1px, 1px);height: 1px;margin: -1px;overflow: hidden;padding: 0;position: absolute;width: 1px;}#sk-c1925670-302d-48bc-80c8-1373acf2d17c div.sk-estimator {font-family: monospace;background-color: #f0f8ff;border: 1px dotted black;border-radius: 0.25em;box-sizing: border-box;margin-bottom: 0.5em;}#sk-c1925670-302d-48bc-80c8-1373acf2d17c div.sk-estimator:hover {background-color: #d4ebff;}#sk-c1925670-302d-48bc-80c8-1373acf2d17c div.sk-parallel-item::after {content: \"\";width: 100%;border-bottom: 1px solid gray;flex-grow: 1;}#sk-c1925670-302d-48bc-80c8-1373acf2d17c div.sk-label:hover label.sk-toggleable__label {background-color: #d4ebff;}#sk-c1925670-302d-48bc-80c8-1373acf2d17c div.sk-serial::before {content: \"\";position: absolute;border-left: 1px solid gray;box-sizing: border-box;top: 2em;bottom: 0;left: 50%;}#sk-c1925670-302d-48bc-80c8-1373acf2d17c div.sk-serial {display: flex;flex-direction: column;align-items: center;background-color: white;padding-right: 0.2em;padding-left: 0.2em;}#sk-c1925670-302d-48bc-80c8-1373acf2d17c div.sk-item {z-index: 1;}#sk-c1925670-302d-48bc-80c8-1373acf2d17c div.sk-parallel {display: flex;align-items: stretch;justify-content: center;background-color: white;}#sk-c1925670-302d-48bc-80c8-1373acf2d17c div.sk-parallel::before {content: \"\";position: absolute;border-left: 1px solid gray;box-sizing: border-box;top: 2em;bottom: 0;left: 50%;}#sk-c1925670-302d-48bc-80c8-1373acf2d17c div.sk-parallel-item {display: flex;flex-direction: column;position: relative;background-color: white;}#sk-c1925670-302d-48bc-80c8-1373acf2d17c div.sk-parallel-item:first-child::after {align-self: flex-end;width: 50%;}#sk-c1925670-302d-48bc-80c8-1373acf2d17c div.sk-parallel-item:last-child::after {align-self: flex-start;width: 50%;}#sk-c1925670-302d-48bc-80c8-1373acf2d17c div.sk-parallel-item:only-child::after {width: 0;}#sk-c1925670-302d-48bc-80c8-1373acf2d17c div.sk-dashed-wrapped {border: 1px dashed gray;margin: 0 0.4em 0.5em 0.4em;box-sizing: border-box;padding-bottom: 0.4em;background-color: white;position: relative;}#sk-c1925670-302d-48bc-80c8-1373acf2d17c div.sk-label label {font-family: monospace;font-weight: bold;background-color: white;display: inline-block;line-height: 1.2em;}#sk-c1925670-302d-48bc-80c8-1373acf2d17c div.sk-label-container {position: relative;z-index: 2;text-align: center;}#sk-c1925670-302d-48bc-80c8-1373acf2d17c div.sk-container {/* jupyter's `normalize.less` sets `[hidden] { display: none; }` but bootstrap.min.css set `[hidden] { display: none !important; }` so we also need the `!important` here to be able to override the default hidden behavior on the sphinx rendered scikit-learn.org. See: https://github.com/scikit-learn/scikit-learn/issues/21755 */display: inline-block !important;position: relative;}#sk-c1925670-302d-48bc-80c8-1373acf2d17c div.sk-text-repr-fallback {display: none;}</style><div id=\"sk-c1925670-302d-48bc-80c8-1373acf2d17c\" class=\"sk-top-container\"><div class=\"sk-text-repr-fallback\"><pre>Pipeline(steps=[(&#x27;preprocessor&#x27;,\n",
              "                 ColumnTransformer(transformers=[(&#x27;num&#x27;,\n",
              "                                                  Pipeline(steps=[(&#x27;imputer&#x27;,\n",
              "                                                                   SimpleImputer()),\n",
              "                                                                  (&#x27;scaler&#x27;,\n",
              "                                                                   StandardScaler())]),\n",
              "                                                  Index([&#x27;rally&#x27;, &#x27;serve&#x27;, &#x27;net.clearance&#x27;, &#x27;player.distance.travelled&#x27;,\n",
              "       &#x27;player.impact.depth&#x27;, &#x27;player.impact.distance.from.center&#x27;,\n",
              "       &#x27;player.depth&#x27;, &#x27;player.distance.from.center&#x27;, &#x27;opponent.depth&#x27;,\n",
              "       &#x27;opponent.distance.from.center&#x27;],\n",
              "      dtype=&#x27;object&#x27;)),\n",
              "                                                 (&#x27;cat&#x27;,\n",
              "                                                  Pipeline(steps=[(&#x27;imputer&#x27;,\n",
              "                                                                   SimpleImputer(strategy=&#x27;most_frequent&#x27;)),\n",
              "                                                                  (&#x27;onehot&#x27;,\n",
              "                                                                   OneHotEncoder(handle_unknown=&#x27;ignore&#x27;))]),\n",
              "                                                  Index([&#x27;hitpoint&#x27;, &#x27;outside.sideline&#x27;, &#x27;outside.baseline&#x27;, &#x27;same.side&#x27;,\n",
              "       &#x27;previous.hitpoint&#x27;, &#x27;server.is.impact.player&#x27;, &#x27;gender&#x27;],\n",
              "      dtype=&#x27;object&#x27;))])),\n",
              "                (&#x27;classifier&#x27;, GradientBoostingClassifier())])</pre><b>Please rerun this cell to show the HTML repr or trust the notebook.</b></div><div class=\"sk-container\" hidden><div class=\"sk-item sk-dashed-wrapped\"><div class=\"sk-label-container\"><div class=\"sk-label sk-toggleable\"><input class=\"sk-toggleable__control sk-hidden--visually\" id=\"97881ad3-757d-42fd-b26d-54ce76eb7745\" type=\"checkbox\" ><label for=\"97881ad3-757d-42fd-b26d-54ce76eb7745\" class=\"sk-toggleable__label sk-toggleable__label-arrow\">Pipeline</label><div class=\"sk-toggleable__content\"><pre>Pipeline(steps=[(&#x27;preprocessor&#x27;,\n",
              "                 ColumnTransformer(transformers=[(&#x27;num&#x27;,\n",
              "                                                  Pipeline(steps=[(&#x27;imputer&#x27;,\n",
              "                                                                   SimpleImputer()),\n",
              "                                                                  (&#x27;scaler&#x27;,\n",
              "                                                                   StandardScaler())]),\n",
              "                                                  Index([&#x27;rally&#x27;, &#x27;serve&#x27;, &#x27;net.clearance&#x27;, &#x27;player.distance.travelled&#x27;,\n",
              "       &#x27;player.impact.depth&#x27;, &#x27;player.impact.distance.from.center&#x27;,\n",
              "       &#x27;player.depth&#x27;, &#x27;player.distance.from.center&#x27;, &#x27;opponent.depth&#x27;,\n",
              "       &#x27;opponent.distance.from.center&#x27;],\n",
              "      dtype=&#x27;object&#x27;)),\n",
              "                                                 (&#x27;cat&#x27;,\n",
              "                                                  Pipeline(steps=[(&#x27;imputer&#x27;,\n",
              "                                                                   SimpleImputer(strategy=&#x27;most_frequent&#x27;)),\n",
              "                                                                  (&#x27;onehot&#x27;,\n",
              "                                                                   OneHotEncoder(handle_unknown=&#x27;ignore&#x27;))]),\n",
              "                                                  Index([&#x27;hitpoint&#x27;, &#x27;outside.sideline&#x27;, &#x27;outside.baseline&#x27;, &#x27;same.side&#x27;,\n",
              "       &#x27;previous.hitpoint&#x27;, &#x27;server.is.impact.player&#x27;, &#x27;gender&#x27;],\n",
              "      dtype=&#x27;object&#x27;))])),\n",
              "                (&#x27;classifier&#x27;, GradientBoostingClassifier())])</pre></div></div></div><div class=\"sk-serial\"><div class=\"sk-item sk-dashed-wrapped\"><div class=\"sk-label-container\"><div class=\"sk-label sk-toggleable\"><input class=\"sk-toggleable__control sk-hidden--visually\" id=\"34c60be9-ebbd-46c6-8bbb-6d84fc0b7bd8\" type=\"checkbox\" ><label for=\"34c60be9-ebbd-46c6-8bbb-6d84fc0b7bd8\" class=\"sk-toggleable__label sk-toggleable__label-arrow\">preprocessor: ColumnTransformer</label><div class=\"sk-toggleable__content\"><pre>ColumnTransformer(transformers=[(&#x27;num&#x27;,\n",
              "                                 Pipeline(steps=[(&#x27;imputer&#x27;, SimpleImputer()),\n",
              "                                                 (&#x27;scaler&#x27;, StandardScaler())]),\n",
              "                                 Index([&#x27;rally&#x27;, &#x27;serve&#x27;, &#x27;net.clearance&#x27;, &#x27;player.distance.travelled&#x27;,\n",
              "       &#x27;player.impact.depth&#x27;, &#x27;player.impact.distance.from.center&#x27;,\n",
              "       &#x27;player.depth&#x27;, &#x27;player.distance.from.center&#x27;, &#x27;opponent.depth&#x27;,\n",
              "       &#x27;opponent.distance.from.center&#x27;],\n",
              "      dtype=&#x27;object&#x27;)),\n",
              "                                (&#x27;cat&#x27;,\n",
              "                                 Pipeline(steps=[(&#x27;imputer&#x27;,\n",
              "                                                  SimpleImputer(strategy=&#x27;most_frequent&#x27;)),\n",
              "                                                 (&#x27;onehot&#x27;,\n",
              "                                                  OneHotEncoder(handle_unknown=&#x27;ignore&#x27;))]),\n",
              "                                 Index([&#x27;hitpoint&#x27;, &#x27;outside.sideline&#x27;, &#x27;outside.baseline&#x27;, &#x27;same.side&#x27;,\n",
              "       &#x27;previous.hitpoint&#x27;, &#x27;server.is.impact.player&#x27;, &#x27;gender&#x27;],\n",
              "      dtype=&#x27;object&#x27;))])</pre></div></div></div><div class=\"sk-parallel\"><div class=\"sk-parallel-item\"><div class=\"sk-item\"><div class=\"sk-label-container\"><div class=\"sk-label sk-toggleable\"><input class=\"sk-toggleable__control sk-hidden--visually\" id=\"838004a9-2fed-457c-aed4-b9f9bbaa81f8\" type=\"checkbox\" ><label for=\"838004a9-2fed-457c-aed4-b9f9bbaa81f8\" class=\"sk-toggleable__label sk-toggleable__label-arrow\">num</label><div class=\"sk-toggleable__content\"><pre>Index([&#x27;rally&#x27;, &#x27;serve&#x27;, &#x27;net.clearance&#x27;, &#x27;player.distance.travelled&#x27;,\n",
              "       &#x27;player.impact.depth&#x27;, &#x27;player.impact.distance.from.center&#x27;,\n",
              "       &#x27;player.depth&#x27;, &#x27;player.distance.from.center&#x27;, &#x27;opponent.depth&#x27;,\n",
              "       &#x27;opponent.distance.from.center&#x27;],\n",
              "      dtype=&#x27;object&#x27;)</pre></div></div></div><div class=\"sk-serial\"><div class=\"sk-item\"><div class=\"sk-serial\"><div class=\"sk-item\"><div class=\"sk-estimator sk-toggleable\"><input class=\"sk-toggleable__control sk-hidden--visually\" id=\"6c69ba7a-5304-4a00-8039-a090f056ae9d\" type=\"checkbox\" ><label for=\"6c69ba7a-5304-4a00-8039-a090f056ae9d\" class=\"sk-toggleable__label sk-toggleable__label-arrow\">SimpleImputer</label><div class=\"sk-toggleable__content\"><pre>SimpleImputer()</pre></div></div></div><div class=\"sk-item\"><div class=\"sk-estimator sk-toggleable\"><input class=\"sk-toggleable__control sk-hidden--visually\" id=\"2f57018e-780d-4f8c-941a-1b14b06c3c7d\" type=\"checkbox\" ><label for=\"2f57018e-780d-4f8c-941a-1b14b06c3c7d\" class=\"sk-toggleable__label sk-toggleable__label-arrow\">StandardScaler</label><div class=\"sk-toggleable__content\"><pre>StandardScaler()</pre></div></div></div></div></div></div></div></div><div class=\"sk-parallel-item\"><div class=\"sk-item\"><div class=\"sk-label-container\"><div class=\"sk-label sk-toggleable\"><input class=\"sk-toggleable__control sk-hidden--visually\" id=\"deee4435-7ad7-4bf2-a4a6-bc003e40dea2\" type=\"checkbox\" ><label for=\"deee4435-7ad7-4bf2-a4a6-bc003e40dea2\" class=\"sk-toggleable__label sk-toggleable__label-arrow\">cat</label><div class=\"sk-toggleable__content\"><pre>Index([&#x27;hitpoint&#x27;, &#x27;outside.sideline&#x27;, &#x27;outside.baseline&#x27;, &#x27;same.side&#x27;,\n",
              "       &#x27;previous.hitpoint&#x27;, &#x27;server.is.impact.player&#x27;, &#x27;gender&#x27;],\n",
              "      dtype=&#x27;object&#x27;)</pre></div></div></div><div class=\"sk-serial\"><div class=\"sk-item\"><div class=\"sk-serial\"><div class=\"sk-item\"><div class=\"sk-estimator sk-toggleable\"><input class=\"sk-toggleable__control sk-hidden--visually\" id=\"b6d94cc3-6459-492d-9fea-ad8bb789419b\" type=\"checkbox\" ><label for=\"b6d94cc3-6459-492d-9fea-ad8bb789419b\" class=\"sk-toggleable__label sk-toggleable__label-arrow\">SimpleImputer</label><div class=\"sk-toggleable__content\"><pre>SimpleImputer(strategy=&#x27;most_frequent&#x27;)</pre></div></div></div><div class=\"sk-item\"><div class=\"sk-estimator sk-toggleable\"><input class=\"sk-toggleable__control sk-hidden--visually\" id=\"97cc6585-474a-4de8-a2e6-e780e883aac9\" type=\"checkbox\" ><label for=\"97cc6585-474a-4de8-a2e6-e780e883aac9\" class=\"sk-toggleable__label sk-toggleable__label-arrow\">OneHotEncoder</label><div class=\"sk-toggleable__content\"><pre>OneHotEncoder(handle_unknown=&#x27;ignore&#x27;)</pre></div></div></div></div></div></div></div></div></div></div><div class=\"sk-item\"><div class=\"sk-estimator sk-toggleable\"><input class=\"sk-toggleable__control sk-hidden--visually\" id=\"5f3e65b7-4528-49fa-a4a3-b513cd833d06\" type=\"checkbox\" ><label for=\"5f3e65b7-4528-49fa-a4a3-b513cd833d06\" class=\"sk-toggleable__label sk-toggleable__label-arrow\">GradientBoostingClassifier</label><div class=\"sk-toggleable__content\"><pre>GradientBoostingClassifier()</pre></div></div></div></div></div></div></div>"
            ]
          },
          "metadata": {},
          "execution_count": 143
        }
      ]
    },
    {
      "cell_type": "code",
      "source": [
        "train_pred_Grapipe = Gradientboost_pipe.predict(x_train)\n",
        "test_pred_Grapipe = Gradientboost_pipe.predict(x_test)"
      ],
      "metadata": {
        "id": "zBSEcjZhoMCy"
      },
      "execution_count": null,
      "outputs": []
    },
    {
      "cell_type": "code",
      "source": [
        "print(\"--Train--\")\n",
        "evaluate_model(y_train, train_pred_Grapipe)\n",
        "print(\"--Test--\")\n",
        "evaluate_model(y_test, test_pred_Grapipe)"
      ],
      "metadata": {
        "colab": {
          "base_uri": "https://localhost:8080/"
        },
        "id": "i5sxwb5eoL-W",
        "outputId": "f0d535a8-e1cd-4558-e789-0a03bdcd5689"
      },
      "execution_count": null,
      "outputs": [
        {
          "output_type": "stream",
          "name": "stdout",
          "text": [
            "--Train--\n",
            "Confusion Matrix \n",
            " [[ 889  364   47]\n",
            " [ 164 2174   81]\n",
            " [  18   33 1830]]\n",
            "Accurcay :  0.87375\n",
            "Recall   :  0.87375\n",
            "Precision:  0.8718910175238749\n",
            "--Test--\n",
            "Confusion Matrix \n",
            " [[305 194  19]\n",
            " [127 906  49]\n",
            " [ 13  24 764]]\n",
            "Accurcay :  0.8225739275301958\n",
            "Recall   :  0.8225739275301958\n",
            "Precision:  0.8174565885816877\n"
          ]
        }
      ]
    },
    {
      "cell_type": "code",
      "source": [
        "XGBoost_pipe = Pipeline(steps=[('preprocessor', preprocessor),\n",
        "                      ('classifier', XGBClassifier())])"
      ],
      "metadata": {
        "id": "Vmc5qRgTxihs"
      },
      "execution_count": null,
      "outputs": []
    },
    {
      "cell_type": "code",
      "source": [
        "XGBoost_pipe.fit(x_train,y_train)"
      ],
      "metadata": {
        "colab": {
          "base_uri": "https://localhost:8080/",
          "height": 227
        },
        "id": "iH3eXMitxieD",
        "outputId": "cdb2ca49-8b2e-49ee-c947-cd17b0074b3d"
      },
      "execution_count": null,
      "outputs": [
        {
          "output_type": "execute_result",
          "data": {
            "text/plain": [
              "Pipeline(steps=[('preprocessor',\n",
              "                 ColumnTransformer(transformers=[('num',\n",
              "                                                  Pipeline(steps=[('imputer',\n",
              "                                                                   SimpleImputer()),\n",
              "                                                                  ('scaler',\n",
              "                                                                   StandardScaler())]),\n",
              "                                                  Index(['rally', 'serve', 'net.clearance', 'player.distance.travelled',\n",
              "       'player.impact.depth', 'player.impact.distance.from.center',\n",
              "       'player.depth', 'player.distance.from.center', 'opponent.depth',\n",
              "       'opponent.distanc...r'],\n",
              "      dtype='object')),\n",
              "                                                 ('cat',\n",
              "                                                  Pipeline(steps=[('imputer',\n",
              "                                                                   SimpleImputer(strategy='most_frequent')),\n",
              "                                                                  ('onehot',\n",
              "                                                                   OneHotEncoder(handle_unknown='ignore'))]),\n",
              "                                                  Index(['hitpoint', 'outside.sideline', 'outside.baseline', 'same.side',\n",
              "       'previous.hitpoint', 'server.is.impact.player', 'gender'],\n",
              "      dtype='object'))])),\n",
              "                ('classifier', XGBClassifier(objective='multi:softprob'))])"
            ],
            "text/html": [
              "<style>#sk-ba199808-40da-47e4-843d-ba512c14b3af {color: black;background-color: white;}#sk-ba199808-40da-47e4-843d-ba512c14b3af pre{padding: 0;}#sk-ba199808-40da-47e4-843d-ba512c14b3af div.sk-toggleable {background-color: white;}#sk-ba199808-40da-47e4-843d-ba512c14b3af label.sk-toggleable__label {cursor: pointer;display: block;width: 100%;margin-bottom: 0;padding: 0.3em;box-sizing: border-box;text-align: center;}#sk-ba199808-40da-47e4-843d-ba512c14b3af label.sk-toggleable__label-arrow:before {content: \"▸\";float: left;margin-right: 0.25em;color: #696969;}#sk-ba199808-40da-47e4-843d-ba512c14b3af label.sk-toggleable__label-arrow:hover:before {color: black;}#sk-ba199808-40da-47e4-843d-ba512c14b3af div.sk-estimator:hover label.sk-toggleable__label-arrow:before {color: black;}#sk-ba199808-40da-47e4-843d-ba512c14b3af div.sk-toggleable__content {max-height: 0;max-width: 0;overflow: hidden;text-align: left;background-color: #f0f8ff;}#sk-ba199808-40da-47e4-843d-ba512c14b3af div.sk-toggleable__content pre {margin: 0.2em;color: black;border-radius: 0.25em;background-color: #f0f8ff;}#sk-ba199808-40da-47e4-843d-ba512c14b3af input.sk-toggleable__control:checked~div.sk-toggleable__content {max-height: 200px;max-width: 100%;overflow: auto;}#sk-ba199808-40da-47e4-843d-ba512c14b3af input.sk-toggleable__control:checked~label.sk-toggleable__label-arrow:before {content: \"▾\";}#sk-ba199808-40da-47e4-843d-ba512c14b3af div.sk-estimator input.sk-toggleable__control:checked~label.sk-toggleable__label {background-color: #d4ebff;}#sk-ba199808-40da-47e4-843d-ba512c14b3af div.sk-label input.sk-toggleable__control:checked~label.sk-toggleable__label {background-color: #d4ebff;}#sk-ba199808-40da-47e4-843d-ba512c14b3af input.sk-hidden--visually {border: 0;clip: rect(1px 1px 1px 1px);clip: rect(1px, 1px, 1px, 1px);height: 1px;margin: -1px;overflow: hidden;padding: 0;position: absolute;width: 1px;}#sk-ba199808-40da-47e4-843d-ba512c14b3af div.sk-estimator {font-family: monospace;background-color: #f0f8ff;border: 1px dotted black;border-radius: 0.25em;box-sizing: border-box;margin-bottom: 0.5em;}#sk-ba199808-40da-47e4-843d-ba512c14b3af div.sk-estimator:hover {background-color: #d4ebff;}#sk-ba199808-40da-47e4-843d-ba512c14b3af div.sk-parallel-item::after {content: \"\";width: 100%;border-bottom: 1px solid gray;flex-grow: 1;}#sk-ba199808-40da-47e4-843d-ba512c14b3af div.sk-label:hover label.sk-toggleable__label {background-color: #d4ebff;}#sk-ba199808-40da-47e4-843d-ba512c14b3af div.sk-serial::before {content: \"\";position: absolute;border-left: 1px solid gray;box-sizing: border-box;top: 2em;bottom: 0;left: 50%;}#sk-ba199808-40da-47e4-843d-ba512c14b3af div.sk-serial {display: flex;flex-direction: column;align-items: center;background-color: white;padding-right: 0.2em;padding-left: 0.2em;}#sk-ba199808-40da-47e4-843d-ba512c14b3af div.sk-item {z-index: 1;}#sk-ba199808-40da-47e4-843d-ba512c14b3af div.sk-parallel {display: flex;align-items: stretch;justify-content: center;background-color: white;}#sk-ba199808-40da-47e4-843d-ba512c14b3af div.sk-parallel::before {content: \"\";position: absolute;border-left: 1px solid gray;box-sizing: border-box;top: 2em;bottom: 0;left: 50%;}#sk-ba199808-40da-47e4-843d-ba512c14b3af div.sk-parallel-item {display: flex;flex-direction: column;position: relative;background-color: white;}#sk-ba199808-40da-47e4-843d-ba512c14b3af div.sk-parallel-item:first-child::after {align-self: flex-end;width: 50%;}#sk-ba199808-40da-47e4-843d-ba512c14b3af div.sk-parallel-item:last-child::after {align-self: flex-start;width: 50%;}#sk-ba199808-40da-47e4-843d-ba512c14b3af div.sk-parallel-item:only-child::after {width: 0;}#sk-ba199808-40da-47e4-843d-ba512c14b3af div.sk-dashed-wrapped {border: 1px dashed gray;margin: 0 0.4em 0.5em 0.4em;box-sizing: border-box;padding-bottom: 0.4em;background-color: white;position: relative;}#sk-ba199808-40da-47e4-843d-ba512c14b3af div.sk-label label {font-family: monospace;font-weight: bold;background-color: white;display: inline-block;line-height: 1.2em;}#sk-ba199808-40da-47e4-843d-ba512c14b3af div.sk-label-container {position: relative;z-index: 2;text-align: center;}#sk-ba199808-40da-47e4-843d-ba512c14b3af div.sk-container {/* jupyter's `normalize.less` sets `[hidden] { display: none; }` but bootstrap.min.css set `[hidden] { display: none !important; }` so we also need the `!important` here to be able to override the default hidden behavior on the sphinx rendered scikit-learn.org. See: https://github.com/scikit-learn/scikit-learn/issues/21755 */display: inline-block !important;position: relative;}#sk-ba199808-40da-47e4-843d-ba512c14b3af div.sk-text-repr-fallback {display: none;}</style><div id=\"sk-ba199808-40da-47e4-843d-ba512c14b3af\" class=\"sk-top-container\"><div class=\"sk-text-repr-fallback\"><pre>Pipeline(steps=[(&#x27;preprocessor&#x27;,\n",
              "                 ColumnTransformer(transformers=[(&#x27;num&#x27;,\n",
              "                                                  Pipeline(steps=[(&#x27;imputer&#x27;,\n",
              "                                                                   SimpleImputer()),\n",
              "                                                                  (&#x27;scaler&#x27;,\n",
              "                                                                   StandardScaler())]),\n",
              "                                                  Index([&#x27;rally&#x27;, &#x27;serve&#x27;, &#x27;net.clearance&#x27;, &#x27;player.distance.travelled&#x27;,\n",
              "       &#x27;player.impact.depth&#x27;, &#x27;player.impact.distance.from.center&#x27;,\n",
              "       &#x27;player.depth&#x27;, &#x27;player.distance.from.center&#x27;, &#x27;opponent.depth&#x27;,\n",
              "       &#x27;opponent.distanc...r&#x27;],\n",
              "      dtype=&#x27;object&#x27;)),\n",
              "                                                 (&#x27;cat&#x27;,\n",
              "                                                  Pipeline(steps=[(&#x27;imputer&#x27;,\n",
              "                                                                   SimpleImputer(strategy=&#x27;most_frequent&#x27;)),\n",
              "                                                                  (&#x27;onehot&#x27;,\n",
              "                                                                   OneHotEncoder(handle_unknown=&#x27;ignore&#x27;))]),\n",
              "                                                  Index([&#x27;hitpoint&#x27;, &#x27;outside.sideline&#x27;, &#x27;outside.baseline&#x27;, &#x27;same.side&#x27;,\n",
              "       &#x27;previous.hitpoint&#x27;, &#x27;server.is.impact.player&#x27;, &#x27;gender&#x27;],\n",
              "      dtype=&#x27;object&#x27;))])),\n",
              "                (&#x27;classifier&#x27;, XGBClassifier(objective=&#x27;multi:softprob&#x27;))])</pre><b>Please rerun this cell to show the HTML repr or trust the notebook.</b></div><div class=\"sk-container\" hidden><div class=\"sk-item sk-dashed-wrapped\"><div class=\"sk-label-container\"><div class=\"sk-label sk-toggleable\"><input class=\"sk-toggleable__control sk-hidden--visually\" id=\"8569b474-0660-4664-95e2-1675cbc6a0de\" type=\"checkbox\" ><label for=\"8569b474-0660-4664-95e2-1675cbc6a0de\" class=\"sk-toggleable__label sk-toggleable__label-arrow\">Pipeline</label><div class=\"sk-toggleable__content\"><pre>Pipeline(steps=[(&#x27;preprocessor&#x27;,\n",
              "                 ColumnTransformer(transformers=[(&#x27;num&#x27;,\n",
              "                                                  Pipeline(steps=[(&#x27;imputer&#x27;,\n",
              "                                                                   SimpleImputer()),\n",
              "                                                                  (&#x27;scaler&#x27;,\n",
              "                                                                   StandardScaler())]),\n",
              "                                                  Index([&#x27;rally&#x27;, &#x27;serve&#x27;, &#x27;net.clearance&#x27;, &#x27;player.distance.travelled&#x27;,\n",
              "       &#x27;player.impact.depth&#x27;, &#x27;player.impact.distance.from.center&#x27;,\n",
              "       &#x27;player.depth&#x27;, &#x27;player.distance.from.center&#x27;, &#x27;opponent.depth&#x27;,\n",
              "       &#x27;opponent.distanc...r&#x27;],\n",
              "      dtype=&#x27;object&#x27;)),\n",
              "                                                 (&#x27;cat&#x27;,\n",
              "                                                  Pipeline(steps=[(&#x27;imputer&#x27;,\n",
              "                                                                   SimpleImputer(strategy=&#x27;most_frequent&#x27;)),\n",
              "                                                                  (&#x27;onehot&#x27;,\n",
              "                                                                   OneHotEncoder(handle_unknown=&#x27;ignore&#x27;))]),\n",
              "                                                  Index([&#x27;hitpoint&#x27;, &#x27;outside.sideline&#x27;, &#x27;outside.baseline&#x27;, &#x27;same.side&#x27;,\n",
              "       &#x27;previous.hitpoint&#x27;, &#x27;server.is.impact.player&#x27;, &#x27;gender&#x27;],\n",
              "      dtype=&#x27;object&#x27;))])),\n",
              "                (&#x27;classifier&#x27;, XGBClassifier(objective=&#x27;multi:softprob&#x27;))])</pre></div></div></div><div class=\"sk-serial\"><div class=\"sk-item sk-dashed-wrapped\"><div class=\"sk-label-container\"><div class=\"sk-label sk-toggleable\"><input class=\"sk-toggleable__control sk-hidden--visually\" id=\"71699489-77d5-4991-8c1e-eb55ec60beed\" type=\"checkbox\" ><label for=\"71699489-77d5-4991-8c1e-eb55ec60beed\" class=\"sk-toggleable__label sk-toggleable__label-arrow\">preprocessor: ColumnTransformer</label><div class=\"sk-toggleable__content\"><pre>ColumnTransformer(transformers=[(&#x27;num&#x27;,\n",
              "                                 Pipeline(steps=[(&#x27;imputer&#x27;, SimpleImputer()),\n",
              "                                                 (&#x27;scaler&#x27;, StandardScaler())]),\n",
              "                                 Index([&#x27;rally&#x27;, &#x27;serve&#x27;, &#x27;net.clearance&#x27;, &#x27;player.distance.travelled&#x27;,\n",
              "       &#x27;player.impact.depth&#x27;, &#x27;player.impact.distance.from.center&#x27;,\n",
              "       &#x27;player.depth&#x27;, &#x27;player.distance.from.center&#x27;, &#x27;opponent.depth&#x27;,\n",
              "       &#x27;opponent.distance.from.center&#x27;],\n",
              "      dtype=&#x27;object&#x27;)),\n",
              "                                (&#x27;cat&#x27;,\n",
              "                                 Pipeline(steps=[(&#x27;imputer&#x27;,\n",
              "                                                  SimpleImputer(strategy=&#x27;most_frequent&#x27;)),\n",
              "                                                 (&#x27;onehot&#x27;,\n",
              "                                                  OneHotEncoder(handle_unknown=&#x27;ignore&#x27;))]),\n",
              "                                 Index([&#x27;hitpoint&#x27;, &#x27;outside.sideline&#x27;, &#x27;outside.baseline&#x27;, &#x27;same.side&#x27;,\n",
              "       &#x27;previous.hitpoint&#x27;, &#x27;server.is.impact.player&#x27;, &#x27;gender&#x27;],\n",
              "      dtype=&#x27;object&#x27;))])</pre></div></div></div><div class=\"sk-parallel\"><div class=\"sk-parallel-item\"><div class=\"sk-item\"><div class=\"sk-label-container\"><div class=\"sk-label sk-toggleable\"><input class=\"sk-toggleable__control sk-hidden--visually\" id=\"d5b57dc0-9cf6-486f-af7d-a0466c078651\" type=\"checkbox\" ><label for=\"d5b57dc0-9cf6-486f-af7d-a0466c078651\" class=\"sk-toggleable__label sk-toggleable__label-arrow\">num</label><div class=\"sk-toggleable__content\"><pre>Index([&#x27;rally&#x27;, &#x27;serve&#x27;, &#x27;net.clearance&#x27;, &#x27;player.distance.travelled&#x27;,\n",
              "       &#x27;player.impact.depth&#x27;, &#x27;player.impact.distance.from.center&#x27;,\n",
              "       &#x27;player.depth&#x27;, &#x27;player.distance.from.center&#x27;, &#x27;opponent.depth&#x27;,\n",
              "       &#x27;opponent.distance.from.center&#x27;],\n",
              "      dtype=&#x27;object&#x27;)</pre></div></div></div><div class=\"sk-serial\"><div class=\"sk-item\"><div class=\"sk-serial\"><div class=\"sk-item\"><div class=\"sk-estimator sk-toggleable\"><input class=\"sk-toggleable__control sk-hidden--visually\" id=\"7af2cbac-3adc-4055-8fcb-4aab5b97ee8d\" type=\"checkbox\" ><label for=\"7af2cbac-3adc-4055-8fcb-4aab5b97ee8d\" class=\"sk-toggleable__label sk-toggleable__label-arrow\">SimpleImputer</label><div class=\"sk-toggleable__content\"><pre>SimpleImputer()</pre></div></div></div><div class=\"sk-item\"><div class=\"sk-estimator sk-toggleable\"><input class=\"sk-toggleable__control sk-hidden--visually\" id=\"24d637a7-40ab-494c-8efe-73410a33ec18\" type=\"checkbox\" ><label for=\"24d637a7-40ab-494c-8efe-73410a33ec18\" class=\"sk-toggleable__label sk-toggleable__label-arrow\">StandardScaler</label><div class=\"sk-toggleable__content\"><pre>StandardScaler()</pre></div></div></div></div></div></div></div></div><div class=\"sk-parallel-item\"><div class=\"sk-item\"><div class=\"sk-label-container\"><div class=\"sk-label sk-toggleable\"><input class=\"sk-toggleable__control sk-hidden--visually\" id=\"9346158e-bb3d-457b-8edc-5d6fbf2b33a2\" type=\"checkbox\" ><label for=\"9346158e-bb3d-457b-8edc-5d6fbf2b33a2\" class=\"sk-toggleable__label sk-toggleable__label-arrow\">cat</label><div class=\"sk-toggleable__content\"><pre>Index([&#x27;hitpoint&#x27;, &#x27;outside.sideline&#x27;, &#x27;outside.baseline&#x27;, &#x27;same.side&#x27;,\n",
              "       &#x27;previous.hitpoint&#x27;, &#x27;server.is.impact.player&#x27;, &#x27;gender&#x27;],\n",
              "      dtype=&#x27;object&#x27;)</pre></div></div></div><div class=\"sk-serial\"><div class=\"sk-item\"><div class=\"sk-serial\"><div class=\"sk-item\"><div class=\"sk-estimator sk-toggleable\"><input class=\"sk-toggleable__control sk-hidden--visually\" id=\"2e098f68-1995-4dc1-a080-cddfa26cf0a4\" type=\"checkbox\" ><label for=\"2e098f68-1995-4dc1-a080-cddfa26cf0a4\" class=\"sk-toggleable__label sk-toggleable__label-arrow\">SimpleImputer</label><div class=\"sk-toggleable__content\"><pre>SimpleImputer(strategy=&#x27;most_frequent&#x27;)</pre></div></div></div><div class=\"sk-item\"><div class=\"sk-estimator sk-toggleable\"><input class=\"sk-toggleable__control sk-hidden--visually\" id=\"d34bc89c-407e-4bec-a99d-5c8396046a3f\" type=\"checkbox\" ><label for=\"d34bc89c-407e-4bec-a99d-5c8396046a3f\" class=\"sk-toggleable__label sk-toggleable__label-arrow\">OneHotEncoder</label><div class=\"sk-toggleable__content\"><pre>OneHotEncoder(handle_unknown=&#x27;ignore&#x27;)</pre></div></div></div></div></div></div></div></div></div></div><div class=\"sk-item\"><div class=\"sk-estimator sk-toggleable\"><input class=\"sk-toggleable__control sk-hidden--visually\" id=\"4a07ffd9-4045-46e9-990d-e49a9a4915fc\" type=\"checkbox\" ><label for=\"4a07ffd9-4045-46e9-990d-e49a9a4915fc\" class=\"sk-toggleable__label sk-toggleable__label-arrow\">XGBClassifier</label><div class=\"sk-toggleable__content\"><pre>XGBClassifier(objective=&#x27;multi:softprob&#x27;)</pre></div></div></div></div></div></div></div>"
            ]
          },
          "metadata": {},
          "execution_count": 147
        }
      ]
    },
    {
      "cell_type": "code",
      "source": [
        "train_pred_xgbpipe = XGBoost_pipe.predict(x_train)\n",
        "test_pred_xgbpipe = XGBoost_pipe.predict(x_test)"
      ],
      "metadata": {
        "id": "RWh9-zU9xiaq"
      },
      "execution_count": null,
      "outputs": []
    },
    {
      "cell_type": "code",
      "source": [
        "print(\"--Train--\")\n",
        "evaluate_model(y_train, train_pred_xgbpipe)\n",
        "print(\"--Test--\")\n",
        "evaluate_model(y_test, test_pred_xgbpipe)"
      ],
      "metadata": {
        "colab": {
          "base_uri": "https://localhost:8080/"
        },
        "id": "uUZeFnquxiXS",
        "outputId": "d8267f08-e3fb-4ed6-a258-00c4911caac8"
      },
      "execution_count": null,
      "outputs": [
        {
          "output_type": "stream",
          "name": "stdout",
          "text": [
            "--Train--\n",
            "Confusion Matrix \n",
            " [[ 848  398   54]\n",
            " [ 170 2165   84]\n",
            " [  22   31 1828]]\n",
            "Accurcay :  0.8644642857142857\n",
            "Recall   :  0.8644642857142857\n",
            "Precision:  0.8621264675073786\n",
            "--Test--\n",
            "Confusion Matrix \n",
            " [[305 193  20]\n",
            " [120 911  51]\n",
            " [ 11  26 764]]\n",
            "Accurcay :  0.8246563931695127\n",
            "Recall   :  0.8246563931695127\n",
            "Precision:  0.8194735769064679\n"
          ]
        }
      ]
    },
    {
      "cell_type": "code",
      "source": [
        "performance_columns = ['Model name', 'Train accuracy', 'Train precision', 'Train recall','Test accuracy', 'Test precision', 'Test recall']\n",
        "performance_comparison = pd.DataFrame(columns=performance_columns)"
      ],
      "metadata": {
        "id": "48ePlxx0xiTZ"
      },
      "execution_count": null,
      "outputs": []
    },
    {
      "cell_type": "code",
      "source": [
        "def add_to_perform_compare_df(df, model_name, train_actual, train_predict, test_actual, test_predict):\n",
        "    \n",
        "    from sklearn.metrics import confusion_matrix, accuracy_score, recall_score, precision_score\n",
        "    \n",
        "    train_accuracy = accuracy_score(train_actual, train_predict)\n",
        "    test_accuracy = accuracy_score(test_actual, test_predict)\n",
        "    \n",
        "    train_recall = recall_score(train_actual, train_predict,average='weighted')\n",
        "    test_recall = recall_score(test_actual,test_predict,average='weighted')\n",
        "    \n",
        "    train_precision = precision_score(train_actual, train_predict,average='weighted')\n",
        "    test_precision = precision_score(test_actual, test_predict,average='weighted')\n",
        "    \n",
        "    df = df.append(pd.Series([model_name, train_accuracy, train_precision, train_recall,\n",
        "                              test_accuracy, test_precision, test_recall],index=df.columns),ignore_index=True)\n",
        "    return df"
      ],
      "metadata": {
        "id": "xG7bpRdk0OZO"
      },
      "execution_count": null,
      "outputs": []
    },
    {
      "cell_type": "code",
      "source": [
        "performance_comparison = add_to_perform_compare_df(performance_comparison, 'Random Forest', y_train, train_pred_RFPipe, y_test, test_pred_RFPipe)"
      ],
      "metadata": {
        "id": "WUdD59D80OV3"
      },
      "execution_count": null,
      "outputs": []
    },
    {
      "cell_type": "code",
      "source": [
        "performance_comparison = add_to_perform_compare_df(performance_comparison, 'Ada Boost', y_train, train_pred_adapipe, y_test, test_pred_adapipe)"
      ],
      "metadata": {
        "id": "KPO5hEHB0OSt"
      },
      "execution_count": null,
      "outputs": []
    },
    {
      "cell_type": "code",
      "source": [
        "performance_comparison = add_to_perform_compare_df(performance_comparison, 'Gradient Boost', y_train, train_pred_Grapipe, y_test, test_pred_Grapipe)"
      ],
      "metadata": {
        "id": "GQT6cszf0OPm"
      },
      "execution_count": null,
      "outputs": []
    },
    {
      "cell_type": "code",
      "source": [
        "performance_comparison = add_to_perform_compare_df(performance_comparison, 'XG Boost', y_train, train_pred_xgbpipe, y_test, test_pred_xgbpipe)"
      ],
      "metadata": {
        "id": "X0bsR33F0OLt"
      },
      "execution_count": null,
      "outputs": []
    },
    {
      "cell_type": "code",
      "source": [
        "performance_comparison"
      ],
      "metadata": {
        "colab": {
          "base_uri": "https://localhost:8080/",
          "height": 175
        },
        "id": "6gzup9V52CgR",
        "outputId": "5b184b6c-e783-4645-9c3f-424a52db173d"
      },
      "execution_count": null,
      "outputs": [
        {
          "output_type": "execute_result",
          "data": {
            "text/plain": [
              "       Model name  Train accuracy  Train precision  Train recall  \\\n",
              "0   Random Forest        1.000000         1.000000      1.000000   \n",
              "1       Ada Boost        0.802679         0.798110      0.802679   \n",
              "2  Gradient Boost        0.873750         0.871891      0.873750   \n",
              "3        XG Boost        0.864464         0.862126      0.864464   \n",
              "\n",
              "   Test accuracy  Test precision  Test recall  \n",
              "0       0.822574        0.817280     0.822574  \n",
              "1       0.792170        0.785077     0.792170  \n",
              "2       0.822574        0.817457     0.822574  \n",
              "3       0.824656        0.819474     0.824656  "
            ],
            "text/html": [
              "\n",
              "  <div id=\"df-03238262-510a-411f-aa23-92b2c62eb46d\">\n",
              "    <div class=\"colab-df-container\">\n",
              "      <div>\n",
              "<style scoped>\n",
              "    .dataframe tbody tr th:only-of-type {\n",
              "        vertical-align: middle;\n",
              "    }\n",
              "\n",
              "    .dataframe tbody tr th {\n",
              "        vertical-align: top;\n",
              "    }\n",
              "\n",
              "    .dataframe thead th {\n",
              "        text-align: right;\n",
              "    }\n",
              "</style>\n",
              "<table border=\"1\" class=\"dataframe\">\n",
              "  <thead>\n",
              "    <tr style=\"text-align: right;\">\n",
              "      <th></th>\n",
              "      <th>Model name</th>\n",
              "      <th>Train accuracy</th>\n",
              "      <th>Train precision</th>\n",
              "      <th>Train recall</th>\n",
              "      <th>Test accuracy</th>\n",
              "      <th>Test precision</th>\n",
              "      <th>Test recall</th>\n",
              "    </tr>\n",
              "  </thead>\n",
              "  <tbody>\n",
              "    <tr>\n",
              "      <th>0</th>\n",
              "      <td>Random Forest</td>\n",
              "      <td>1.000000</td>\n",
              "      <td>1.000000</td>\n",
              "      <td>1.000000</td>\n",
              "      <td>0.822574</td>\n",
              "      <td>0.817280</td>\n",
              "      <td>0.822574</td>\n",
              "    </tr>\n",
              "    <tr>\n",
              "      <th>1</th>\n",
              "      <td>Ada Boost</td>\n",
              "      <td>0.802679</td>\n",
              "      <td>0.798110</td>\n",
              "      <td>0.802679</td>\n",
              "      <td>0.792170</td>\n",
              "      <td>0.785077</td>\n",
              "      <td>0.792170</td>\n",
              "    </tr>\n",
              "    <tr>\n",
              "      <th>2</th>\n",
              "      <td>Gradient Boost</td>\n",
              "      <td>0.873750</td>\n",
              "      <td>0.871891</td>\n",
              "      <td>0.873750</td>\n",
              "      <td>0.822574</td>\n",
              "      <td>0.817457</td>\n",
              "      <td>0.822574</td>\n",
              "    </tr>\n",
              "    <tr>\n",
              "      <th>3</th>\n",
              "      <td>XG Boost</td>\n",
              "      <td>0.864464</td>\n",
              "      <td>0.862126</td>\n",
              "      <td>0.864464</td>\n",
              "      <td>0.824656</td>\n",
              "      <td>0.819474</td>\n",
              "      <td>0.824656</td>\n",
              "    </tr>\n",
              "  </tbody>\n",
              "</table>\n",
              "</div>\n",
              "      <button class=\"colab-df-convert\" onclick=\"convertToInteractive('df-03238262-510a-411f-aa23-92b2c62eb46d')\"\n",
              "              title=\"Convert this dataframe to an interactive table.\"\n",
              "              style=\"display:none;\">\n",
              "        \n",
              "  <svg xmlns=\"http://www.w3.org/2000/svg\" height=\"24px\"viewBox=\"0 0 24 24\"\n",
              "       width=\"24px\">\n",
              "    <path d=\"M0 0h24v24H0V0z\" fill=\"none\"/>\n",
              "    <path d=\"M18.56 5.44l.94 2.06.94-2.06 2.06-.94-2.06-.94-.94-2.06-.94 2.06-2.06.94zm-11 1L8.5 8.5l.94-2.06 2.06-.94-2.06-.94L8.5 2.5l-.94 2.06-2.06.94zm10 10l.94 2.06.94-2.06 2.06-.94-2.06-.94-.94-2.06-.94 2.06-2.06.94z\"/><path d=\"M17.41 7.96l-1.37-1.37c-.4-.4-.92-.59-1.43-.59-.52 0-1.04.2-1.43.59L10.3 9.45l-7.72 7.72c-.78.78-.78 2.05 0 2.83L4 21.41c.39.39.9.59 1.41.59.51 0 1.02-.2 1.41-.59l7.78-7.78 2.81-2.81c.8-.78.8-2.07 0-2.86zM5.41 20L4 18.59l7.72-7.72 1.47 1.35L5.41 20z\"/>\n",
              "  </svg>\n",
              "      </button>\n",
              "      \n",
              "  <style>\n",
              "    .colab-df-container {\n",
              "      display:flex;\n",
              "      flex-wrap:wrap;\n",
              "      gap: 12px;\n",
              "    }\n",
              "\n",
              "    .colab-df-convert {\n",
              "      background-color: #E8F0FE;\n",
              "      border: none;\n",
              "      border-radius: 50%;\n",
              "      cursor: pointer;\n",
              "      display: none;\n",
              "      fill: #1967D2;\n",
              "      height: 32px;\n",
              "      padding: 0 0 0 0;\n",
              "      width: 32px;\n",
              "    }\n",
              "\n",
              "    .colab-df-convert:hover {\n",
              "      background-color: #E2EBFA;\n",
              "      box-shadow: 0px 1px 2px rgba(60, 64, 67, 0.3), 0px 1px 3px 1px rgba(60, 64, 67, 0.15);\n",
              "      fill: #174EA6;\n",
              "    }\n",
              "\n",
              "    [theme=dark] .colab-df-convert {\n",
              "      background-color: #3B4455;\n",
              "      fill: #D2E3FC;\n",
              "    }\n",
              "\n",
              "    [theme=dark] .colab-df-convert:hover {\n",
              "      background-color: #434B5C;\n",
              "      box-shadow: 0px 1px 3px 1px rgba(0, 0, 0, 0.15);\n",
              "      filter: drop-shadow(0px 1px 2px rgba(0, 0, 0, 0.3));\n",
              "      fill: #FFFFFF;\n",
              "    }\n",
              "  </style>\n",
              "\n",
              "      <script>\n",
              "        const buttonEl =\n",
              "          document.querySelector('#df-03238262-510a-411f-aa23-92b2c62eb46d button.colab-df-convert');\n",
              "        buttonEl.style.display =\n",
              "          google.colab.kernel.accessAllowed ? 'block' : 'none';\n",
              "\n",
              "        async function convertToInteractive(key) {\n",
              "          const element = document.querySelector('#df-03238262-510a-411f-aa23-92b2c62eb46d');\n",
              "          const dataTable =\n",
              "            await google.colab.kernel.invokeFunction('convertToInteractive',\n",
              "                                                     [key], {});\n",
              "          if (!dataTable) return;\n",
              "\n",
              "          const docLinkHtml = 'Like what you see? Visit the ' +\n",
              "            '<a target=\"_blank\" href=https://colab.research.google.com/notebooks/data_table.ipynb>data table notebook</a>'\n",
              "            + ' to learn more about interactive tables.';\n",
              "          element.innerHTML = '';\n",
              "          dataTable['output_type'] = 'display_data';\n",
              "          await google.colab.output.renderOutput(dataTable, element);\n",
              "          const docLink = document.createElement('div');\n",
              "          docLink.innerHTML = docLinkHtml;\n",
              "          element.appendChild(docLink);\n",
              "        }\n",
              "      </script>\n",
              "    </div>\n",
              "  </div>\n",
              "  "
            ]
          },
          "metadata": {},
          "execution_count": 159
        }
      ]
    }
  ]
}