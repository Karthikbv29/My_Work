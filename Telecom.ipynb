{
  "nbformat": 4,
  "nbformat_minor": 0,
  "metadata": {
    "colab": {
      "provenance": [],
      "authorship_tag": "ABX9TyNUW9POWLLuOYmj8UQmj63O",
      "include_colab_link": true
    },
    "kernelspec": {
      "name": "python3",
      "display_name": "Python 3"
    },
    "language_info": {
      "name": "python"
    }
  },
  "cells": [
    {
      "cell_type": "markdown",
      "metadata": {
        "id": "view-in-github",
        "colab_type": "text"
      },
      "source": [
        "<a href=\"https://colab.research.google.com/github/Karthikbv29/Batch108/blob/main/Telecom.ipynb\" target=\"_parent\"><img src=\"https://colab.research.google.com/assets/colab-badge.svg\" alt=\"Open In Colab\"/></a>"
      ]
    },
    {
      "cell_type": "code",
      "execution_count": null,
      "metadata": {
        "id": "RAjzbQp-KcDe"
      },
      "outputs": [],
      "source": [
        "import pandas as pd\n",
        "import numpy as np"
      ]
    },
    {
      "cell_type": "code",
      "source": [
        "tel=pd.read_csv('telco_data.csv')"
      ],
      "metadata": {
        "id": "Vs61InfNLgzR"
      },
      "execution_count": null,
      "outputs": []
    },
    {
      "cell_type": "code",
      "source": [
        "tel.head(10)"
      ],
      "metadata": {
        "colab": {
          "base_uri": "https://localhost:8080/",
          "height": 427
        },
        "id": "DHSKfFxqLsC0",
        "outputId": "8c016a7e-7410-4915-ac21-5fa21a1b27b1"
      },
      "execution_count": null,
      "outputs": [
        {
          "output_type": "execute_result",
          "data": {
            "text/plain": [
              "  International.Plan Voice.Mail.Plan  X..Vmail.Messages  Total.Day.Minutes  \\\n",
              "0                 no             yes                 25              265.1   \n",
              "1                 no             yes                 26              161.6   \n",
              "2                 no              no                  0              243.4   \n",
              "3                yes              no                  0              299.4   \n",
              "4                yes              no                  0              166.7   \n",
              "5                yes              no                  0              223.4   \n",
              "6                 no             yes                 24              218.2   \n",
              "7                yes              no                  0              157.0   \n",
              "8                 no              no                  0              184.5   \n",
              "9                yes             yes                 37              258.6   \n",
              "\n",
              "   Total.Day.Calls  Total.Day.Charge  Total.Eve.Minutes  Total.Eve.Calls  \\\n",
              "0              110             45.07              197.4               99   \n",
              "1              123             27.47              195.5              103   \n",
              "2              114             41.38              121.2              110   \n",
              "3               71             50.90               61.9               88   \n",
              "4              113             28.34              148.3              122   \n",
              "5               98             37.98              220.6              101   \n",
              "6               88             37.09              348.5              108   \n",
              "7               79             26.69              103.1               94   \n",
              "8               97             31.37              351.6               80   \n",
              "9               84             43.96              222.0              111   \n",
              "\n",
              "   Total.Eve.Charge  Total.Night.Minutes  Total.Night.Calls  \\\n",
              "0             16.78                244.7                 91   \n",
              "1             16.62                254.4                103   \n",
              "2             10.30                162.6                104   \n",
              "3              5.26                196.9                 89   \n",
              "4             12.61                186.9                121   \n",
              "5             18.75                203.9                118   \n",
              "6             29.62                212.6                118   \n",
              "7              8.76                211.8                 96   \n",
              "8             29.89                215.8                 90   \n",
              "9             18.87                326.4                 97   \n",
              "\n",
              "   Total.Night.Charge  Total.Intl.Minutes  Total.Intl.Calls  \\\n",
              "0               11.01                10.0                 3   \n",
              "1               11.45                13.7                 3   \n",
              "2                7.32                12.2                 5   \n",
              "3                8.86                 6.6                 7   \n",
              "4                8.41                10.1                 3   \n",
              "5                9.18                 6.3                 6   \n",
              "6                9.57                 7.5                 7   \n",
              "7                9.53                 7.1                 6   \n",
              "8                9.71                 8.7                 4   \n",
              "9               14.69                11.2                 5   \n",
              "\n",
              "   Total.Intl.Charge  X..customer.Service.Calls   Churn trainrows  \n",
              "0               2.70                          1  False.        No  \n",
              "1               3.70                          1  False.       Yes  \n",
              "2               3.29                          0  False.       Yes  \n",
              "3               1.78                          2  False.       Yes  \n",
              "4               2.73                          3  False.       Yes  \n",
              "5               1.70                          0  False.       Yes  \n",
              "6               2.03                          3  False.        No  \n",
              "7               1.92                          0  False.       Yes  \n",
              "8               2.35                          1  False.       Yes  \n",
              "9               3.02                          0  False.       Yes  "
            ],
            "text/html": [
              "\n",
              "  <div id=\"df-d0e17c72-9d1d-4899-a9a0-c53045d65fd2\">\n",
              "    <div class=\"colab-df-container\">\n",
              "      <div>\n",
              "<style scoped>\n",
              "    .dataframe tbody tr th:only-of-type {\n",
              "        vertical-align: middle;\n",
              "    }\n",
              "\n",
              "    .dataframe tbody tr th {\n",
              "        vertical-align: top;\n",
              "    }\n",
              "\n",
              "    .dataframe thead th {\n",
              "        text-align: right;\n",
              "    }\n",
              "</style>\n",
              "<table border=\"1\" class=\"dataframe\">\n",
              "  <thead>\n",
              "    <tr style=\"text-align: right;\">\n",
              "      <th></th>\n",
              "      <th>International.Plan</th>\n",
              "      <th>Voice.Mail.Plan</th>\n",
              "      <th>X..Vmail.Messages</th>\n",
              "      <th>Total.Day.Minutes</th>\n",
              "      <th>Total.Day.Calls</th>\n",
              "      <th>Total.Day.Charge</th>\n",
              "      <th>Total.Eve.Minutes</th>\n",
              "      <th>Total.Eve.Calls</th>\n",
              "      <th>Total.Eve.Charge</th>\n",
              "      <th>Total.Night.Minutes</th>\n",
              "      <th>Total.Night.Calls</th>\n",
              "      <th>Total.Night.Charge</th>\n",
              "      <th>Total.Intl.Minutes</th>\n",
              "      <th>Total.Intl.Calls</th>\n",
              "      <th>Total.Intl.Charge</th>\n",
              "      <th>X..customer.Service.Calls</th>\n",
              "      <th>Churn</th>\n",
              "      <th>trainrows</th>\n",
              "    </tr>\n",
              "  </thead>\n",
              "  <tbody>\n",
              "    <tr>\n",
              "      <th>0</th>\n",
              "      <td>no</td>\n",
              "      <td>yes</td>\n",
              "      <td>25</td>\n",
              "      <td>265.1</td>\n",
              "      <td>110</td>\n",
              "      <td>45.07</td>\n",
              "      <td>197.4</td>\n",
              "      <td>99</td>\n",
              "      <td>16.78</td>\n",
              "      <td>244.7</td>\n",
              "      <td>91</td>\n",
              "      <td>11.01</td>\n",
              "      <td>10.0</td>\n",
              "      <td>3</td>\n",
              "      <td>2.70</td>\n",
              "      <td>1</td>\n",
              "      <td>False.</td>\n",
              "      <td>No</td>\n",
              "    </tr>\n",
              "    <tr>\n",
              "      <th>1</th>\n",
              "      <td>no</td>\n",
              "      <td>yes</td>\n",
              "      <td>26</td>\n",
              "      <td>161.6</td>\n",
              "      <td>123</td>\n",
              "      <td>27.47</td>\n",
              "      <td>195.5</td>\n",
              "      <td>103</td>\n",
              "      <td>16.62</td>\n",
              "      <td>254.4</td>\n",
              "      <td>103</td>\n",
              "      <td>11.45</td>\n",
              "      <td>13.7</td>\n",
              "      <td>3</td>\n",
              "      <td>3.70</td>\n",
              "      <td>1</td>\n",
              "      <td>False.</td>\n",
              "      <td>Yes</td>\n",
              "    </tr>\n",
              "    <tr>\n",
              "      <th>2</th>\n",
              "      <td>no</td>\n",
              "      <td>no</td>\n",
              "      <td>0</td>\n",
              "      <td>243.4</td>\n",
              "      <td>114</td>\n",
              "      <td>41.38</td>\n",
              "      <td>121.2</td>\n",
              "      <td>110</td>\n",
              "      <td>10.30</td>\n",
              "      <td>162.6</td>\n",
              "      <td>104</td>\n",
              "      <td>7.32</td>\n",
              "      <td>12.2</td>\n",
              "      <td>5</td>\n",
              "      <td>3.29</td>\n",
              "      <td>0</td>\n",
              "      <td>False.</td>\n",
              "      <td>Yes</td>\n",
              "    </tr>\n",
              "    <tr>\n",
              "      <th>3</th>\n",
              "      <td>yes</td>\n",
              "      <td>no</td>\n",
              "      <td>0</td>\n",
              "      <td>299.4</td>\n",
              "      <td>71</td>\n",
              "      <td>50.90</td>\n",
              "      <td>61.9</td>\n",
              "      <td>88</td>\n",
              "      <td>5.26</td>\n",
              "      <td>196.9</td>\n",
              "      <td>89</td>\n",
              "      <td>8.86</td>\n",
              "      <td>6.6</td>\n",
              "      <td>7</td>\n",
              "      <td>1.78</td>\n",
              "      <td>2</td>\n",
              "      <td>False.</td>\n",
              "      <td>Yes</td>\n",
              "    </tr>\n",
              "    <tr>\n",
              "      <th>4</th>\n",
              "      <td>yes</td>\n",
              "      <td>no</td>\n",
              "      <td>0</td>\n",
              "      <td>166.7</td>\n",
              "      <td>113</td>\n",
              "      <td>28.34</td>\n",
              "      <td>148.3</td>\n",
              "      <td>122</td>\n",
              "      <td>12.61</td>\n",
              "      <td>186.9</td>\n",
              "      <td>121</td>\n",
              "      <td>8.41</td>\n",
              "      <td>10.1</td>\n",
              "      <td>3</td>\n",
              "      <td>2.73</td>\n",
              "      <td>3</td>\n",
              "      <td>False.</td>\n",
              "      <td>Yes</td>\n",
              "    </tr>\n",
              "    <tr>\n",
              "      <th>5</th>\n",
              "      <td>yes</td>\n",
              "      <td>no</td>\n",
              "      <td>0</td>\n",
              "      <td>223.4</td>\n",
              "      <td>98</td>\n",
              "      <td>37.98</td>\n",
              "      <td>220.6</td>\n",
              "      <td>101</td>\n",
              "      <td>18.75</td>\n",
              "      <td>203.9</td>\n",
              "      <td>118</td>\n",
              "      <td>9.18</td>\n",
              "      <td>6.3</td>\n",
              "      <td>6</td>\n",
              "      <td>1.70</td>\n",
              "      <td>0</td>\n",
              "      <td>False.</td>\n",
              "      <td>Yes</td>\n",
              "    </tr>\n",
              "    <tr>\n",
              "      <th>6</th>\n",
              "      <td>no</td>\n",
              "      <td>yes</td>\n",
              "      <td>24</td>\n",
              "      <td>218.2</td>\n",
              "      <td>88</td>\n",
              "      <td>37.09</td>\n",
              "      <td>348.5</td>\n",
              "      <td>108</td>\n",
              "      <td>29.62</td>\n",
              "      <td>212.6</td>\n",
              "      <td>118</td>\n",
              "      <td>9.57</td>\n",
              "      <td>7.5</td>\n",
              "      <td>7</td>\n",
              "      <td>2.03</td>\n",
              "      <td>3</td>\n",
              "      <td>False.</td>\n",
              "      <td>No</td>\n",
              "    </tr>\n",
              "    <tr>\n",
              "      <th>7</th>\n",
              "      <td>yes</td>\n",
              "      <td>no</td>\n",
              "      <td>0</td>\n",
              "      <td>157.0</td>\n",
              "      <td>79</td>\n",
              "      <td>26.69</td>\n",
              "      <td>103.1</td>\n",
              "      <td>94</td>\n",
              "      <td>8.76</td>\n",
              "      <td>211.8</td>\n",
              "      <td>96</td>\n",
              "      <td>9.53</td>\n",
              "      <td>7.1</td>\n",
              "      <td>6</td>\n",
              "      <td>1.92</td>\n",
              "      <td>0</td>\n",
              "      <td>False.</td>\n",
              "      <td>Yes</td>\n",
              "    </tr>\n",
              "    <tr>\n",
              "      <th>8</th>\n",
              "      <td>no</td>\n",
              "      <td>no</td>\n",
              "      <td>0</td>\n",
              "      <td>184.5</td>\n",
              "      <td>97</td>\n",
              "      <td>31.37</td>\n",
              "      <td>351.6</td>\n",
              "      <td>80</td>\n",
              "      <td>29.89</td>\n",
              "      <td>215.8</td>\n",
              "      <td>90</td>\n",
              "      <td>9.71</td>\n",
              "      <td>8.7</td>\n",
              "      <td>4</td>\n",
              "      <td>2.35</td>\n",
              "      <td>1</td>\n",
              "      <td>False.</td>\n",
              "      <td>Yes</td>\n",
              "    </tr>\n",
              "    <tr>\n",
              "      <th>9</th>\n",
              "      <td>yes</td>\n",
              "      <td>yes</td>\n",
              "      <td>37</td>\n",
              "      <td>258.6</td>\n",
              "      <td>84</td>\n",
              "      <td>43.96</td>\n",
              "      <td>222.0</td>\n",
              "      <td>111</td>\n",
              "      <td>18.87</td>\n",
              "      <td>326.4</td>\n",
              "      <td>97</td>\n",
              "      <td>14.69</td>\n",
              "      <td>11.2</td>\n",
              "      <td>5</td>\n",
              "      <td>3.02</td>\n",
              "      <td>0</td>\n",
              "      <td>False.</td>\n",
              "      <td>Yes</td>\n",
              "    </tr>\n",
              "  </tbody>\n",
              "</table>\n",
              "</div>\n",
              "      <button class=\"colab-df-convert\" onclick=\"convertToInteractive('df-d0e17c72-9d1d-4899-a9a0-c53045d65fd2')\"\n",
              "              title=\"Convert this dataframe to an interactive table.\"\n",
              "              style=\"display:none;\">\n",
              "        \n",
              "  <svg xmlns=\"http://www.w3.org/2000/svg\" height=\"24px\"viewBox=\"0 0 24 24\"\n",
              "       width=\"24px\">\n",
              "    <path d=\"M0 0h24v24H0V0z\" fill=\"none\"/>\n",
              "    <path d=\"M18.56 5.44l.94 2.06.94-2.06 2.06-.94-2.06-.94-.94-2.06-.94 2.06-2.06.94zm-11 1L8.5 8.5l.94-2.06 2.06-.94-2.06-.94L8.5 2.5l-.94 2.06-2.06.94zm10 10l.94 2.06.94-2.06 2.06-.94-2.06-.94-.94-2.06-.94 2.06-2.06.94z\"/><path d=\"M17.41 7.96l-1.37-1.37c-.4-.4-.92-.59-1.43-.59-.52 0-1.04.2-1.43.59L10.3 9.45l-7.72 7.72c-.78.78-.78 2.05 0 2.83L4 21.41c.39.39.9.59 1.41.59.51 0 1.02-.2 1.41-.59l7.78-7.78 2.81-2.81c.8-.78.8-2.07 0-2.86zM5.41 20L4 18.59l7.72-7.72 1.47 1.35L5.41 20z\"/>\n",
              "  </svg>\n",
              "      </button>\n",
              "      \n",
              "  <style>\n",
              "    .colab-df-container {\n",
              "      display:flex;\n",
              "      flex-wrap:wrap;\n",
              "      gap: 12px;\n",
              "    }\n",
              "\n",
              "    .colab-df-convert {\n",
              "      background-color: #E8F0FE;\n",
              "      border: none;\n",
              "      border-radius: 50%;\n",
              "      cursor: pointer;\n",
              "      display: none;\n",
              "      fill: #1967D2;\n",
              "      height: 32px;\n",
              "      padding: 0 0 0 0;\n",
              "      width: 32px;\n",
              "    }\n",
              "\n",
              "    .colab-df-convert:hover {\n",
              "      background-color: #E2EBFA;\n",
              "      box-shadow: 0px 1px 2px rgba(60, 64, 67, 0.3), 0px 1px 3px 1px rgba(60, 64, 67, 0.15);\n",
              "      fill: #174EA6;\n",
              "    }\n",
              "\n",
              "    [theme=dark] .colab-df-convert {\n",
              "      background-color: #3B4455;\n",
              "      fill: #D2E3FC;\n",
              "    }\n",
              "\n",
              "    [theme=dark] .colab-df-convert:hover {\n",
              "      background-color: #434B5C;\n",
              "      box-shadow: 0px 1px 3px 1px rgba(0, 0, 0, 0.15);\n",
              "      filter: drop-shadow(0px 1px 2px rgba(0, 0, 0, 0.3));\n",
              "      fill: #FFFFFF;\n",
              "    }\n",
              "  </style>\n",
              "\n",
              "      <script>\n",
              "        const buttonEl =\n",
              "          document.querySelector('#df-d0e17c72-9d1d-4899-a9a0-c53045d65fd2 button.colab-df-convert');\n",
              "        buttonEl.style.display =\n",
              "          google.colab.kernel.accessAllowed ? 'block' : 'none';\n",
              "\n",
              "        async function convertToInteractive(key) {\n",
              "          const element = document.querySelector('#df-d0e17c72-9d1d-4899-a9a0-c53045d65fd2');\n",
              "          const dataTable =\n",
              "            await google.colab.kernel.invokeFunction('convertToInteractive',\n",
              "                                                     [key], {});\n",
              "          if (!dataTable) return;\n",
              "\n",
              "          const docLinkHtml = 'Like what you see? Visit the ' +\n",
              "            '<a target=\"_blank\" href=https://colab.research.google.com/notebooks/data_table.ipynb>data table notebook</a>'\n",
              "            + ' to learn more about interactive tables.';\n",
              "          element.innerHTML = '';\n",
              "          dataTable['output_type'] = 'display_data';\n",
              "          await google.colab.output.renderOutput(dataTable, element);\n",
              "          const docLink = document.createElement('div');\n",
              "          docLink.innerHTML = docLinkHtml;\n",
              "          element.appendChild(docLink);\n",
              "        }\n",
              "      </script>\n",
              "    </div>\n",
              "  </div>\n",
              "  "
            ]
          },
          "metadata": {},
          "execution_count": 66
        }
      ]
    },
    {
      "cell_type": "code",
      "source": [
        "tel.shape"
      ],
      "metadata": {
        "colab": {
          "base_uri": "https://localhost:8080/"
        },
        "id": "3YnLSGuNMC-w",
        "outputId": "0a1244bc-8ffa-4bb5-e1e2-50bfed4070b4"
      },
      "execution_count": null,
      "outputs": [
        {
          "output_type": "execute_result",
          "data": {
            "text/plain": [
              "(5000, 18)"
            ]
          },
          "metadata": {},
          "execution_count": 67
        }
      ]
    },
    {
      "cell_type": "code",
      "source": [
        "tel.isna().sum()"
      ],
      "metadata": {
        "colab": {
          "base_uri": "https://localhost:8080/"
        },
        "id": "EE9YJBPsMFlJ",
        "outputId": "9a179ca6-1003-4217-de12-5652cf630018"
      },
      "execution_count": null,
      "outputs": [
        {
          "output_type": "execute_result",
          "data": {
            "text/plain": [
              "International.Plan           0\n",
              "Voice.Mail.Plan              0\n",
              "X..Vmail.Messages            0\n",
              "Total.Day.Minutes            0\n",
              "Total.Day.Calls              0\n",
              "Total.Day.Charge             0\n",
              "Total.Eve.Minutes            0\n",
              "Total.Eve.Calls              0\n",
              "Total.Eve.Charge             0\n",
              "Total.Night.Minutes          0\n",
              "Total.Night.Calls            0\n",
              "Total.Night.Charge           0\n",
              "Total.Intl.Minutes           0\n",
              "Total.Intl.Calls             0\n",
              "Total.Intl.Charge            0\n",
              "X..customer.Service.Calls    0\n",
              "Churn                        0\n",
              "trainrows                    0\n",
              "dtype: int64"
            ]
          },
          "metadata": {},
          "execution_count": 68
        }
      ]
    },
    {
      "cell_type": "code",
      "source": [
        "tel.dtypes"
      ],
      "metadata": {
        "colab": {
          "base_uri": "https://localhost:8080/"
        },
        "id": "2a4gbxlNMNMH",
        "outputId": "3b4a0cc4-d1ef-4c45-cdd4-77dd3ab1f0fb"
      },
      "execution_count": null,
      "outputs": [
        {
          "output_type": "execute_result",
          "data": {
            "text/plain": [
              "International.Plan            object\n",
              "Voice.Mail.Plan               object\n",
              "X..Vmail.Messages              int64\n",
              "Total.Day.Minutes            float64\n",
              "Total.Day.Calls                int64\n",
              "Total.Day.Charge             float64\n",
              "Total.Eve.Minutes            float64\n",
              "Total.Eve.Calls                int64\n",
              "Total.Eve.Charge             float64\n",
              "Total.Night.Minutes          float64\n",
              "Total.Night.Calls              int64\n",
              "Total.Night.Charge           float64\n",
              "Total.Intl.Minutes           float64\n",
              "Total.Intl.Calls               int64\n",
              "Total.Intl.Charge            float64\n",
              "X..customer.Service.Calls      int64\n",
              "Churn                         object\n",
              "trainrows                     object\n",
              "dtype: object"
            ]
          },
          "metadata": {},
          "execution_count": 69
        }
      ]
    },
    {
      "cell_type": "code",
      "source": [
        "tel.columns"
      ],
      "metadata": {
        "colab": {
          "base_uri": "https://localhost:8080/"
        },
        "id": "ryMzIUitZXBT",
        "outputId": "8311390e-4be9-4c72-89e6-6788f8984976"
      },
      "execution_count": null,
      "outputs": [
        {
          "output_type": "execute_result",
          "data": {
            "text/plain": [
              "Index(['International.Plan', 'Voice.Mail.Plan', 'X..Vmail.Messages',\n",
              "       'Total.Day.Minutes', 'Total.Day.Calls', 'Total.Day.Charge',\n",
              "       'Total.Eve.Minutes', 'Total.Eve.Calls', 'Total.Eve.Charge',\n",
              "       'Total.Night.Minutes', 'Total.Night.Calls', 'Total.Night.Charge',\n",
              "       'Total.Intl.Minutes', 'Total.Intl.Calls', 'Total.Intl.Charge',\n",
              "       'X..customer.Service.Calls', 'Churn', 'trainrows'],\n",
              "      dtype='object')"
            ]
          },
          "metadata": {},
          "execution_count": 70
        }
      ]
    },
    {
      "cell_type": "code",
      "source": [
        "num=['X..Vmail.Messages',\n",
        "       'Total.Day.Minutes', 'Total.Day.Calls', 'Total.Day.Charge',\n",
        "       'Total.Eve.Minutes', 'Total.Eve.Calls', 'Total.Eve.Charge',\n",
        "       'Total.Night.Minutes', 'Total.Night.Calls', 'Total.Night.Charge',\n",
        "       'Total.Intl.Minutes', 'Total.Intl.Calls', 'Total.Intl.Charge',\n",
        "       'X..customer.Service.Calls']\n",
        "cat=['International.Plan', 'Voice.Mail.Plan', 'trainrows']       "
      ],
      "metadata": {
        "id": "ZstYgL9YMaL3"
      },
      "execution_count": null,
      "outputs": []
    },
    {
      "cell_type": "code",
      "source": [
        "num"
      ],
      "metadata": {
        "colab": {
          "base_uri": "https://localhost:8080/"
        },
        "id": "6I-rmIZhTM9R",
        "outputId": "18667356-4d73-47ee-c178-11638d139070"
      },
      "execution_count": null,
      "outputs": [
        {
          "output_type": "execute_result",
          "data": {
            "text/plain": [
              "['X..Vmail.Messages',\n",
              " 'Total.Day.Minutes',\n",
              " 'Total.Day.Calls',\n",
              " 'Total.Day.Charge',\n",
              " 'Total.Eve.Minutes',\n",
              " 'Total.Eve.Calls',\n",
              " 'Total.Eve.Charge',\n",
              " 'Total.Night.Minutes',\n",
              " 'Total.Night.Calls',\n",
              " 'Total.Night.Charge',\n",
              " 'Total.Intl.Minutes',\n",
              " 'Total.Intl.Calls',\n",
              " 'Total.Intl.Charge',\n",
              " 'X..customer.Service.Calls']"
            ]
          },
          "metadata": {},
          "execution_count": 72
        }
      ]
    },
    {
      "cell_type": "code",
      "source": [
        "for col in cat:\n",
        "  tel[col]=tel[col].astype('category')"
      ],
      "metadata": {
        "id": "1PJyeSN0MaIO"
      },
      "execution_count": null,
      "outputs": []
    },
    {
      "cell_type": "code",
      "source": [
        "tel.dtypes"
      ],
      "metadata": {
        "colab": {
          "base_uri": "https://localhost:8080/"
        },
        "id": "NohtsKTBMaE1",
        "outputId": "c9526e0c-92df-4161-f5ff-31e837d0878c"
      },
      "execution_count": null,
      "outputs": [
        {
          "output_type": "execute_result",
          "data": {
            "text/plain": [
              "International.Plan           category\n",
              "Voice.Mail.Plan              category\n",
              "X..Vmail.Messages               int64\n",
              "Total.Day.Minutes             float64\n",
              "Total.Day.Calls                 int64\n",
              "Total.Day.Charge              float64\n",
              "Total.Eve.Minutes             float64\n",
              "Total.Eve.Calls                 int64\n",
              "Total.Eve.Charge              float64\n",
              "Total.Night.Minutes           float64\n",
              "Total.Night.Calls               int64\n",
              "Total.Night.Charge            float64\n",
              "Total.Intl.Minutes            float64\n",
              "Total.Intl.Calls                int64\n",
              "Total.Intl.Charge             float64\n",
              "X..customer.Service.Calls       int64\n",
              "Churn                        category\n",
              "trainrows                    category\n",
              "dtype: object"
            ]
          },
          "metadata": {},
          "execution_count": 74
        }
      ]
    },
    {
      "cell_type": "code",
      "source": [
        "tel.nunique()"
      ],
      "metadata": {
        "colab": {
          "base_uri": "https://localhost:8080/"
        },
        "id": "DvWgBrqUMaBN",
        "outputId": "11606792-1d1e-4dff-e840-29fa7ac193fb"
      },
      "execution_count": null,
      "outputs": [
        {
          "output_type": "execute_result",
          "data": {
            "text/plain": [
              "International.Plan              2\n",
              "Voice.Mail.Plan                 2\n",
              "X..Vmail.Messages              48\n",
              "Total.Day.Minutes            1961\n",
              "Total.Day.Calls               123\n",
              "Total.Day.Charge             1961\n",
              "Total.Eve.Minutes            1879\n",
              "Total.Eve.Calls               126\n",
              "Total.Eve.Charge             1659\n",
              "Total.Night.Minutes          1853\n",
              "Total.Night.Calls             131\n",
              "Total.Night.Charge           1028\n",
              "Total.Intl.Minutes            170\n",
              "Total.Intl.Calls               21\n",
              "Total.Intl.Charge             170\n",
              "X..customer.Service.Calls      10\n",
              "Churn                           2\n",
              "trainrows                       2\n",
              "dtype: int64"
            ]
          },
          "metadata": {},
          "execution_count": 76
        }
      ]
    },
    {
      "cell_type": "code",
      "source": [
        "tel.describe()"
      ],
      "metadata": {
        "colab": {
          "base_uri": "https://localhost:8080/",
          "height": 364
        },
        "id": "AlEfmUviOYBq",
        "outputId": "bd591a09-638b-4c6e-f569-41e3dccbc821"
      },
      "execution_count": null,
      "outputs": [
        {
          "output_type": "execute_result",
          "data": {
            "text/plain": [
              "       X..Vmail.Messages  Total.Day.Minutes  Total.Day.Calls  \\\n",
              "count        5000.000000        5000.000000      5000.000000   \n",
              "mean            7.755200         180.288900       100.029400   \n",
              "std            13.546393          53.894699        19.831197   \n",
              "min             0.000000           0.000000         0.000000   \n",
              "25%             0.000000         143.700000        87.000000   \n",
              "50%             0.000000         180.100000       100.000000   \n",
              "75%            17.000000         216.200000       113.000000   \n",
              "max            52.000000         351.500000       165.000000   \n",
              "\n",
              "       Total.Day.Charge  Total.Eve.Minutes  Total.Eve.Calls  Total.Eve.Charge  \\\n",
              "count       5000.000000        5000.000000      5000.000000       5000.000000   \n",
              "mean          30.649668         200.636560       100.191000         17.054322   \n",
              "std            9.162069          50.551309        19.826496          4.296843   \n",
              "min            0.000000           0.000000         0.000000          0.000000   \n",
              "25%           24.430000         166.375000        87.000000         14.140000   \n",
              "50%           30.620000         201.000000       100.000000         17.090000   \n",
              "75%           36.750000         234.100000       114.000000         19.900000   \n",
              "max           59.760000         363.700000       170.000000         30.910000   \n",
              "\n",
              "       Total.Night.Minutes  Total.Night.Calls  Total.Night.Charge  \\\n",
              "count          5000.000000        5000.000000         5000.000000   \n",
              "mean            200.391620          99.919200            9.017732   \n",
              "std              50.527789          19.958686            2.273763   \n",
              "min               0.000000           0.000000            0.000000   \n",
              "25%             166.900000          87.000000            7.510000   \n",
              "50%             200.400000         100.000000            9.020000   \n",
              "75%             234.700000         113.000000           10.560000   \n",
              "max             395.000000         175.000000           17.770000   \n",
              "\n",
              "       Total.Intl.Minutes  Total.Intl.Calls  Total.Intl.Charge  \\\n",
              "count         5000.000000       5000.000000        5000.000000   \n",
              "mean            10.261780          4.435200           2.771196   \n",
              "std              2.761396          2.456788           0.745514   \n",
              "min              0.000000          0.000000           0.000000   \n",
              "25%              8.500000          3.000000           2.300000   \n",
              "50%             10.300000          4.000000           2.780000   \n",
              "75%             12.000000          6.000000           3.240000   \n",
              "max             20.000000         20.000000           5.400000   \n",
              "\n",
              "       X..customer.Service.Calls  \n",
              "count                5000.000000  \n",
              "mean                    1.570400  \n",
              "std                     1.306363  \n",
              "min                     0.000000  \n",
              "25%                     1.000000  \n",
              "50%                     1.000000  \n",
              "75%                     2.000000  \n",
              "max                     9.000000  "
            ],
            "text/html": [
              "\n",
              "  <div id=\"df-2bb002e6-c673-4a54-80f0-0bc8f9f1b7c7\">\n",
              "    <div class=\"colab-df-container\">\n",
              "      <div>\n",
              "<style scoped>\n",
              "    .dataframe tbody tr th:only-of-type {\n",
              "        vertical-align: middle;\n",
              "    }\n",
              "\n",
              "    .dataframe tbody tr th {\n",
              "        vertical-align: top;\n",
              "    }\n",
              "\n",
              "    .dataframe thead th {\n",
              "        text-align: right;\n",
              "    }\n",
              "</style>\n",
              "<table border=\"1\" class=\"dataframe\">\n",
              "  <thead>\n",
              "    <tr style=\"text-align: right;\">\n",
              "      <th></th>\n",
              "      <th>X..Vmail.Messages</th>\n",
              "      <th>Total.Day.Minutes</th>\n",
              "      <th>Total.Day.Calls</th>\n",
              "      <th>Total.Day.Charge</th>\n",
              "      <th>Total.Eve.Minutes</th>\n",
              "      <th>Total.Eve.Calls</th>\n",
              "      <th>Total.Eve.Charge</th>\n",
              "      <th>Total.Night.Minutes</th>\n",
              "      <th>Total.Night.Calls</th>\n",
              "      <th>Total.Night.Charge</th>\n",
              "      <th>Total.Intl.Minutes</th>\n",
              "      <th>Total.Intl.Calls</th>\n",
              "      <th>Total.Intl.Charge</th>\n",
              "      <th>X..customer.Service.Calls</th>\n",
              "    </tr>\n",
              "  </thead>\n",
              "  <tbody>\n",
              "    <tr>\n",
              "      <th>count</th>\n",
              "      <td>5000.000000</td>\n",
              "      <td>5000.000000</td>\n",
              "      <td>5000.000000</td>\n",
              "      <td>5000.000000</td>\n",
              "      <td>5000.000000</td>\n",
              "      <td>5000.000000</td>\n",
              "      <td>5000.000000</td>\n",
              "      <td>5000.000000</td>\n",
              "      <td>5000.000000</td>\n",
              "      <td>5000.000000</td>\n",
              "      <td>5000.000000</td>\n",
              "      <td>5000.000000</td>\n",
              "      <td>5000.000000</td>\n",
              "      <td>5000.000000</td>\n",
              "    </tr>\n",
              "    <tr>\n",
              "      <th>mean</th>\n",
              "      <td>7.755200</td>\n",
              "      <td>180.288900</td>\n",
              "      <td>100.029400</td>\n",
              "      <td>30.649668</td>\n",
              "      <td>200.636560</td>\n",
              "      <td>100.191000</td>\n",
              "      <td>17.054322</td>\n",
              "      <td>200.391620</td>\n",
              "      <td>99.919200</td>\n",
              "      <td>9.017732</td>\n",
              "      <td>10.261780</td>\n",
              "      <td>4.435200</td>\n",
              "      <td>2.771196</td>\n",
              "      <td>1.570400</td>\n",
              "    </tr>\n",
              "    <tr>\n",
              "      <th>std</th>\n",
              "      <td>13.546393</td>\n",
              "      <td>53.894699</td>\n",
              "      <td>19.831197</td>\n",
              "      <td>9.162069</td>\n",
              "      <td>50.551309</td>\n",
              "      <td>19.826496</td>\n",
              "      <td>4.296843</td>\n",
              "      <td>50.527789</td>\n",
              "      <td>19.958686</td>\n",
              "      <td>2.273763</td>\n",
              "      <td>2.761396</td>\n",
              "      <td>2.456788</td>\n",
              "      <td>0.745514</td>\n",
              "      <td>1.306363</td>\n",
              "    </tr>\n",
              "    <tr>\n",
              "      <th>min</th>\n",
              "      <td>0.000000</td>\n",
              "      <td>0.000000</td>\n",
              "      <td>0.000000</td>\n",
              "      <td>0.000000</td>\n",
              "      <td>0.000000</td>\n",
              "      <td>0.000000</td>\n",
              "      <td>0.000000</td>\n",
              "      <td>0.000000</td>\n",
              "      <td>0.000000</td>\n",
              "      <td>0.000000</td>\n",
              "      <td>0.000000</td>\n",
              "      <td>0.000000</td>\n",
              "      <td>0.000000</td>\n",
              "      <td>0.000000</td>\n",
              "    </tr>\n",
              "    <tr>\n",
              "      <th>25%</th>\n",
              "      <td>0.000000</td>\n",
              "      <td>143.700000</td>\n",
              "      <td>87.000000</td>\n",
              "      <td>24.430000</td>\n",
              "      <td>166.375000</td>\n",
              "      <td>87.000000</td>\n",
              "      <td>14.140000</td>\n",
              "      <td>166.900000</td>\n",
              "      <td>87.000000</td>\n",
              "      <td>7.510000</td>\n",
              "      <td>8.500000</td>\n",
              "      <td>3.000000</td>\n",
              "      <td>2.300000</td>\n",
              "      <td>1.000000</td>\n",
              "    </tr>\n",
              "    <tr>\n",
              "      <th>50%</th>\n",
              "      <td>0.000000</td>\n",
              "      <td>180.100000</td>\n",
              "      <td>100.000000</td>\n",
              "      <td>30.620000</td>\n",
              "      <td>201.000000</td>\n",
              "      <td>100.000000</td>\n",
              "      <td>17.090000</td>\n",
              "      <td>200.400000</td>\n",
              "      <td>100.000000</td>\n",
              "      <td>9.020000</td>\n",
              "      <td>10.300000</td>\n",
              "      <td>4.000000</td>\n",
              "      <td>2.780000</td>\n",
              "      <td>1.000000</td>\n",
              "    </tr>\n",
              "    <tr>\n",
              "      <th>75%</th>\n",
              "      <td>17.000000</td>\n",
              "      <td>216.200000</td>\n",
              "      <td>113.000000</td>\n",
              "      <td>36.750000</td>\n",
              "      <td>234.100000</td>\n",
              "      <td>114.000000</td>\n",
              "      <td>19.900000</td>\n",
              "      <td>234.700000</td>\n",
              "      <td>113.000000</td>\n",
              "      <td>10.560000</td>\n",
              "      <td>12.000000</td>\n",
              "      <td>6.000000</td>\n",
              "      <td>3.240000</td>\n",
              "      <td>2.000000</td>\n",
              "    </tr>\n",
              "    <tr>\n",
              "      <th>max</th>\n",
              "      <td>52.000000</td>\n",
              "      <td>351.500000</td>\n",
              "      <td>165.000000</td>\n",
              "      <td>59.760000</td>\n",
              "      <td>363.700000</td>\n",
              "      <td>170.000000</td>\n",
              "      <td>30.910000</td>\n",
              "      <td>395.000000</td>\n",
              "      <td>175.000000</td>\n",
              "      <td>17.770000</td>\n",
              "      <td>20.000000</td>\n",
              "      <td>20.000000</td>\n",
              "      <td>5.400000</td>\n",
              "      <td>9.000000</td>\n",
              "    </tr>\n",
              "  </tbody>\n",
              "</table>\n",
              "</div>\n",
              "      <button class=\"colab-df-convert\" onclick=\"convertToInteractive('df-2bb002e6-c673-4a54-80f0-0bc8f9f1b7c7')\"\n",
              "              title=\"Convert this dataframe to an interactive table.\"\n",
              "              style=\"display:none;\">\n",
              "        \n",
              "  <svg xmlns=\"http://www.w3.org/2000/svg\" height=\"24px\"viewBox=\"0 0 24 24\"\n",
              "       width=\"24px\">\n",
              "    <path d=\"M0 0h24v24H0V0z\" fill=\"none\"/>\n",
              "    <path d=\"M18.56 5.44l.94 2.06.94-2.06 2.06-.94-2.06-.94-.94-2.06-.94 2.06-2.06.94zm-11 1L8.5 8.5l.94-2.06 2.06-.94-2.06-.94L8.5 2.5l-.94 2.06-2.06.94zm10 10l.94 2.06.94-2.06 2.06-.94-2.06-.94-.94-2.06-.94 2.06-2.06.94z\"/><path d=\"M17.41 7.96l-1.37-1.37c-.4-.4-.92-.59-1.43-.59-.52 0-1.04.2-1.43.59L10.3 9.45l-7.72 7.72c-.78.78-.78 2.05 0 2.83L4 21.41c.39.39.9.59 1.41.59.51 0 1.02-.2 1.41-.59l7.78-7.78 2.81-2.81c.8-.78.8-2.07 0-2.86zM5.41 20L4 18.59l7.72-7.72 1.47 1.35L5.41 20z\"/>\n",
              "  </svg>\n",
              "      </button>\n",
              "      \n",
              "  <style>\n",
              "    .colab-df-container {\n",
              "      display:flex;\n",
              "      flex-wrap:wrap;\n",
              "      gap: 12px;\n",
              "    }\n",
              "\n",
              "    .colab-df-convert {\n",
              "      background-color: #E8F0FE;\n",
              "      border: none;\n",
              "      border-radius: 50%;\n",
              "      cursor: pointer;\n",
              "      display: none;\n",
              "      fill: #1967D2;\n",
              "      height: 32px;\n",
              "      padding: 0 0 0 0;\n",
              "      width: 32px;\n",
              "    }\n",
              "\n",
              "    .colab-df-convert:hover {\n",
              "      background-color: #E2EBFA;\n",
              "      box-shadow: 0px 1px 2px rgba(60, 64, 67, 0.3), 0px 1px 3px 1px rgba(60, 64, 67, 0.15);\n",
              "      fill: #174EA6;\n",
              "    }\n",
              "\n",
              "    [theme=dark] .colab-df-convert {\n",
              "      background-color: #3B4455;\n",
              "      fill: #D2E3FC;\n",
              "    }\n",
              "\n",
              "    [theme=dark] .colab-df-convert:hover {\n",
              "      background-color: #434B5C;\n",
              "      box-shadow: 0px 1px 3px 1px rgba(0, 0, 0, 0.15);\n",
              "      filter: drop-shadow(0px 1px 2px rgba(0, 0, 0, 0.3));\n",
              "      fill: #FFFFFF;\n",
              "    }\n",
              "  </style>\n",
              "\n",
              "      <script>\n",
              "        const buttonEl =\n",
              "          document.querySelector('#df-2bb002e6-c673-4a54-80f0-0bc8f9f1b7c7 button.colab-df-convert');\n",
              "        buttonEl.style.display =\n",
              "          google.colab.kernel.accessAllowed ? 'block' : 'none';\n",
              "\n",
              "        async function convertToInteractive(key) {\n",
              "          const element = document.querySelector('#df-2bb002e6-c673-4a54-80f0-0bc8f9f1b7c7');\n",
              "          const dataTable =\n",
              "            await google.colab.kernel.invokeFunction('convertToInteractive',\n",
              "                                                     [key], {});\n",
              "          if (!dataTable) return;\n",
              "\n",
              "          const docLinkHtml = 'Like what you see? Visit the ' +\n",
              "            '<a target=\"_blank\" href=https://colab.research.google.com/notebooks/data_table.ipynb>data table notebook</a>'\n",
              "            + ' to learn more about interactive tables.';\n",
              "          element.innerHTML = '';\n",
              "          dataTable['output_type'] = 'display_data';\n",
              "          await google.colab.output.renderOutput(dataTable, element);\n",
              "          const docLink = document.createElement('div');\n",
              "          docLink.innerHTML = docLinkHtml;\n",
              "          element.appendChild(docLink);\n",
              "        }\n",
              "      </script>\n",
              "    </div>\n",
              "  </div>\n",
              "  "
            ]
          },
          "metadata": {},
          "execution_count": 77
        }
      ]
    },
    {
      "cell_type": "code",
      "source": [
        "x=tel.drop('Churn',axis=1)\n",
        "y=tel['Churn']"
      ],
      "metadata": {
        "id": "bS3xkQI9OX-k"
      },
      "execution_count": null,
      "outputs": []
    },
    {
      "cell_type": "code",
      "source": [
        "from sklearn.model_selection import train_test_split\n",
        "x_train,x_test,y_train,y_test=train_test_split(x,y,test_size=0.3,random_state=29)\n",
        "print(x_train.shape)\n",
        "print(x_test.shape)\n",
        "print(y_train.shape)\n",
        "print(y_test.shape)"
      ],
      "metadata": {
        "colab": {
          "base_uri": "https://localhost:8080/"
        },
        "id": "f6yJL_4fOX6I",
        "outputId": "ad411da9-ad97-4693-e665-3e528de5b315"
      },
      "execution_count": null,
      "outputs": [
        {
          "output_type": "stream",
          "name": "stdout",
          "text": [
            "(3500, 17)\n",
            "(1500, 17)\n",
            "(3500,)\n",
            "(1500,)\n"
          ]
        }
      ]
    },
    {
      "cell_type": "code",
      "source": [
        "from sklearn.preprocessing import StandardScaler\n",
        "sc=StandardScaler()\n",
        "sc.fit(x_train[num])\n",
        "x_train_std=sc.transform(x_train[num])\n",
        "x_test_std=sc.transform(x_test[num])"
      ],
      "metadata": {
        "id": "tJfbKBkLOvIj"
      },
      "execution_count": null,
      "outputs": []
    },
    {
      "cell_type": "code",
      "source": [
        "from sklearn.preprocessing import OneHotEncoder,LabelEncoder\n",
        "ohe=OneHotEncoder()\n",
        "ohe.fit(x_train[cat])\n",
        "x_train_ohe=ohe.transform(x_train[cat]).toarray()\n",
        "x_test_ohe=ohe.transform(x_test[cat]).toarray()\n",
        "\n",
        "le=LabelEncoder()\n",
        "le.fit(y_train)\n",
        "y_train=le.transform(y_train)\n",
        "y_test=le.transform(y_test)"
      ],
      "metadata": {
        "id": "Dn6GodEGOvFc"
      },
      "execution_count": null,
      "outputs": []
    },
    {
      "cell_type": "code",
      "source": [
        "x_train=np.concatenate([x_train_ohe,x_train_std],axis=1)\n",
        "x_test=np.concatenate([x_test_ohe,x_test_std],axis=1)"
      ],
      "metadata": {
        "id": "d0P3C3VFWIIS"
      },
      "execution_count": null,
      "outputs": []
    },
    {
      "cell_type": "code",
      "source": [
        "from sklearn.linear_model import LogisticRegression\n",
        "log=LogisticRegression()\n",
        "log.fit(x_train,y_train)\n",
        "trainpreds_log=log.predict(x_train)\n",
        "testpreds_log=log.predict(x_test)"
      ],
      "metadata": {
        "id": "pMOd0mK6OvBz"
      },
      "execution_count": null,
      "outputs": []
    },
    {
      "cell_type": "code",
      "source": [
        "def evaluate_model(act, pred):\n",
        "    from sklearn.metrics import confusion_matrix, accuracy_score, recall_score, precision_score\n",
        "    print(\"Confusion Matrix \\n\", confusion_matrix(act, pred))\n",
        "    print(\"Accuracy : \", accuracy_score(act, pred))\n",
        "    print(\"Recall   : \", recall_score(act, pred))\n",
        "    print(\"Precision: \", precision_score(act, pred))  "
      ],
      "metadata": {
        "id": "SVN_u98fVGVY"
      },
      "execution_count": null,
      "outputs": []
    },
    {
      "cell_type": "code",
      "source": [
        "print('----train----')\n",
        "evaluate_model(y_train,trainpreds_log)\n",
        "print('----test----')\n",
        "evaluate_model(y_test,testpreds_log)"
      ],
      "metadata": {
        "colab": {
          "base_uri": "https://localhost:8080/"
        },
        "id": "phI_G5_qVGRv",
        "outputId": "88dda3c1-e1be-4a8e-aac2-d8c9362c31cd"
      },
      "execution_count": null,
      "outputs": [
        {
          "output_type": "stream",
          "name": "stdout",
          "text": [
            "----train----\n",
            "Confusion Matrix \n",
            " [[2917   74]\n",
            " [ 417   92]]\n",
            "Accuracy :  0.8597142857142858\n",
            "Recall   :  0.1807465618860511\n",
            "Precision:  0.5542168674698795\n",
            "----test----\n",
            "Confusion Matrix \n",
            " [[1268   34]\n",
            " [ 144   54]]\n",
            "Accuracy :  0.8813333333333333\n",
            "Recall   :  0.2727272727272727\n",
            "Precision:  0.6136363636363636\n"
          ]
        }
      ]
    },
    {
      "cell_type": "code",
      "source": [
        "from sklearn.tree import DecisionTreeClassifier\n",
        "dt=DecisionTreeClassifier()\n",
        "dt.fit(x_train,y_train)\n",
        "trainpreds_dt=dt.predict(x_train)\n",
        "testpreds_dt=dt.predict(x_test)"
      ],
      "metadata": {
        "id": "d9OID6beVGJa"
      },
      "execution_count": null,
      "outputs": []
    },
    {
      "cell_type": "code",
      "source": [
        "print('----train----')\n",
        "evaluate_model(y_train,trainpreds_dt)\n",
        "print('----test----')\n",
        "evaluate_model(y_test,testpreds_dt)"
      ],
      "metadata": {
        "colab": {
          "base_uri": "https://localhost:8080/"
        },
        "id": "INhbCYSZalyo",
        "outputId": "376fe1a5-3861-41f7-ac64-ddb01625bc7e"
      },
      "execution_count": null,
      "outputs": [
        {
          "output_type": "stream",
          "name": "stdout",
          "text": [
            "----train----\n",
            "Confusion Matrix \n",
            " [[2991    0]\n",
            " [   0  509]]\n",
            "Accuracy :  1.0\n",
            "Recall   :  1.0\n",
            "Precision:  1.0\n",
            "----test----\n",
            "Confusion Matrix \n",
            " [[1222   80]\n",
            " [  51  147]]\n",
            "Accuracy :  0.9126666666666666\n",
            "Recall   :  0.7424242424242424\n",
            "Precision:  0.6475770925110133\n"
          ]
        }
      ]
    },
    {
      "cell_type": "code",
      "source": [
        "from sklearn.ensemble import RandomForestClassifier\n",
        "rf=RandomForestClassifier()\n",
        "rf.fit(x_train,y_train)\n",
        "trainpreds_rf=rf.predict(x_train)\n",
        "testpreds_rf=rf.predict(x_test)"
      ],
      "metadata": {
        "id": "8sML0QEealHZ"
      },
      "execution_count": null,
      "outputs": []
    },
    {
      "cell_type": "code",
      "source": [
        "print('----train----')\n",
        "evaluate_model(y_train,trainpreds_rf)\n",
        "print('----test----')\n",
        "evaluate_model(y_test,testpreds_rf)"
      ],
      "metadata": {
        "colab": {
          "base_uri": "https://localhost:8080/"
        },
        "id": "3HzLFcLYalES",
        "outputId": "a956c3ca-82b3-4777-e7d9-d1cff0091880"
      },
      "execution_count": null,
      "outputs": [
        {
          "output_type": "stream",
          "name": "stdout",
          "text": [
            "----train----\n",
            "Confusion Matrix \n",
            " [[2991    0]\n",
            " [   0  509]]\n",
            "Accuracy :  1.0\n",
            "Recall   :  1.0\n",
            "Precision:  1.0\n",
            "----test----\n",
            "Confusion Matrix \n",
            " [[1293    9]\n",
            " [  54  144]]\n",
            "Accuracy :  0.958\n",
            "Recall   :  0.7272727272727273\n",
            "Precision:  0.9411764705882353\n"
          ]
        }
      ]
    },
    {
      "cell_type": "code",
      "source": [
        "from sklearn.neighbors import KNeighborsClassifier\n",
        "knn=KNeighborsClassifier()\n",
        "knn.fit(x_train,y_train)\n",
        "trainpreds_knn=knn.predict(x_train)\n",
        "testpreds_knn=knn.predict(x_test)"
      ],
      "metadata": {
        "id": "qZbtTlphalA5"
      },
      "execution_count": null,
      "outputs": []
    },
    {
      "cell_type": "code",
      "source": [
        "print('----train----')\n",
        "evaluate_model(y_train,trainpreds_knn)\n",
        "print('----test----')\n",
        "evaluate_model(y_test,testpreds_knn)"
      ],
      "metadata": {
        "colab": {
          "base_uri": "https://localhost:8080/"
        },
        "id": "zOL0bM6xak4T",
        "outputId": "49c27ce4-4067-4c74-d0fe-37b9e08fc465"
      },
      "execution_count": null,
      "outputs": [
        {
          "output_type": "stream",
          "name": "stdout",
          "text": [
            "----train----\n",
            "Confusion Matrix \n",
            " [[2980   11]\n",
            " [ 296  213]]\n",
            "Accuracy :  0.9122857142857143\n",
            "Recall   :  0.41846758349705304\n",
            "Precision:  0.9508928571428571\n",
            "----test----\n",
            "Confusion Matrix \n",
            " [[1294    8]\n",
            " [ 136   62]]\n",
            "Accuracy :  0.904\n",
            "Recall   :  0.31313131313131315\n",
            "Precision:  0.8857142857142857\n"
          ]
        }
      ]
    },
    {
      "cell_type": "code",
      "source": [
        "cols=['Model','Train_Accuracy','Train_Precision','Train_Recall','Test_Accuracy','Test_Precision','Test_Recall']\n",
        "performance=pd.DataFrame(columns=cols)"
      ],
      "metadata": {
        "id": "audsODmWbVMd"
      },
      "execution_count": null,
      "outputs": []
    },
    {
      "cell_type": "code",
      "source": [
        "def add_to_perf(df,model,train_act,train_pred,test_act,test_pred):\n",
        "  from sklearn.metrics import confusion_matrix, accuracy_score, recall_score, precision_score\n",
        "  train_accuracy=accuracy_score(train_act,train_pred)\n",
        "  test_accuracy=accuracy_score(test_act,test_pred)\n",
        "  train_precision=precision_score(train_act,train_pred)\n",
        "  test_precision=precision_score(test_act,test_pred)\n",
        "  train_recall=recall_score(train_act,train_pred)\n",
        "  test_recall=recall_score(test_act,test_pred)\n",
        "  df=df.append(pd.Series([model,train_accuracy,train_precision, train_recall,test_accuracy,test_precision, test_recall],index=df.columns),ignore_index=True)\n",
        "  return df"
      ],
      "metadata": {
        "id": "bjiTVRz_bVFL"
      },
      "execution_count": null,
      "outputs": []
    },
    {
      "cell_type": "code",
      "source": [
        "performance=add_to_perf(performance,'Logistic Regression',y_train,trainpreds_log,y_test,testpreds_log)"
      ],
      "metadata": {
        "id": "wyKwD9dKbUpj"
      },
      "execution_count": null,
      "outputs": []
    },
    {
      "cell_type": "code",
      "source": [
        "performance=add_to_perf(performance,'Decision Tree',y_train,trainpreds_dt,y_test,testpreds_dt)"
      ],
      "metadata": {
        "id": "cIOFkju-bUjj"
      },
      "execution_count": null,
      "outputs": []
    },
    {
      "cell_type": "code",
      "source": [
        "performance=add_to_perf(performance,'Random Forest',y_train,trainpreds_rf,y_test,testpreds_rf)"
      ],
      "metadata": {
        "id": "ZrjWRD0dbUgL"
      },
      "execution_count": null,
      "outputs": []
    },
    {
      "cell_type": "code",
      "source": [
        "performance=add_to_perf(performance,'K-Nearest Neighbors',y_train,trainpreds_knn,y_test,testpreds_knn)"
      ],
      "metadata": {
        "id": "Kqgw6xv0bUdE"
      },
      "execution_count": null,
      "outputs": []
    },
    {
      "cell_type": "code",
      "source": [
        "performance"
      ],
      "metadata": {
        "colab": {
          "base_uri": "https://localhost:8080/",
          "height": 175
        },
        "id": "t8IGnKnLbsaH",
        "outputId": "6e750b9b-f67f-4cb6-f5c5-995b539aea61"
      },
      "execution_count": null,
      "outputs": [
        {
          "output_type": "execute_result",
          "data": {
            "text/plain": [
              "                 Model  Train_Accuracy  Train_Precision  Train_Recall  \\\n",
              "0  Logistic Regression        0.859714         0.554217      0.180747   \n",
              "1        Decision Tree        1.000000         1.000000      1.000000   \n",
              "2        Random Forest        1.000000         1.000000      1.000000   \n",
              "3  K-Nearest Neighbors        0.912286         0.950893      0.418468   \n",
              "\n",
              "   Test_Accuracy  Test_Precision  Test_Recall  \n",
              "0       0.881333        0.613636     0.272727  \n",
              "1       0.912667        0.647577     0.742424  \n",
              "2       0.958000        0.941176     0.727273  \n",
              "3       0.904000        0.885714     0.313131  "
            ],
            "text/html": [
              "\n",
              "  <div id=\"df-9176aee1-ae59-4e1e-9106-279b907cf620\">\n",
              "    <div class=\"colab-df-container\">\n",
              "      <div>\n",
              "<style scoped>\n",
              "    .dataframe tbody tr th:only-of-type {\n",
              "        vertical-align: middle;\n",
              "    }\n",
              "\n",
              "    .dataframe tbody tr th {\n",
              "        vertical-align: top;\n",
              "    }\n",
              "\n",
              "    .dataframe thead th {\n",
              "        text-align: right;\n",
              "    }\n",
              "</style>\n",
              "<table border=\"1\" class=\"dataframe\">\n",
              "  <thead>\n",
              "    <tr style=\"text-align: right;\">\n",
              "      <th></th>\n",
              "      <th>Model</th>\n",
              "      <th>Train_Accuracy</th>\n",
              "      <th>Train_Precision</th>\n",
              "      <th>Train_Recall</th>\n",
              "      <th>Test_Accuracy</th>\n",
              "      <th>Test_Precision</th>\n",
              "      <th>Test_Recall</th>\n",
              "    </tr>\n",
              "  </thead>\n",
              "  <tbody>\n",
              "    <tr>\n",
              "      <th>0</th>\n",
              "      <td>Logistic Regression</td>\n",
              "      <td>0.859714</td>\n",
              "      <td>0.554217</td>\n",
              "      <td>0.180747</td>\n",
              "      <td>0.881333</td>\n",
              "      <td>0.613636</td>\n",
              "      <td>0.272727</td>\n",
              "    </tr>\n",
              "    <tr>\n",
              "      <th>1</th>\n",
              "      <td>Decision Tree</td>\n",
              "      <td>1.000000</td>\n",
              "      <td>1.000000</td>\n",
              "      <td>1.000000</td>\n",
              "      <td>0.912667</td>\n",
              "      <td>0.647577</td>\n",
              "      <td>0.742424</td>\n",
              "    </tr>\n",
              "    <tr>\n",
              "      <th>2</th>\n",
              "      <td>Random Forest</td>\n",
              "      <td>1.000000</td>\n",
              "      <td>1.000000</td>\n",
              "      <td>1.000000</td>\n",
              "      <td>0.958000</td>\n",
              "      <td>0.941176</td>\n",
              "      <td>0.727273</td>\n",
              "    </tr>\n",
              "    <tr>\n",
              "      <th>3</th>\n",
              "      <td>K-Nearest Neighbors</td>\n",
              "      <td>0.912286</td>\n",
              "      <td>0.950893</td>\n",
              "      <td>0.418468</td>\n",
              "      <td>0.904000</td>\n",
              "      <td>0.885714</td>\n",
              "      <td>0.313131</td>\n",
              "    </tr>\n",
              "  </tbody>\n",
              "</table>\n",
              "</div>\n",
              "      <button class=\"colab-df-convert\" onclick=\"convertToInteractive('df-9176aee1-ae59-4e1e-9106-279b907cf620')\"\n",
              "              title=\"Convert this dataframe to an interactive table.\"\n",
              "              style=\"display:none;\">\n",
              "        \n",
              "  <svg xmlns=\"http://www.w3.org/2000/svg\" height=\"24px\"viewBox=\"0 0 24 24\"\n",
              "       width=\"24px\">\n",
              "    <path d=\"M0 0h24v24H0V0z\" fill=\"none\"/>\n",
              "    <path d=\"M18.56 5.44l.94 2.06.94-2.06 2.06-.94-2.06-.94-.94-2.06-.94 2.06-2.06.94zm-11 1L8.5 8.5l.94-2.06 2.06-.94-2.06-.94L8.5 2.5l-.94 2.06-2.06.94zm10 10l.94 2.06.94-2.06 2.06-.94-2.06-.94-.94-2.06-.94 2.06-2.06.94z\"/><path d=\"M17.41 7.96l-1.37-1.37c-.4-.4-.92-.59-1.43-.59-.52 0-1.04.2-1.43.59L10.3 9.45l-7.72 7.72c-.78.78-.78 2.05 0 2.83L4 21.41c.39.39.9.59 1.41.59.51 0 1.02-.2 1.41-.59l7.78-7.78 2.81-2.81c.8-.78.8-2.07 0-2.86zM5.41 20L4 18.59l7.72-7.72 1.47 1.35L5.41 20z\"/>\n",
              "  </svg>\n",
              "      </button>\n",
              "      \n",
              "  <style>\n",
              "    .colab-df-container {\n",
              "      display:flex;\n",
              "      flex-wrap:wrap;\n",
              "      gap: 12px;\n",
              "    }\n",
              "\n",
              "    .colab-df-convert {\n",
              "      background-color: #E8F0FE;\n",
              "      border: none;\n",
              "      border-radius: 50%;\n",
              "      cursor: pointer;\n",
              "      display: none;\n",
              "      fill: #1967D2;\n",
              "      height: 32px;\n",
              "      padding: 0 0 0 0;\n",
              "      width: 32px;\n",
              "    }\n",
              "\n",
              "    .colab-df-convert:hover {\n",
              "      background-color: #E2EBFA;\n",
              "      box-shadow: 0px 1px 2px rgba(60, 64, 67, 0.3), 0px 1px 3px 1px rgba(60, 64, 67, 0.15);\n",
              "      fill: #174EA6;\n",
              "    }\n",
              "\n",
              "    [theme=dark] .colab-df-convert {\n",
              "      background-color: #3B4455;\n",
              "      fill: #D2E3FC;\n",
              "    }\n",
              "\n",
              "    [theme=dark] .colab-df-convert:hover {\n",
              "      background-color: #434B5C;\n",
              "      box-shadow: 0px 1px 3px 1px rgba(0, 0, 0, 0.15);\n",
              "      filter: drop-shadow(0px 1px 2px rgba(0, 0, 0, 0.3));\n",
              "      fill: #FFFFFF;\n",
              "    }\n",
              "  </style>\n",
              "\n",
              "      <script>\n",
              "        const buttonEl =\n",
              "          document.querySelector('#df-9176aee1-ae59-4e1e-9106-279b907cf620 button.colab-df-convert');\n",
              "        buttonEl.style.display =\n",
              "          google.colab.kernel.accessAllowed ? 'block' : 'none';\n",
              "\n",
              "        async function convertToInteractive(key) {\n",
              "          const element = document.querySelector('#df-9176aee1-ae59-4e1e-9106-279b907cf620');\n",
              "          const dataTable =\n",
              "            await google.colab.kernel.invokeFunction('convertToInteractive',\n",
              "                                                     [key], {});\n",
              "          if (!dataTable) return;\n",
              "\n",
              "          const docLinkHtml = 'Like what you see? Visit the ' +\n",
              "            '<a target=\"_blank\" href=https://colab.research.google.com/notebooks/data_table.ipynb>data table notebook</a>'\n",
              "            + ' to learn more about interactive tables.';\n",
              "          element.innerHTML = '';\n",
              "          dataTable['output_type'] = 'display_data';\n",
              "          await google.colab.output.renderOutput(dataTable, element);\n",
              "          const docLink = document.createElement('div');\n",
              "          docLink.innerHTML = docLinkHtml;\n",
              "          element.appendChild(docLink);\n",
              "        }\n",
              "      </script>\n",
              "    </div>\n",
              "  </div>\n",
              "  "
            ]
          },
          "metadata": {},
          "execution_count": 98
        }
      ]
    }
  ]
}